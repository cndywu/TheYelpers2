{
 "cells": [
  {
   "cell_type": "raw",
   "id": "33dd6c4c",
   "metadata": {},
   "source": [
    "---\n",
    "title: \"Project proposal\"\n",
    "format: \n",
    "  html:\n",
    "    toc: true\n",
    "    toc-title: Contents\n",
    "    code-fold: show\n",
    "    self-contained: true\n",
    "jupyter: python3\n",
    "---"
   ]
  },
  {
   "cell_type": "markdown",
   "id": "0116f49b",
   "metadata": {},
   "source": [
    "## Instructions {-}\n",
    "\n",
    "1. Please answer the following questions as part of your project proposal.\n",
    "\n",
    "2. Write your answers in the *Markdown* cells of the Jupyter notebook. You don't need to write any code, but if you want to, you may use the *Code* cells.\n",
    "\n",
    "3. Use [Quarto](https://quarto.org/docs/output-formats/html-basics.html) to print the *.ipynb* file as HTML. You will need to open the command prompt, navigate to the directory containing the file, and use the command: `quarto render filename.ipynb --to html`. Submit the HTML file.\n",
    "\n",
    "4. The project proposal is worth 8 points, and is due on **18th April 2023 at 11:59 pm**. \n",
    "\n",
    "5. You must make one submission as a group, and not individually.\n",
    "\n",
    "6. Maintaining a GitHub repository is optional, though encouraged for the project.\n",
    "\n",
    "7. Share the link of your project's GitHub repository [here](https://docs.google.com/spreadsheets/d/1khao3unpj_vsx4kOSg_Zzo77YK1UWL2w73Oa0aAirOo/edit#gid=0) (optional)."
   ]
  },
  {
   "cell_type": "markdown",
   "id": "fe7ea9bb",
   "metadata": {},
   "source": [
    "# 1) Team name\n",
    "Mention your team name.\n",
    "\n",
    "*(0 points)*"
   ]
  },
  {
   "cell_type": "markdown",
   "id": "eea3d7a8",
   "metadata": {},
   "source": [
    "The Yelpers"
   ]
  },
  {
   "cell_type": "markdown",
   "id": "16fccc9b",
   "metadata": {},
   "source": [
    "# 2) Member names\n",
    "Mention the names of your team members.\n",
    "\n",
    "*(0 points)*"
   ]
  },
  {
   "cell_type": "markdown",
   "id": "385e55c3",
   "metadata": {},
   "source": [
    "Cindy Wu, Keaton Olds, Michael Kim, Sabrina Kozarovitsky"
   ]
  },
  {
   "cell_type": "markdown",
   "id": "220a6528",
   "metadata": {},
   "source": [
    "# 3) Link to the GitHub repository (optional)\n",
    "Share the link of the team's project repository on GitHub.\n",
    "\n",
    "Also, put the link of your project's GitHub repository [here](https://docs.google.com/spreadsheets/d/1khao3unpj_vsx4kOSg_Zzo77YK1UWL2w73Oa0aAirOo/edit#gid=0).\n",
    "\n",
    "We believe there is no harm in having other teams view your GitHub repository. However, if you don't want anyone to see your team's work, you may make the repository *Private* and add your instructor and graduate TA as *Colloborators* in it.\n",
    "\n",
    "*(0 points)*"
   ]
  },
  {
   "cell_type": "markdown",
   "id": "16c1a490",
   "metadata": {},
   "source": [
    "# 4) Topic\n",
    "Mention the topic of your course project.\n",
    "\n",
    "*(0 points)*"
   ]
  },
  {
   "cell_type": "markdown",
   "id": "4850d01d",
   "metadata": {},
   "source": [
    "The topic of our course project is developing a model to predict wine quality (good or bad) and the type of wine (red or white) from physicochemical properties of various wine samples. We hope to develop a model with high accuracy (relative to existing solutions from a study) to give our stakeholders a useful model in predicting wine quality or the type of wine a sample might be based on these physicochemical properties measured."
   ]
  },
  {
   "cell_type": "markdown",
   "id": "9403cdfb",
   "metadata": {},
   "source": [
    "# 5) Problem statement\n",
    "\n",
    "*(4 points)*\n",
    "\n",
    "Explain the problem statement. The problem statement must include:\n",
    "\n",
    "## 5a) The problem"
   ]
  },
  {
   "cell_type": "markdown",
   "id": "9a0dee45",
   "metadata": {},
   "source": [
    "## 5b) Type of response\n",
    "Is it about predicting a continuous response or a binary response or a combination of both?"
   ]
  },
  {
   "cell_type": "markdown",
   "id": "2c8cb75b",
   "metadata": {},
   "source": [
    "## 5c) Performance metric\n",
    "How will you assess model accuracy?\n",
    "\n",
    "  - If it is a classification problem, then which measure(s) will you optimize for your model – precision, recall, false negative rate (FNR), accuracy, ROC-AUC etc., and why?\n",
    "  - If it is a regression problem, then which measure(s) will you optimize for your model – RMSE (Root mean squared error), MAE (mean absolute error), maximum absolute error etc., and why?"
   ]
  },
  {
   "cell_type": "markdown",
   "id": "57701e9e",
   "metadata": {},
   "source": [
    "## 5d) Naive model accuracy\n",
    "What is the accuracy of the naive model (Standard deviation of response in case of continuous response / proportion of the majority class in case of classification model)"
   ]
  },
  {
   "cell_type": "markdown",
   "id": "8589d7e4",
   "metadata": {},
   "source": [
    "a.) For this problem, we want to understand and develop a model to predict the quality of wine (good or bad) and the type of wine (red or white) based on physicochemical properties (pH, sulphates, fixed acidity, etc.) of different wine samples.\n",
    "\n",
    "b.) Because we are trying to focus on predicting both a binary response (red or white wine type) and another binary response (wine quality on a scale from 1-10, with >=6 being good and <6 being bad), our problem is about predicting a combination of two binary responses.\n",
    "\n",
    "c.) In the case of both of our classification problems for the two binary responses, we will look at the metrics of precision, recall, ROC-AUC score, accuracy, and FNR. Notably, we will take particular interest in optimizing accuracy, since we want to make sure we are beating the naive model in predicting a greater proportion of corect predictions compared to total predictions. Although we believe that false negatives and false positives are equally important in our scenario, we will look at both precision and recall to be optimized, in addition to examining closer ROC-AUC score to see if our model distinguishes between positive and negative samples well. Other metrics like FNR would be good to see to supplement our prior metrics we will use to analyze our model when it comes to ensuring it is optimized to accurately predict negatives by the model.  \n",
    "\n",
    "d.) The proportion of the majority class for our predicting wine quality (good, being >= 6 quality score) for the red wine dataset is 855/1599 = 0.5347, while the proportion of the same majority class for the white wine dataset is 3258/4898 = 0.6652, meaning that combining the two datasets will give an accuracy of the naive model of 4113/6497 = 0.6331. The proportion of the majority class for our predicting wine type (white) will be 4898/6497 = 0.7539 for the combined dataset from the two separate datasets. We may use techniques like SMOTE to aid in our analysis and prediction of these two binary response variables."
   ]
  },
  {
   "cell_type": "markdown",
   "id": "3eb2d4f2",
   "metadata": {},
   "source": [
    "# 6) Data\n",
    "\n",
    "## 6a) Source\n",
    "What data sources will you use, and how will the data help solve the problem? Explain.\n",
    "If the data is open source, share the link of the data.\n",
    "\n",
    "*(0.5 point)*"
   ]
  },
  {
   "cell_type": "markdown",
   "id": "f6d38249",
   "metadata": {},
   "source": [
    "Our data is the Wine Quality Data Set from the UCI Machine Learning Repository. The link to download the data is http://www3.dsi.uminho.pt/pcortez/wine/ and the link of the source is https://archive.ics.uci.edu/ml/datasets/Wine+Quality This data will help us solve the problem, as it contains the quality score of each wine and 11 different physicochemical predictors. Additionally, we will combine the two datasets of red and white wine samples to possibly use the type of wine (red or white) as predictors, along with the rest of the previously mentioned 12 variables (including quality score) as predictors for the type of wine (red or white)."
   ]
  },
  {
   "cell_type": "markdown",
   "id": "87bee818",
   "metadata": {},
   "source": [
    "## 6b) Response & predictors\n",
    "What is the response, and mention some of the predictors.\n",
    "\n",
    "*(0.5 point)*"
   ]
  },
  {
   "cell_type": "markdown",
   "id": "fe8dc735",
   "metadata": {},
   "source": [
    "The response is quality - we will work with an existing variable, quality (a value between 0 and 10), to create a binary response variable for quality being good when the value is >= 6 and bad when the value is < 6. Some of the predictors include various physicochemical properties that are continuous variables, including fixed acidity, volatile acidity, citric acid, residual sugar, chlorides, and pH."
   ]
  },
  {
   "cell_type": "markdown",
   "id": "8eb561c3",
   "metadata": {},
   "source": [
    "## 6c) Size\n",
    "What is the number of continuous predictors, categorical predictors, and observations in your dataset(s). If you are using multiple datasets, please provide the information for each dataset. When counting predictors, count only those that have sufficient non-missing values, and will be useful.\n",
    "\n",
    "*(1 point)*"
   ]
  },
  {
   "cell_type": "markdown",
   "id": "7f1f79b4",
   "metadata": {},
   "source": [
    "The red wine dataset has 11 continuous predictors (fixed acidity, volatile acidity, citric acid, residual sugar, chlorides, free sulfur dioxide, total sulfur dioxide, density, pH, sulphates, alcohol) and no categorical predictors. There are 1599 observations and no missing values. \n",
    "\n",
    "The white wine dataset has the same 11 continuous predictors and also no categorical predictors. There are 4898 observations in the white wine dataset with no missing values.\n",
    "\n",
    "We will be getting and using one categorical predictor after we merge the two datasets for red and white wine and add a binary response variable for the wine type (being red or white) [however, there is no categorical predictors without us manipulating the data this way]."
   ]
  },
  {
   "cell_type": "markdown",
   "id": "0450286f",
   "metadata": {},
   "source": [
    "# 7) Exisiting solutions\n",
    "Are there existing solutions of your problem? Almost all Kaggle datasets have exisiting solutions. If yes, then how do you plan to build up on those solutions? **What is the highest model accuracy / performance achieved in the existing solutions?**\n",
    "\n",
    "*(1 point)*"
   ]
  },
  {
   "cell_type": "markdown",
   "id": "f524a581",
   "metadata": {},
   "source": [
    "There aren't too many existing solutions of our problem, as we didn't find this dataset on Kaggle. However, we did find one, which was featured in a paper called \"Modeling wine preferences by data mining from physicochemical properties\", authored by Paulo Cortez, António Cerdeira, Fernando Almeida, Telmo Matos, and José Reis. Their study aimed to model wine quality based on many of the same factors in our dataset. They allowed some degree of error tolerance when computing their accuracy. When they allowed an error tolerance of 0.5, their prediction accuracy for red wine was roughly 60% for the more frequent ratings (5-7) and less than 20% for the less frequent ratings (especially 3 and 4). The prediction accuracy for white wine was marginally better, with an accuracy of roughly 70% for frequent ratings. However, the accuracy for more extreme values (3 and 9) was close to 0%. \n",
    "\n",
    "In terms of how we're going to build upon their methodology, as we mentioned in our problem statement, we hope to incorporate predicting two binary responses for both the quality and wine type. Additionally, we will possibly incorporate the type of wine as a predictor for quality, along with the usage of various class techniques/models we learn throughout this quarter that will be introduced to hopefully increase accuracy. Further, because our binary response variable is slightly different that their approach and response variable, this will make our findings and models different."
   ]
  },
  {
   "cell_type": "markdown",
   "id": "cb8a845f",
   "metadata": {},
   "source": [
    "# 8) Stakeholders"
   ]
  },
  {
   "cell_type": "markdown",
   "id": "d39c782c",
   "metadata": {},
   "source": [
    "Who are the stakeholders, and how will your project benefit them? Explain.\n",
    "\n",
    "*(1 point)*"
   ]
  },
  {
   "cell_type": "markdown",
   "id": "ed6accb3",
   "metadata": {},
   "source": [
    "There are a couple of stakeholders.\n",
    "1) wine tasters: wine tasters can use our model to predict the quality of wine and use that information to see how their ratings connect with the quality of wine to see if they are able to identify good quality wine. Because the quality of wine score was the median of wine expert evaluations, this may be a good benchmark of comparison for testing their opinions against other industry opinions.\n",
    "\n",
    "2) wine producers: by using this model, wine producers can understand which of their wine products is of the highest quality and price their products accordingly. They will likely test their wine in the lab for these very same phyisicochemical properties, so they can guage customer and wine expert responses based on the predicted quality score for new or existing wine products.\n",
    "\n",
    "3) consumers/buyers: before purchasing wine, the buyers can use this model to predict the quality of the wine. Using this information, they can then judge the price of the wine and determine whether they're overpaying or not if they have access to tested lab samples for physicochemical properties like the ones used in the datasets."
   ]
  },
  {
   "cell_type": "markdown",
   "id": "0c874b4f",
   "metadata": {},
   "source": [
    "# 9) Work-split\n",
    "*(This question is answered for you)*\n",
    "\n",
    "How do you plan to split the project work amongst individual team members?\n",
    "\n",
    "We will learn to develop and tune the following models in the STAT303 sequence:\n",
    "\n",
    "1. MARS\n",
    "\n",
    "2. Decision trees with cost-complexity pruning\n",
    "\n",
    "3. Bagging (Bagging MARS / decision trees)\n",
    "\n",
    "4. Random Forests\n",
    "\n",
    "5. AdaBoost\n",
    "\n",
    "6. Gradient boosting\n",
    "\n",
    "7. XGBoost\n",
    "\n",
    "8. Lasso / Ridge / Stepwise selection \n",
    "\n",
    "Each team member is required to develop and tune at least one of the above models. In the end, the team will combine all the developed models to create a model more accurate than each of the individual models.\n",
    "\n",
    "*(0 points)*"
   ]
  }
 ],
 "metadata": {
  "kernelspec": {
   "display_name": "Python 3 (ipykernel)",
   "language": "python",
   "name": "python3"
  },
  "language_info": {
   "codemirror_mode": {
    "name": "ipython",
    "version": 3
   },
   "file_extension": ".py",
   "mimetype": "text/x-python",
   "name": "python",
   "nbconvert_exporter": "python",
   "pygments_lexer": "ipython3",
   "version": "3.9.7"
  }
 },
 "nbformat": 4,
 "nbformat_minor": 5
}
