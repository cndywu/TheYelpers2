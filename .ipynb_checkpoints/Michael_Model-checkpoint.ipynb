{
 "cells": [
  {
   "cell_type": "code",
   "execution_count": 1,
   "id": "4188eba0",
   "metadata": {},
   "outputs": [],
   "source": [
    "import pandas as pd\n",
    "import numpy as np\n",
    "import seaborn as sns\n",
    "import matplotlib.pyplot as plt\n",
    "from sklearn.metrics import mean_squared_error\n",
    "from sklearn.model_selection import cross_val_score,train_test_split\n",
    "from sklearn.metrics import mean_squared_error, r2_score, mean_absolute_error, precision_recall_curve, accuracy_score, recall_score\n",
    "from sklearn.model_selection import KFold, StratifiedKFold\n",
    "from sklearn.tree import DecisionTreeRegressor, DecisionTreeClassifier\n",
    "from sklearn.model_selection import GridSearchCV, ParameterGrid, cross_val_predict\n",
    "from sklearn.tree import export_graphviz \n",
    "from six import StringIO\n",
    "from IPython.display import Image  \n",
    "import time as tm\n",
    "from sklearn.ensemble import BaggingRegressor, BaggingClassifier, RandomForestRegressor, RandomForestClassifier\n",
    "import warnings\n",
    "warnings.filterwarnings(\"ignore\")\n",
    "from sklearn.linear_model import LinearRegression, LogisticRegression\n",
    "import itertools as it"
   ]
  },
  {
   "cell_type": "markdown",
   "id": "2a8ba8f4",
   "metadata": {},
   "source": [
    "The below code was used to split the data into train and test for both red and white wine."
   ]
  },
  {
   "cell_type": "code",
   "execution_count": 5,
   "id": "9ecf1f41",
   "metadata": {},
   "outputs": [],
   "source": [
    "red = pd.read_csv('winequality-red.csv', delimiter = ';')\n",
    "white = pd.read_csv('winequality-white.csv', delimiter = ';')"
   ]
  },
  {
   "cell_type": "code",
   "execution_count": 9,
   "id": "135ae843",
   "metadata": {},
   "outputs": [],
   "source": [
    "red_train, red_test = train_test_split(red, test_size = 0.25)"
   ]
  },
  {
   "cell_type": "code",
   "execution_count": 12,
   "id": "f57e26ca",
   "metadata": {},
   "outputs": [],
   "source": [
    "white_train, white_test = train_test_split(white, test_size = 0.25)"
   ]
  },
  {
   "cell_type": "code",
   "execution_count": 15,
   "id": "f4ac3437",
   "metadata": {},
   "outputs": [],
   "source": [
    "red_train.to_csv('red_train.csv', index = False)\n",
    "red_test.to_csv('red_test.csv', index = False)\n",
    "white_train.to_csv('white_train.csv', index = False)\n",
    "white_test.to_csv('white_test.csv', index = False)"
   ]
  },
  {
   "cell_type": "markdown",
   "id": "c80112cc",
   "metadata": {},
   "source": [
    "The below code starts after splitting the train and test for red and white wine."
   ]
  },
  {
   "cell_type": "code",
   "execution_count": null,
   "id": "6be49ed4",
   "metadata": {},
   "outputs": [],
   "source": []
  }
 ],
 "metadata": {
  "kernelspec": {
   "display_name": "Python 3",
   "language": "python",
   "name": "python3"
  },
  "language_info": {
   "codemirror_mode": {
    "name": "ipython",
    "version": 3
   },
   "file_extension": ".py",
   "mimetype": "text/x-python",
   "name": "python",
   "nbconvert_exporter": "python",
   "pygments_lexer": "ipython3",
   "version": "3.6.13"
  }
 },
 "nbformat": 4,
 "nbformat_minor": 5
}
