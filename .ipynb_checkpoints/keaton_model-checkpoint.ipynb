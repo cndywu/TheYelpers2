{
 "cells": [
  {
   "cell_type": "code",
   "execution_count": 1,
   "id": "d51fb38e",
   "metadata": {},
   "outputs": [],
   "source": [
    "import pandas as pd\n",
    "import numpy as np\n",
    "import seaborn as sns\n",
    "import matplotlib.pyplot as plt\n",
    "from sklearn.metrics import mean_squared_error, mean_absolute_error\n",
    "from sklearn.model_selection import cross_val_score,train_test_split, KFold, cross_val_predict\n",
    "from sklearn.metrics import mean_squared_error,r2_score,roc_curve,auc,precision_recall_curve, accuracy_score, \\\n",
    "recall_score, precision_score, confusion_matrix\n",
    "from sklearn.tree import DecisionTreeRegressor,DecisionTreeClassifier\n",
    "from sklearn.model_selection import GridSearchCV, ParameterGrid, StratifiedKFold, RandomizedSearchCV\n",
    "from sklearn.ensemble import GradientBoostingRegressor,GradientBoostingClassifier, BaggingRegressor,BaggingClassifier,RandomForestRegressor,RandomForestClassifier,AdaBoostRegressor,AdaBoostClassifier\n",
    "from sklearn.linear_model import LinearRegression,LogisticRegression\n",
    "from sklearn.neighbors import KNeighborsRegressor\n",
    "import itertools as it\n",
    "import time as time\n",
    "import xgboost as xgb\n",
    "from pyearth import Earth"
   ]
  },
  {
   "cell_type": "markdown",
   "id": "70b135dc",
   "metadata": {},
   "source": [
    "# Load and Prepare Data"
   ]
  },
  {
   "cell_type": "code",
   "execution_count": 65,
   "id": "aa35bffa",
   "metadata": {},
   "outputs": [],
   "source": [
    "red_train_x = pd.read_csv('red_train_x.csv')\n",
    "white_train_x = pd.read_csv('white_train_x.csv')\n",
    "red_train_y = pd.read_csv('red_train_y.csv')\n",
    "white_train_y = pd.read_csv('white_train_y.csv')\n",
    "red_test_x = pd.read_csv('red_test_x.csv')\n",
    "white_test_x = pd.read_csv('white_test_x.csv')\n",
    "red_test_y = pd.read_csv('red_test_y.csv')\n",
    "white_test_y = pd.read_csv('white_test_y.csv')\n",
    "combined_train_x = pd.read_csv(\"combined_train_x\")\n",
    "combined_train_y = pd.read_csv(\"combined_train_y\")\n",
    "combined_test_x = pd.read_csv(\"combined_test_x\")\n",
    "combined_test_y = pd.read_csv(\"combined_test_y\")"
   ]
  },
  {
   "cell_type": "markdown",
   "id": "d1d52bc0",
   "metadata": {},
   "source": [
    "# Create Base XGBoost Models"
   ]
  },
  {
   "cell_type": "markdown",
   "id": "43a5a941",
   "metadata": {},
   "source": [
    "## Red Model"
   ]
  },
  {
   "cell_type": "code",
   "execution_count": 66,
   "id": "ea3ba5e0",
   "metadata": {},
   "outputs": [
    {
     "name": "stdout",
     "output_type": "stream",
     "text": [
      "MAE for red base model:  0.4225\n"
     ]
    }
   ],
   "source": [
    "red_model = xgb.XGBRegressor().fit(red_train_x, red_train_y)\n",
    "mae = mean_absolute_error(red_test_y, np.around(red_model.predict(red_test_x)))\n",
    "print('MAE for red base model: ', mae)"
   ]
  },
  {
   "cell_type": "code",
   "execution_count": 67,
   "id": "f2d44c73",
   "metadata": {},
   "outputs": [
    {
     "data": {
      "text/plain": [
       "0.7053367989832943"
      ]
     },
     "execution_count": 67,
     "metadata": {},
     "output_type": "execute_result"
    }
   ],
   "source": [
    "np.sqrt(mean_squared_error(red_test_y, np.around(red_model.predict(red_test_x))))"
   ]
  },
  {
   "cell_type": "markdown",
   "id": "23f82ce8",
   "metadata": {},
   "source": [
    "## White Model"
   ]
  },
  {
   "cell_type": "code",
   "execution_count": 68,
   "id": "db9b7461",
   "metadata": {},
   "outputs": [
    {
     "name": "stdout",
     "output_type": "stream",
     "text": [
      "MAE for white base model:  0.37551020408163266\n"
     ]
    }
   ],
   "source": [
    "white_model = xgb.XGBRegressor().fit(white_train_x, white_train_y)\n",
    "mae = mean_absolute_error(white_test_y, np.around(white_model.predict(white_test_x)))\n",
    "print('MAE for white base model: ', mae)"
   ]
  },
  {
   "cell_type": "code",
   "execution_count": 69,
   "id": "bb6794fd",
   "metadata": {},
   "outputs": [
    {
     "data": {
      "text/plain": [
       "0.6737043498600912"
      ]
     },
     "execution_count": 69,
     "metadata": {},
     "output_type": "execute_result"
    }
   ],
   "source": [
    "np.sqrt(mean_squared_error(white_test_y, np.around(white_model.predict(white_test_x))))"
   ]
  },
  {
   "cell_type": "markdown",
   "id": "92f17c39",
   "metadata": {},
   "source": [
    "## Combined Model"
   ]
  },
  {
   "cell_type": "code",
   "execution_count": 70,
   "id": "74e88392",
   "metadata": {},
   "outputs": [
    {
     "name": "stdout",
     "output_type": "stream",
     "text": [
      "MAE for combined base model:  0.3944615384615385\n"
     ]
    }
   ],
   "source": [
    "combined_model = xgb.XGBRegressor().fit(combined_train_x, combined_train_y)\n",
    "mae = mean_absolute_error(combined_test_y, np.around(combined_model.predict(combined_test_x)))\n",
    "print('MAE for combined base model: ', mae)"
   ]
  },
  {
   "cell_type": "code",
   "execution_count": 71,
   "id": "7b959110",
   "metadata": {},
   "outputs": [
    {
     "data": {
      "text/plain": [
       "0.689704507519204"
      ]
     },
     "execution_count": 71,
     "metadata": {},
     "output_type": "execute_result"
    }
   ],
   "source": [
    "np.sqrt(mean_squared_error(combined_test_y, np.around(combined_model.predict(combined_test_x))))"
   ]
  },
  {
   "cell_type": "markdown",
   "id": "332ebcf4",
   "metadata": {},
   "source": [
    "# Tuning Models"
   ]
  },
  {
   "cell_type": "markdown",
   "id": "4cf8e46d",
   "metadata": {},
   "source": [
    "## Red Model"
   ]
  },
  {
   "cell_type": "markdown",
   "id": "2b61f37d",
   "metadata": {},
   "source": [
    "### MAE OPTIMAL"
   ]
  },
  {
   "cell_type": "code",
   "execution_count": 72,
   "id": "b645d5d1",
   "metadata": {},
   "outputs": [
    {
     "name": "stdout",
     "output_type": "stream",
     "text": [
      "Fitting 5 folds for each of 200 candidates, totalling 1000 fits\n"
     ]
    },
    {
     "name": "stderr",
     "output_type": "stream",
     "text": [
      "/Users/keatonolds/opt/anaconda3/lib/python3.9/site-packages/joblib/externals/loky/process_executor.py:702: UserWarning: A worker stopped while some jobs were given to the executor. This can be caused by a too short worker timeout or by a memory leak.\n",
      "  warnings.warn(\n"
     ]
    },
    {
     "name": "stdout",
     "output_type": "stream",
     "text": [
      "Best: 0.630872 using {'subsample': 0.75, 'reg_lambda': 0, 'n_estimators': 100, 'max_depth': 14, 'learning_rate': 0.1, 'gamma': 0, 'colsample_bytree': 1.0}\n",
      "Time taken =  1.3804953535397848  minutes\n"
     ]
    }
   ],
   "source": [
    "start_time = time.time()\n",
    "param_grid = {'max_depth': [2, 8, 14],\n",
    "              'n_estimators': [50, 100, 500, 1000],\n",
    "              'learning_rate': [0.001, 0.01, 0.1],\n",
    "              'subsample': [0.5, 0.75, 1],\n",
    "              'colsample_bytree': [0.5, 0.75, 1.0],\n",
    "              'reg_lambda':[0, 1, 10],\n",
    "              'gamma': [0, 10]}\n",
    "\n",
    "cv = KFold(n_splits=5,shuffle=True,random_state=1)\n",
    "grid_search = RandomizedSearchCV(estimator=xgb.XGBRegressor(random_state=1),                                                       \n",
    "                             param_distributions = param_grid,\n",
    "                                 n_iter = 200,\n",
    "                             verbose = 1,\n",
    "                             n_jobs=-1,\n",
    "                             cv = cv,\n",
    "                          scoring = 'neg_mean_absolute_error')\n",
    "grid_result = grid_search.fit(red_train_x, red_train_y)\n",
    "\n",
    "print(\"Best: %f using %s\" % (np.sqrt(-grid_result.best_score_), grid_result.best_params_))\n",
    "print(\"Time taken = \",(time.time()-start_time)/60,\" minutes\")"
   ]
  },
  {
   "cell_type": "code",
   "execution_count": 97,
   "id": "9d5ce11b",
   "metadata": {},
   "outputs": [
    {
     "name": "stdout",
     "output_type": "stream",
     "text": [
      "Fitting 5 folds for each of 972 candidates, totalling 4860 fits\n",
      "Best: 0.624138 using {'colsample_bytree': 1, 'gamma': 0, 'learning_rate': 0.05, 'max_depth': 12, 'n_estimators': 400, 'reg_lambda': 0.2}\n",
      "Time taken =  9.039521582921346  minutes\n"
     ]
    }
   ],
   "source": [
    "start_time = time.time()\n",
    "param_grid = {'max_depth': [12, 14, 16],\n",
    "              'n_estimators': [100, 200, 300, 400],\n",
    "              'learning_rate': [0.05, 0.1, 0.5],\n",
    "              'colsample_bytree': [0.8, 0.9, 1],\n",
    "              'reg_lambda':[0, 0.1, 0.2],\n",
    "              'gamma': [0, 0.5, 1]}\n",
    "\n",
    "cv = KFold(n_splits=5,shuffle=True,random_state=1)\n",
    "grid_search = GridSearchCV(estimator=xgb.XGBRegressor(random_state=1, subsample = 0.75),                                                       \n",
    "                             param_grid = param_grid,\n",
    "                             verbose = 1,\n",
    "                             n_jobs=-1,\n",
    "                             cv = cv,\n",
    "                          scoring = 'neg_mean_absolute_error')\n",
    "grid_result = grid_search.fit(red_train_x, red_train_y)\n",
    "\n",
    "print(\"Best: %f using %s\" % (np.sqrt(-grid_result.best_score_), grid_result.best_params_))\n",
    "print(\"Time taken = \",(time.time()-start_time)/60,\" minutes\")"
   ]
  },
  {
   "cell_type": "code",
   "execution_count": 99,
   "id": "8b2c1a60",
   "metadata": {},
   "outputs": [
    {
     "name": "stdout",
     "output_type": "stream",
     "text": [
      "Fitting 5 folds for each of 20 candidates, totalling 100 fits\n",
      "Best: 0.624138 using {'colsample_bytree': 1, 'gamma': 0, 'learning_rate': 0.05, 'max_depth': 12, 'n_estimators': 400, 'reg_lambda': 0.2}\n",
      "Time taken =  0.28086400032043457  minutes\n"
     ]
    }
   ],
   "source": [
    "start_time = time.time()\n",
    "param_grid = {'max_depth': [8,9,10,11,12],\n",
    "              'n_estimators': [400],\n",
    "              'learning_rate': [0.05],\n",
    "              'colsample_bytree': [1],\n",
    "              'reg_lambda':[0.2, 0.3, 0.4, 0.5],\n",
    "              'gamma': [0]}\n",
    "\n",
    "cv = KFold(n_splits=5,shuffle=True,random_state=1)\n",
    "grid_search = GridSearchCV(estimator=xgb.XGBRegressor(random_state=1, subsample = 0.75),                                                       \n",
    "                             param_grid = param_grid,\n",
    "                             verbose = 1,\n",
    "                             n_jobs=-1,\n",
    "                             cv = cv,\n",
    "                          scoring = 'neg_mean_absolute_error')\n",
    "grid_result = grid_search.fit(red_train_x, red_train_y)\n",
    "\n",
    "print(\"Best: %f using %s\" % (np.sqrt(-grid_result.best_score_), grid_result.best_params_))\n",
    "print(\"Time taken = \",(time.time()-start_time)/60,\" minutes\")"
   ]
  },
  {
   "cell_type": "code",
   "execution_count": 102,
   "id": "021496f6",
   "metadata": {},
   "outputs": [
    {
     "name": "stdout",
     "output_type": "stream",
     "text": [
      "MAE for red tuned model:  0.3725\n"
     ]
    }
   ],
   "source": [
    "red_model_tuned = xgb.XGBRegressor(random_state = 1, gamma = 0, learning_rate = 0.05, max_depth = 9, n_estimators = 400,\n",
    "                                  reg_lambda = 0.1, subsample = 0.75, colsample_bytree = 0.8).fit(red_train_x, red_train_y)\n",
    "mae = mean_absolute_error(red_test_y, np.around(red_model_tuned.predict(red_test_x)))\n",
    "print('MAE for red tuned model: ', mae)"
   ]
  },
  {
   "cell_type": "code",
   "execution_count": 87,
   "id": "783ee990",
   "metadata": {},
   "outputs": [
    {
     "data": {
      "text/plain": [
       "0.6652067347825036"
      ]
     },
     "execution_count": 87,
     "metadata": {},
     "output_type": "execute_result"
    }
   ],
   "source": [
    "np.sqrt(mean_squared_error(red_test_y, np.around(red_model_tuned.predict(red_test_x))))"
   ]
  },
  {
   "cell_type": "markdown",
   "id": "b9e5937b",
   "metadata": {},
   "source": [
    "### RMSE OPTIMAL"
   ]
  },
  {
   "cell_type": "code",
   "execution_count": 88,
   "id": "8ad3531f",
   "metadata": {},
   "outputs": [
    {
     "name": "stdout",
     "output_type": "stream",
     "text": [
      "Fitting 5 folds for each of 200 candidates, totalling 1000 fits\n"
     ]
    },
    {
     "name": "stderr",
     "output_type": "stream",
     "text": [
      "/Users/keatonolds/opt/anaconda3/lib/python3.9/site-packages/joblib/externals/loky/process_executor.py:702: UserWarning: A worker stopped while some jobs were given to the executor. This can be caused by a too short worker timeout or by a memory leak.\n",
      "  warnings.warn(\n"
     ]
    },
    {
     "name": "stdout",
     "output_type": "stream",
     "text": [
      "Best: 0.577629 using {'subsample': 0.75, 'reg_lambda': 1, 'n_estimators': 1000, 'max_depth': 8, 'learning_rate': 0.01, 'gamma': 0, 'colsample_bytree': 0.75}\n",
      "Time taken =  1.7339248339335123  minutes\n"
     ]
    }
   ],
   "source": [
    "start_time = time.time()\n",
    "param_grid = {'max_depth': [2, 8, 14],\n",
    "              'n_estimators': [50, 100, 500, 1000],\n",
    "              'learning_rate': [0.001, 0.01, 0.1],\n",
    "              'subsample': [0.5, 0.75, 1],\n",
    "              'colsample_bytree': [0.5, 0.75, 1.0],\n",
    "              'reg_lambda':[0, 1, 10],\n",
    "              'gamma': [0, 10]}\n",
    "\n",
    "cv = KFold(n_splits=5,shuffle=True,random_state=1)\n",
    "grid_search = RandomizedSearchCV(estimator=xgb.XGBRegressor(random_state=1),                                                       \n",
    "                             param_distributions = param_grid,\n",
    "                                 n_iter = 200,\n",
    "                             verbose = 1,\n",
    "                             n_jobs=-1,\n",
    "                             cv = cv,\n",
    "                          scoring = 'neg_mean_squared_error')\n",
    "grid_result = grid_search.fit(red_train_x, red_train_y)\n",
    "\n",
    "print(\"Best: %f using %s\" % (np.sqrt(-grid_result.best_score_), grid_result.best_params_))\n",
    "print(\"Time taken = \",(time.time()-start_time)/60,\" minutes\")"
   ]
  },
  {
   "cell_type": "code",
   "execution_count": 90,
   "id": "5c29d374",
   "metadata": {},
   "outputs": [
    {
     "name": "stdout",
     "output_type": "stream",
     "text": [
      "Fitting 2 folds for each of 200 candidates, totalling 400 fits\n",
      "Best: 0.626779 using {'subsample': 0.75, 'reg_lambda': 0.5, 'n_estimators': 2000, 'max_depth': 10, 'learning_rate': 0.01, 'gamma': 0, 'colsample_bytree': 0.75}\n",
      "Time taken =  2.272305949529012  minutes\n"
     ]
    }
   ],
   "source": [
    "start_time = time.time()\n",
    "param_grid = {'max_depth': [7, 8, 9, 10],\n",
    "              'n_estimators': [1000, 2000, 3000],\n",
    "              'learning_rate': [0.01, 0.025, 0.05],\n",
    "              'subsample': [0.75],\n",
    "              'colsample_bytree': [0.75],\n",
    "              'reg_lambda':[0.5, 1, 1.5],\n",
    "              'gamma': [0, 0.1, 0.2]}\n",
    "\n",
    "cv = KFold(n_splits=2,shuffle=True,random_state=1)\n",
    "grid_search = RandomizedSearchCV(estimator=xgb.XGBRegressor(random_state=1),                                                       \n",
    "                             param_distributions = param_grid,\n",
    "                                 n_iter = 200,\n",
    "                             verbose = 1,\n",
    "                             n_jobs=-1,\n",
    "                             cv = cv,\n",
    "                          scoring = 'neg_mean_squared_error')\n",
    "grid_result = grid_search.fit(red_train_x, red_train_y)\n",
    "\n",
    "print(\"Best: %f using %s\" % (np.sqrt(-grid_result.best_score_), grid_result.best_params_))\n",
    "print(\"Time taken = \",(time.time()-start_time)/60,\" minutes\")"
   ]
  },
  {
   "cell_type": "code",
   "execution_count": 91,
   "id": "5f9afda6",
   "metadata": {},
   "outputs": [
    {
     "name": "stderr",
     "output_type": "stream",
     "text": [
      "/Users/keatonolds/opt/anaconda3/lib/python3.9/site-packages/sklearn/model_selection/_search.py:292: UserWarning: The total space of parameters 120 is smaller than n_iter=200. Running 120 iterations. For exhaustive searches, use GridSearchCV.\n",
      "  warnings.warn(\n"
     ]
    },
    {
     "name": "stdout",
     "output_type": "stream",
     "text": [
      "Fitting 2 folds for each of 120 candidates, totalling 240 fits\n",
      "Best: 0.624200 using {'subsample': 0.75, 'reg_lambda': 0.2, 'n_estimators': 1500, 'max_depth': 10, 'learning_rate': 0.01, 'gamma': 0, 'colsample_bytree': 0.75}\n",
      "Time taken =  1.9386982878049215  minutes\n"
     ]
    }
   ],
   "source": [
    "start_time = time.time()\n",
    "param_grid = {'max_depth': [10,11,12,13],\n",
    "              'n_estimators': [1500, 2000, 2500],\n",
    "              'learning_rate': [0.01],\n",
    "              'subsample': [0.75],\n",
    "              'colsample_bytree': [0.75],\n",
    "              'reg_lambda':[0.1,0.2,0.3,0.4,0.5],\n",
    "              'gamma': [0, 0.01]}\n",
    "\n",
    "cv = KFold(n_splits=2,shuffle=True,random_state=1)\n",
    "grid_search = RandomizedSearchCV(estimator=xgb.XGBRegressor(random_state=1),                                                       \n",
    "                             param_distributions = param_grid,\n",
    "                                 n_iter = 200,\n",
    "                             verbose = 1,\n",
    "                             n_jobs=-1,\n",
    "                             cv = cv,\n",
    "                          scoring = 'neg_mean_squared_error')\n",
    "grid_result = grid_search.fit(red_train_x, red_train_y)\n",
    "\n",
    "print(\"Best: %f using %s\" % (np.sqrt(-grid_result.best_score_), grid_result.best_params_))\n",
    "print(\"Time taken = \",(time.time()-start_time)/60,\" minutes\")"
   ]
  },
  {
   "cell_type": "code",
   "execution_count": 93,
   "id": "1b3e8ff6",
   "metadata": {},
   "outputs": [
    {
     "name": "stdout",
     "output_type": "stream",
     "text": [
      "MAE for red tuned model:  0.3675\n"
     ]
    }
   ],
   "source": [
    "red_model_tuned_rmse = xgb.XGBRegressor(random_state = 1, gamma = 0, learning_rate = 0.01, max_depth = 10, n_estimators = 1500,\n",
    "                                  reg_lambda = 0.2, subsample = 0.75, colsample_bytree = 0.75).fit(red_train_x, red_train_y)\n",
    "mae = mean_absolute_error(red_test_y, np.around(red_model_tuned_rmse.predict(red_test_x)))\n",
    "print('MAE for red tuned model: ', mae)"
   ]
  },
  {
   "cell_type": "code",
   "execution_count": 94,
   "id": "2ff7c48f",
   "metadata": {},
   "outputs": [
    {
     "data": {
      "text/plain": [
       "0.6576473218982952"
      ]
     },
     "execution_count": 94,
     "metadata": {},
     "output_type": "execute_result"
    }
   ],
   "source": [
    "np.sqrt(mean_squared_error(red_test_y, np.around(red_model_tuned_rmse.predict(red_test_x))))"
   ]
  },
  {
   "cell_type": "markdown",
   "id": "d5e8fd97",
   "metadata": {},
   "source": [
    "## White Model"
   ]
  },
  {
   "cell_type": "code",
   "execution_count": 105,
   "id": "ee2fc8be",
   "metadata": {},
   "outputs": [
    {
     "name": "stdout",
     "output_type": "stream",
     "text": [
      "Fitting 5 folds for each of 200 candidates, totalling 1000 fits\n",
      "Best: 0.635257 using {'subsample': 0.75, 'reg_lambda': 0, 'n_estimators': 1000, 'max_depth': 8, 'learning_rate': 0.01, 'gamma': 0, 'colsample_bytree': 0.5}\n",
      "Time taken =  3.8692580978075664  minutes\n"
     ]
    }
   ],
   "source": [
    "start_time = time.time()\n",
    "param_grid = {'max_depth': [4,6,8],\n",
    "              'n_estimators': [100, 500, 1000],\n",
    "              'learning_rate': [0.01, 0.05, 0.1],\n",
    "              'subsample': [0.5, 0.75, 1],\n",
    "              'colsample_bytree': [0.5, 0.75, 1],\n",
    "              'reg_lambda':[0, 1, 10],\n",
    "              'gamma': [0, 10, 100]}\n",
    "\n",
    "cv = KFold(n_splits=5,shuffle=True,random_state=1)\n",
    "grid_search = RandomizedSearchCV(estimator=xgb.XGBRegressor(random_state=1),                                                       \n",
    "                             param_distributions = param_grid,\n",
    "                                 n_iter = 200,\n",
    "                             verbose = 1,\n",
    "                             n_jobs=-1,\n",
    "                             cv = cv,\n",
    "                          scoring = 'neg_mean_squared_error')\n",
    "grid_result = grid_search.fit(white_train_x, white_train_y)\n",
    "\n",
    "print(\"Best: %f using %s\" % (np.sqrt(-grid_result.best_score_), grid_result.best_params_))\n",
    "print(\"Time taken = \",(time.time()-start_time)/60,\" minutes\")"
   ]
  },
  {
   "cell_type": "code",
   "execution_count": 106,
   "id": "6f24325a",
   "metadata": {},
   "outputs": [
    {
     "name": "stdout",
     "output_type": "stream",
     "text": [
      "Fitting 2 folds for each of 120 candidates, totalling 240 fits\n"
     ]
    },
    {
     "name": "stderr",
     "output_type": "stream",
     "text": [
      "/Users/keatonolds/opt/anaconda3/lib/python3.9/site-packages/joblib/externals/loky/process_executor.py:702: UserWarning: A worker stopped while some jobs were given to the executor. This can be caused by a too short worker timeout or by a memory leak.\n",
      "  warnings.warn(\n"
     ]
    },
    {
     "name": "stdout",
     "output_type": "stream",
     "text": [
      "Best: 0.651685 using {'colsample_bytree': 0.5, 'gamma': 0, 'learning_rate': 0.01, 'max_depth': 14, 'n_estimators': 1000, 'reg_lambda': 0.6, 'subsample': 0.75}\n",
      "Time taken =  3.6731221675872803  minutes\n"
     ]
    }
   ],
   "source": [
    "start_time = time.time()\n",
    "param_grid = {'max_depth': [8, 10, 12, 14],\n",
    "              'n_estimators': [1000, 2000, 3000],\n",
    "              'learning_rate': [0.001, 0.01],\n",
    "              'subsample': [0.75],\n",
    "              'colsample_bytree': [0.5],\n",
    "              'reg_lambda':[0, 0.2, 0.4, 0.6, 0.8],\n",
    "              'gamma': [0]}\n",
    "\n",
    "cv = KFold(n_splits=2,shuffle=True,random_state=1)\n",
    "grid_search = GridSearchCV(estimator=xgb.XGBRegressor(random_state=1),                                                       \n",
    "                             param_grid = param_grid,\n",
    "                             verbose = 1,\n",
    "                             n_jobs=-1,\n",
    "                             cv = cv,\n",
    "                          scoring = 'neg_mean_squared_error')\n",
    "grid_result = grid_search.fit(white_train_x, white_train_y)\n",
    "\n",
    "print(\"Best: %f using %s\" % (np.sqrt(-grid_result.best_score_), grid_result.best_params_))\n",
    "print(\"Time taken = \",(time.time()-start_time)/60,\" minutes\")"
   ]
  },
  {
   "cell_type": "code",
   "execution_count": 107,
   "id": "8ed6203a",
   "metadata": {},
   "outputs": [
    {
     "name": "stdout",
     "output_type": "stream",
     "text": [
      "Fitting 5 folds for each of 12 candidates, totalling 60 fits\n",
      "Best: 0.625868 using {'colsample_bytree': 0.5, 'gamma': 0, 'learning_rate': 0.01, 'max_depth': 16, 'n_estimators': 1000, 'reg_lambda': 0.6, 'subsample': 0.75}\n",
      "Time taken =  1.2273271163304647  minutes\n"
     ]
    }
   ],
   "source": [
    "start_time = time.time()\n",
    "param_grid = {'max_depth': [13, 14, 15, 16],\n",
    "              'n_estimators': [500, 1000, 1500],\n",
    "              'learning_rate': [0.01],\n",
    "              'subsample': [0.75],\n",
    "              'colsample_bytree': [0.5],\n",
    "              'reg_lambda':[0.6],\n",
    "              'gamma': [0]}\n",
    "\n",
    "cv = KFold(n_splits=5,shuffle=True,random_state=1)\n",
    "grid_search = GridSearchCV(estimator=xgb.XGBRegressor(random_state=1),                                                       \n",
    "                             param_grid = param_grid,\n",
    "                             verbose = 1,\n",
    "                             n_jobs=-1,\n",
    "                             cv = cv,\n",
    "                          scoring = 'neg_mean_squared_error')\n",
    "grid_result = grid_search.fit(white_train_x, white_train_y)\n",
    "\n",
    "print(\"Best: %f using %s\" % (np.sqrt(-grid_result.best_score_), grid_result.best_params_))\n",
    "print(\"Time taken = \",(time.time()-start_time)/60,\" minutes\")"
   ]
  },
  {
   "cell_type": "code",
   "execution_count": 113,
   "id": "2564704d",
   "metadata": {},
   "outputs": [
    {
     "name": "stdout",
     "output_type": "stream",
     "text": [
      "RMSE for white tuned model:  0.6375975315548971\n",
      "MAE for white tuned model:  0.34775510204081633\n"
     ]
    }
   ],
   "source": [
    "white_model_tuned = xgb.XGBRegressor(random_state = 1, gamma = 0, learning_rate = 0.01, max_depth = 9, n_estimators = 1000,\n",
    "                                  reg_lambda = 0.6, subsample = 0.75, colsample_bytree = 0.5).fit(white_train_x, white_train_y)\n",
    "mae = mean_absolute_error(white_test_y, np.around(white_model_tuned.predict(white_test_x)))\n",
    "rmse = np.sqrt(mean_squared_error(white_test_y, np.around(white_model_tuned.predict(white_test_x))))\n",
    "\n",
    "print('RMSE for white tuned model: ', rmse)\n",
    "print('MAE for white tuned model: ', mae)"
   ]
  },
  {
   "cell_type": "markdown",
   "id": "9df555a4",
   "metadata": {},
   "source": [
    "## Combined Model"
   ]
  },
  {
   "cell_type": "code",
   "execution_count": null,
   "id": "334f290e",
   "metadata": {},
   "outputs": [
    {
     "name": "stdout",
     "output_type": "stream",
     "text": [
      "Fitting 5 folds for each of 200 candidates, totalling 1000 fits\n"
     ]
    }
   ],
   "source": [
    "start_time = time.time()\n",
    "param_grid = {'max_depth': [4,6,8],\n",
    "              'n_estimators': [100, 500, 1000],\n",
    "              'learning_rate': [0.01, 0.05, 0.1],\n",
    "              'subsample': [0.5, 0.75, 1],\n",
    "              'colsample_bytree': [0.5, 0.75, 1],\n",
    "              'reg_lambda':[0, 1, 10],\n",
    "              'gamma': [0, 10, 100]}\n",
    "\n",
    "cv = KFold(n_splits=5,shuffle=True,random_state=1)\n",
    "grid_search = RandomizedSearchCV(estimator=xgb.XGBRegressor(random_state=1),                                                       \n",
    "                             param_distributions = param_grid,\n",
    "                                 n_iter = 200,\n",
    "                             verbose = 1,\n",
    "                             n_jobs=-1,\n",
    "                             cv = cv,\n",
    "                          scoring = 'neg_mean_squared_error')\n",
    "grid_result = grid_search.fit(combined_train_x, combined_train_y)\n",
    "\n",
    "print(\"Best: %f using %s\" % (np.sqrt(-grid_result.best_score_), grid_result.best_params_))\n",
    "print(\"Time taken = \",(time.time()-start_time)/60,\" minutes\")"
   ]
  },
  {
   "cell_type": "code",
   "execution_count": 46,
   "id": "a6ad03c1",
   "metadata": {},
   "outputs": [
    {
     "name": "stdout",
     "output_type": "stream",
     "text": [
      "Fitting 2 folds for each of 162 candidates, totalling 324 fits\n"
     ]
    },
    {
     "name": "stderr",
     "output_type": "stream",
     "text": [
      "/Users/keatonolds/opt/anaconda3/lib/python3.9/site-packages/joblib/externals/loky/process_executor.py:702: UserWarning: A worker stopped while some jobs were given to the executor. This can be caused by a too short worker timeout or by a memory leak.\n",
      "  warnings.warn(\n"
     ]
    },
    {
     "name": "stdout",
     "output_type": "stream",
     "text": [
      "Best: 0.677211 using {'gamma': 0, 'learning_rate': 0.01, 'max_depth': 16, 'n_estimators': 3000, 'reg_lambda': 0.2, 'subsample': 0.75}\n",
      "Time taken =  11.891242869695027  minutes\n"
     ]
    }
   ],
   "source": [
    "start_time = time.time()\n",
    "param_grid = {'max_depth': [12, 14, 16],\n",
    "              'n_estimators': [1000, 2000, 3000],\n",
    "              'learning_rate': [0.01, 0.025, 0.05],\n",
    "              'subsample': [0.75],\n",
    "              'reg_lambda':[0, 0.1, 0.2],\n",
    "              'gamma': [0, 1]}\n",
    "\n",
    "cv = KFold(n_splits=2,shuffle=True,random_state=1)\n",
    "grid_search = GridSearchCV(estimator=xgb.XGBRegressor(random_state=1, subsample = 0.5),                                                       \n",
    "                             param_grid = param_grid,\n",
    "                             verbose = 1,\n",
    "                             n_jobs=-1,\n",
    "                             cv = cv,\n",
    "                          scoring = 'neg_mean_absolute_error')\n",
    "grid_result = grid_search.fit(combined_train_x, combined_train_y)\n",
    "\n",
    "print(\"Best: %f using %s\" % (np.sqrt(-grid_result.best_score_), grid_result.best_params_))\n",
    "print(\"Time taken = \",(time.time()-start_time)/60,\" minutes\")"
   ]
  },
  {
   "cell_type": "code",
   "execution_count": 47,
   "id": "57dab555",
   "metadata": {},
   "outputs": [
    {
     "name": "stdout",
     "output_type": "stream",
     "text": [
      "Fitting 2 folds for each of 18 candidates, totalling 36 fits\n",
      "Best: 0.676535 using {'gamma': 0, 'learning_rate': 0.01, 'max_depth': 16, 'n_estimators': 4000, 'reg_lambda': 0.3, 'subsample': 0.75}\n",
      "Time taken =  2.294661017258962  minutes\n"
     ]
    }
   ],
   "source": [
    "start_time = time.time()\n",
    "param_grid = {'max_depth': [16, 17, 18],\n",
    "              'n_estimators': [3000, 4000],\n",
    "              'learning_rate': [0.01],\n",
    "              'subsample': [0.75],\n",
    "              'reg_lambda':[0.2, 0.3, 0.4],\n",
    "              'gamma': [0]}\n",
    "\n",
    "cv = KFold(n_splits=2,shuffle=True,random_state=1)\n",
    "grid_search = GridSearchCV(estimator=xgb.XGBRegressor(random_state=1, subsample = 0.5),                                                       \n",
    "                             param_grid = param_grid,\n",
    "                             verbose = 1,\n",
    "                             n_jobs=-1,\n",
    "                             cv = cv,\n",
    "                          scoring = 'neg_mean_absolute_error')\n",
    "grid_result = grid_search.fit(combined_train_x, combined_train_y)\n",
    "\n",
    "print(\"Best: %f using %s\" % (np.sqrt(-grid_result.best_score_), grid_result.best_params_))\n",
    "print(\"Time taken = \",(time.time()-start_time)/60,\" minutes\")"
   ]
  },
  {
   "cell_type": "code",
   "execution_count": 59,
   "id": "7173706d",
   "metadata": {},
   "outputs": [
    {
     "name": "stdout",
     "output_type": "stream",
     "text": [
      "MAE for combined tuned model:  0.35507692307692307\n"
     ]
    }
   ],
   "source": [
    "combined_model_tuned = xgb.XGBRegressor(random_state = 1, gamma = 0, learning_rate = 0.01, max_depth = 16, n_estimators = 4000,\n",
    "                                  reg_lambda = 0.3, subsample = 0.75).fit(combined_train_x, combined_train_y)\n",
    "mae = mean_absolute_error(combined_test_y, np.around(combined_model_tuned.predict(combined_test_x)))\n",
    "print('MAE for combined tuned model: ', mae)"
   ]
  },
  {
   "cell_type": "code",
   "execution_count": 53,
   "id": "8fc59297",
   "metadata": {},
   "outputs": [
    {
     "data": {
      "text/plain": [
       "0.6596036105699566"
      ]
     },
     "execution_count": 53,
     "metadata": {},
     "output_type": "execute_result"
    }
   ],
   "source": [
    "np.sqrt(mean_squared_error(combined_test_y, np.around(combined_model_tuned.predict(combined_test_x))))"
   ]
  },
  {
   "cell_type": "markdown",
   "id": "4b3384aa",
   "metadata": {},
   "source": [
    "# Summary"
   ]
  },
  {
   "cell_type": "markdown",
   "id": "9e90242c",
   "metadata": {},
   "source": [
    "## Red Wine"
   ]
  },
  {
   "cell_type": "markdown",
   "id": "c8a9e8e4",
   "metadata": {},
   "source": [
    "Base model MAE: 0.3855"
   ]
  },
  {
   "cell_type": "markdown",
   "id": "1f8aae83",
   "metadata": {},
   "source": [
    "Tuned model MAE: 0.3782"
   ]
  },
  {
   "cell_type": "markdown",
   "id": "631ab8a8",
   "metadata": {},
   "source": [
    "Improvement: 0.0073 (0.02%)"
   ]
  },
  {
   "cell_type": "markdown",
   "id": "82490932",
   "metadata": {},
   "source": [
    "## White Wine"
   ]
  },
  {
   "cell_type": "markdown",
   "id": "2c525a9f",
   "metadata": {},
   "source": [
    "Base model MAE:  0.4716"
   ]
  },
  {
   "cell_type": "markdown",
   "id": "4cb95550",
   "metadata": {},
   "source": [
    "Tuned model MAE: 0.4023"
   ]
  },
  {
   "cell_type": "markdown",
   "id": "5f69f05a",
   "metadata": {},
   "source": [
    "Improvement: 0.0693 (14.69%)"
   ]
  },
  {
   "cell_type": "markdown",
   "id": "adfbea77",
   "metadata": {},
   "source": [
    "## Combined Wines"
   ]
  },
  {
   "cell_type": "markdown",
   "id": "9feb370e",
   "metadata": {},
   "source": [
    "Base model MAE: 0.4752"
   ]
  },
  {
   "cell_type": "markdown",
   "id": "f90e030b",
   "metadata": {},
   "source": [
    "Tuned model MAE: 0.3941"
   ]
  },
  {
   "cell_type": "markdown",
   "id": "80f9c83c",
   "metadata": {},
   "source": [
    "Improvement: 0.0711 (14.96%)"
   ]
  }
 ],
 "metadata": {
  "kernelspec": {
   "display_name": "Python 3 (ipykernel)",
   "language": "python",
   "name": "python3"
  },
  "language_info": {
   "codemirror_mode": {
    "name": "ipython",
    "version": 3
   },
   "file_extension": ".py",
   "mimetype": "text/x-python",
   "name": "python",
   "nbconvert_exporter": "python",
   "pygments_lexer": "ipython3",
   "version": "3.9.12"
  }
 },
 "nbformat": 4,
 "nbformat_minor": 5
}
