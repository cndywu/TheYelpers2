{
 "cells": [
  {
   "cell_type": "code",
   "execution_count": 1,
   "id": "4188eba0",
   "metadata": {},
   "outputs": [],
   "source": [
    "import pandas as pd\n",
    "import numpy as np\n",
    "import seaborn as sns\n",
    "import matplotlib.pyplot as plt\n",
    "from sklearn.metrics import mean_squared_error\n",
    "from sklearn.model_selection import cross_val_score,train_test_split\n",
    "from sklearn.metrics import mean_squared_error, r2_score, mean_absolute_error, precision_recall_curve, accuracy_score, recall_score\n",
    "from sklearn.model_selection import KFold, StratifiedKFold\n",
    "from sklearn.tree import DecisionTreeRegressor, DecisionTreeClassifier\n",
    "from sklearn.model_selection import GridSearchCV, ParameterGrid, cross_val_predict\n",
    "from sklearn.tree import export_graphviz \n",
    "from six import StringIO\n",
    "from IPython.display import Image  \n",
    "import time as tm\n",
    "from sklearn.ensemble import BaggingRegressor, BaggingClassifier, RandomForestRegressor, RandomForestClassifier\n",
    "import warnings\n",
    "warnings.filterwarnings(\"ignore\")\n",
    "from sklearn.linear_model import LinearRegression, LogisticRegression\n",
    "import itertools as it"
   ]
  },
  {
   "cell_type": "markdown",
   "id": "41932d88",
   "metadata": {},
   "source": [
    "The below code was used to split the data into train and test for both red and white wine."
   ]
  },
  {
   "cell_type": "code",
   "execution_count": 5,
   "id": "f2e526dd",
   "metadata": {},
   "outputs": [],
   "source": [
    "red = pd.read_csv('winequality-red.csv', delimiter = ';')\n",
    "white = pd.read_csv('winequality-white.csv', delimiter = ';')"
   ]
  },
  {
   "cell_type": "code",
   "execution_count": 9,
   "id": "edfa818f",
   "metadata": {},
   "outputs": [],
   "source": [
    "red_train, red_test = train_test_split(red, test_size = 0.25)"
   ]
  },
  {
   "cell_type": "code",
   "execution_count": 12,
   "id": "52377f5e",
   "metadata": {},
   "outputs": [],
   "source": [
    "white_train, white_test = train_test_split(white, test_size = 0.25)"
   ]
  },
  {
   "cell_type": "code",
   "execution_count": 15,
   "id": "46f96802",
   "metadata": {},
   "outputs": [],
   "source": [
    "red_train.to_csv('red_train.csv', index = False)\n",
    "red_test.to_csv('red_test.csv', index = False)\n",
    "white_train.to_csv('white_train.csv', index = False)\n",
    "white_test.to_csv('white_test.csv', index = False)"
   ]
  },
  {
   "cell_type": "markdown",
   "id": "6ce79cda",
   "metadata": {},
   "source": [
    "The below code starts after splitting the train and test for red and white wine."
   ]
  },
  {
   "cell_type": "code",
   "execution_count": 30,
   "id": "5bcbc7ae",
   "metadata": {},
   "outputs": [],
   "source": [
    "red_train = pd.read_csv('red_train.csv')\n",
    "red_test = pd.read_csv('red_test.csv')\n",
    "white_train = pd.read_csv('white_train.csv')\n",
    "white_test = pd.read_csv('white_test.csv')"
   ]
  },
  {
   "cell_type": "markdown",
   "id": "4b3618c4",
   "metadata": {},
   "source": [
    "Creating combined train and test data for both red and white wine, along with a new column for dummy variables of whether they are white or red wine."
   ]
  },
  {
   "cell_type": "code",
   "execution_count": 31,
   "id": "6eb8b59f",
   "metadata": {},
   "outputs": [],
   "source": [
    "red_train_copy = red_train.copy()\n",
    "red_test_copy = red_test.copy()\n",
    "white_train_copy = white_train.copy()\n",
    "white_test_copy = white_test.copy()\n",
    "red_train_copy['type'] = 'red'\n",
    "red_test_copy['type'] = 'red'\n",
    "white_train_copy['type'] = 'white'\n",
    "white_test_copy['type'] = 'white'"
   ]
  },
  {
   "cell_type": "code",
   "execution_count": 34,
   "id": "5d5dabb8",
   "metadata": {},
   "outputs": [],
   "source": [
    "combined_train = pd.concat([red_train_copy, white_train_copy], axis = 0)\n",
    "combined_test = pd.concat([red_test_copy, white_test_copy], axis = 0)\n",
    "combined_train = pd.get_dummies(combined_train)\n",
    "combined_test = pd.get_dummies(combined_test)"
   ]
  },
  {
   "cell_type": "markdown",
   "id": "d325f16f",
   "metadata": {},
   "source": [
    "Creating separate dataframes for the predictors and response variable in X and y for both red, white, and combined data on the wines."
   ]
  },
  {
   "cell_type": "code",
   "execution_count": 40,
   "id": "8c22ab0d",
   "metadata": {},
   "outputs": [],
   "source": [
    "red_train_x = red_train.drop('quality', axis = 1)\n",
    "red_train_y = red_train['quality']\n",
    "red_test_x = red_test.drop('quality', axis = 1)\n",
    "red_test_y = red_test['quality']\n",
    "white_train_x = white_train.drop('quality', axis = 1)\n",
    "white_train_y = white_train['quality']\n",
    "white_test_x = white_test.drop('quality', axis = 1)\n",
    "white_test_y = white_test['quality']\n",
    "combined_train_x = combined_train.drop('quality', axis = 1)\n",
    "combined_train_y = combined_train['quality']\n",
    "combined_test_x = combined_test.drop('quality', axis = 1)\n",
    "combined_test_y = combined_test['quality']"
   ]
  },
  {
   "cell_type": "markdown",
   "id": "b9dfcf15",
   "metadata": {},
   "source": [
    "Begin by fitting a simple DecisionTreeRegressor() model to see for comparison purposes."
   ]
  },
  {
   "cell_type": "code",
   "execution_count": 52,
   "id": "a0369084",
   "metadata": {},
   "outputs": [
    {
     "name": "stdout",
     "output_type": "stream",
     "text": [
      "The test MAE for red wine data is: 0.425\n",
      "The train MAE for red wine data is: 0.0\n"
     ]
    }
   ],
   "source": [
    "model = DecisionTreeRegressor(random_state = 1) \n",
    "model.fit(red_train_x, red_train_y)\n",
    "pred = model.predict(red_test_x)\n",
    "print(f'The test MAE for red wine data is: {mean_absolute_error(red_test_y, pred)}')\n",
    "print(f'The train MAE for red wine data is: {mean_absolute_error(red_train_y, model.predict(red_train_x))}')"
   ]
  },
  {
   "cell_type": "code",
   "execution_count": 53,
   "id": "0a7ef011",
   "metadata": {},
   "outputs": [
    {
     "name": "stdout",
     "output_type": "stream",
     "text": [
      "The test MAE for white wine data is: 0.4963265306122449\n",
      "The train MAE for red wine data is: 0.0\n"
     ]
    }
   ],
   "source": [
    "model = DecisionTreeRegressor(random_state = 1) \n",
    "model.fit(white_train_x, white_train_y)\n",
    "pred = model.predict(white_test_x)\n",
    "print(f'The test MAE for white wine data is: {mean_absolute_error(white_test_y, pred)}')\n",
    "print(f'The train MAE for red wine data is: {mean_absolute_error(white_train_y, model.predict(white_train_x))}')"
   ]
  },
  {
   "cell_type": "code",
   "execution_count": 54,
   "id": "8e7dfe62",
   "metadata": {},
   "outputs": [
    {
     "name": "stdout",
     "output_type": "stream",
     "text": [
      "The test MAE for white wine data is: 0.49353846153846154\n",
      "The train MAE for red wine data is: 0.0\n"
     ]
    }
   ],
   "source": [
    "model = DecisionTreeRegressor(random_state = 1) \n",
    "model.fit(combined_train_x, combined_train_y)\n",
    "pred = model.predict(combined_test_x)\n",
    "print(f'The test MAE for white wine data is: {mean_absolute_error(combined_test_y, pred)}')\n",
    "print(f'The train MAE for red wine data is: {mean_absolute_error(combined_train_y, model.predict(combined_train_x))}')"
   ]
  },
  {
   "cell_type": "markdown",
   "id": "4d720daa",
   "metadata": {},
   "source": [
    "Begin by tuning a simple DecisionTreeRegressor() model for the red wine using a coarse grid search and then a finer grid search to see for comparison purposes."
   ]
  },
  {
   "cell_type": "code",
   "execution_count": 48,
   "id": "7d168599",
   "metadata": {},
   "outputs": [
    {
     "name": "stdout",
     "output_type": "stream",
     "text": [
      "Fitting 5 folds for each of 1640 candidates, totalling 8200 fits\n",
      "0.517918410041841 {'max_depth': 22, 'max_leaf_nodes': 302, 'min_samples_leaf': 1}\n"
     ]
    }
   ],
   "source": [
    "parameters = {'max_depth': range(10, 32, 3), \n",
    "              'max_leaf_nodes': range(2, 4100, 100),\n",
    "              'min_samples_leaf': [1, 2, 4, 8, 16]}\n",
    "cv = KFold(n_splits = 5, shuffle = True, random_state = 1)\n",
    "model = GridSearchCV(DecisionTreeRegressor(random_state = 1), parameters, n_jobs = -1, verbose = 1, cv = cv, \n",
    "                     scoring = ['neg_mean_absolute_error', 'r2'], refit = 'neg_mean_absolute_error')\n",
    "model.fit(red_train_x, red_train_y)\n",
    "print(-model.best_score_, model.best_params_) "
   ]
  },
  {
   "cell_type": "code",
   "execution_count": 50,
   "id": "8ca980ab",
   "metadata": {},
   "outputs": [
    {
     "name": "stdout",
     "output_type": "stream",
     "text": [
      "The test MAE for red wine data is: 0.40881592214974566\n",
      "The train MAE for red wine data is: 0.06695985070665209\n"
     ]
    }
   ],
   "source": [
    "pred = model.predict(red_test_x)\n",
    "print(f'The test MAE for red wine data is: {mean_absolute_error(red_test_y, pred)}')\n",
    "print(f'The train MAE for red wine data is: {mean_absolute_error(red_train_y, model.predict(red_train_x))}')"
   ]
  },
  {
   "cell_type": "code",
   "execution_count": 49,
   "id": "efd90940",
   "metadata": {},
   "outputs": [
    {
     "name": "stdout",
     "output_type": "stream",
     "text": [
      "Fitting 5 folds for each of 1407 candidates, totalling 7035 fits\n",
      "0.5142499439686203 {'max_depth': 20, 'max_leaf_nodes': 256, 'min_samples_leaf': 1}\n"
     ]
    }
   ],
   "source": [
    "parameters = {'max_depth': range(19, 26), \n",
    "              'max_leaf_nodes': range(202, 403),\n",
    "              'min_samples_leaf': [1]}\n",
    "cv = KFold(n_splits = 5, shuffle = True, random_state = 1)\n",
    "model = GridSearchCV(DecisionTreeRegressor(random_state = 1), parameters, n_jobs = -1, verbose = 1, cv = cv, \n",
    "                     scoring = ['neg_mean_absolute_error', 'r2'], refit = 'neg_mean_absolute_error')\n",
    "model.fit(red_train_x, red_train_y)\n",
    "print(-model.best_score_, model.best_params_) "
   ]
  },
  {
   "cell_type": "code",
   "execution_count": 51,
   "id": "6be77f20",
   "metadata": {},
   "outputs": [
    {
     "name": "stdout",
     "output_type": "stream",
     "text": [
      "The test MAE for red wine data is: 0.40881592214974566\n",
      "The train MAE for red wine data is: 0.06695985070665209\n"
     ]
    }
   ],
   "source": [
    "pred = model.predict(red_test_x)\n",
    "print(f'The test MAE for red wine data is: {mean_absolute_error(red_test_y, pred)}')\n",
    "print(f'The train MAE for red wine data is: {mean_absolute_error(red_train_y, model.predict(red_train_x))}')"
   ]
  },
  {
   "cell_type": "markdown",
   "id": "7b240613",
   "metadata": {},
   "source": [
    "The test MAE for red wine data improved from 0.425 to 0.409."
   ]
  },
  {
   "cell_type": "markdown",
   "id": "8732b5c9",
   "metadata": {},
   "source": [
    "Next, proceed by tuning a simple DecisionTreeRegressor() model for the white wine using a coarse grid search and then a finer grid search to see for comparison purposes."
   ]
  },
  {
   "cell_type": "code",
   "execution_count": 59,
   "id": "cf2bd3cb",
   "metadata": {},
   "outputs": [
    {
     "name": "stdout",
     "output_type": "stream",
     "text": [
      "Fitting 5 folds for each of 1640 candidates, totalling 8200 fits\n",
      "0.5138325567673547 {'max_depth': 25, 'max_leaf_nodes': 902, 'min_samples_leaf': 1}\n"
     ]
    }
   ],
   "source": [
    "parameters = {'max_depth': range(10, 32, 3), \n",
    "              'max_leaf_nodes': range(2, 4100, 100),\n",
    "              'min_samples_leaf': [1, 2, 4, 8, 16]}\n",
    "cv = KFold(n_splits = 5, shuffle = True, random_state = 1)\n",
    "model = GridSearchCV(DecisionTreeRegressor(random_state = 1), parameters, n_jobs = -1, verbose = 1, cv = cv, \n",
    "                     scoring = ['neg_mean_absolute_error', 'r2'], refit = 'neg_mean_absolute_error')\n",
    "model.fit(white_train_x, white_train_y)\n",
    "print(-model.best_score_, model.best_params_) "
   ]
  },
  {
   "cell_type": "code",
   "execution_count": 60,
   "id": "5780b0f8",
   "metadata": {},
   "outputs": [
    {
     "name": "stdout",
     "output_type": "stream",
     "text": [
      "The test MAE for white wine data is: 0.5172277376355146\n",
      "The train MAE for white wine data is: 0.04316875561391792\n"
     ]
    }
   ],
   "source": [
    "pred = model.predict(white_test_x)\n",
    "print(f'The test MAE for white wine data is: {mean_absolute_error(white_test_y, pred)}')\n",
    "print(f'The train MAE for white wine data is: {mean_absolute_error(white_train_y, model.predict(white_train_x))}')"
   ]
  },
  {
   "cell_type": "code",
   "execution_count": 61,
   "id": "cfdc84ca",
   "metadata": {},
   "outputs": [
    {
     "name": "stdout",
     "output_type": "stream",
     "text": [
      "Fitting 5 folds for each of 1407 candidates, totalling 7035 fits\n",
      "0.5133149714552114 {'max_depth': 25, 'max_leaf_nodes': 853, 'min_samples_leaf': 1}\n"
     ]
    }
   ],
   "source": [
    "parameters = {'max_depth': range(22, 29), \n",
    "              'max_leaf_nodes': range(802, 1003),\n",
    "              'min_samples_leaf': [1]}\n",
    "cv = KFold(n_splits = 5, shuffle = True, random_state = 1)\n",
    "model = GridSearchCV(DecisionTreeRegressor(random_state = 1), parameters, n_jobs = -1, verbose = 1, cv = cv, \n",
    "                     scoring = ['neg_mean_absolute_error', 'r2'], refit = 'neg_mean_absolute_error')\n",
    "model.fit(white_train_x, white_train_y)\n",
    "print(-model.best_score_, model.best_params_) "
   ]
  },
  {
   "cell_type": "code",
   "execution_count": 62,
   "id": "bd32ca87",
   "metadata": {},
   "outputs": [
    {
     "name": "stdout",
     "output_type": "stream",
     "text": [
      "The test MAE for white wine data is: 0.5202131225779824\n",
      "The train MAE for white wine data is: 0.05770620935698176\n"
     ]
    }
   ],
   "source": [
    "pred = model.predict(white_test_x)\n",
    "print(f'The test MAE for white wine data is: {mean_absolute_error(white_test_y, pred)}')\n",
    "print(f'The train MAE for white wine data is: {mean_absolute_error(white_train_y, model.predict(white_train_x))}')"
   ]
  },
  {
   "cell_type": "markdown",
   "id": "70e43722",
   "metadata": {},
   "source": [
    "The test MAE for white wine data did not improve and went from 0.496 to 0.520."
   ]
  },
  {
   "cell_type": "markdown",
   "id": "a6c9fbae",
   "metadata": {},
   "source": [
    "Next, proceed by tuning a simple DecisionTreeRegressor() model for the combined wine data using a coarse grid search and then a finer grid search to see for comparison purposes."
   ]
  },
  {
   "cell_type": "code",
   "execution_count": 63,
   "id": "012052a1",
   "metadata": {},
   "outputs": [
    {
     "name": "stdout",
     "output_type": "stream",
     "text": [
      "Fitting 5 folds for each of 1640 candidates, totalling 8200 fits\n",
      "0.5264543077274084 {'max_depth': 25, 'max_leaf_nodes': 1202, 'min_samples_leaf': 1}\n"
     ]
    }
   ],
   "source": [
    "parameters = {'max_depth': range(10, 32, 3), \n",
    "              'max_leaf_nodes': range(2, 4100, 100),\n",
    "              'min_samples_leaf': [1, 2, 4, 8, 16]}\n",
    "cv = KFold(n_splits = 5, shuffle = True, random_state = 1)\n",
    "model = GridSearchCV(DecisionTreeRegressor(random_state = 1), parameters, n_jobs = -1, verbose = 1, cv = cv, \n",
    "                     scoring = ['neg_mean_absolute_error', 'r2'], refit = 'neg_mean_absolute_error')\n",
    "model.fit(combined_train_x, combined_train_y)\n",
    "print(-model.best_score_, model.best_params_) "
   ]
  },
  {
   "cell_type": "code",
   "execution_count": 65,
   "id": "adf5389a",
   "metadata": {},
   "outputs": [
    {
     "name": "stdout",
     "output_type": "stream",
     "text": [
      "The test MAE for combined wine data is: 0.4918411203349246\n",
      "The train MAE for combined wine data is: 0.026721088442903447\n"
     ]
    }
   ],
   "source": [
    "pred = model.predict(combined_test_x)\n",
    "print(f'The test MAE for combined wine data is: {mean_absolute_error(combined_test_y, pred)}')\n",
    "print(f'The train MAE for combined wine data is: {mean_absolute_error(combined_train_y, model.predict(combined_train_x))}')"
   ]
  },
  {
   "cell_type": "code",
   "execution_count": 66,
   "id": "3b196483",
   "metadata": {},
   "outputs": [
    {
     "name": "stdout",
     "output_type": "stream",
     "text": [
      "Fitting 5 folds for each of 1407 candidates, totalling 7035 fits\n",
      "0.5260067713668947 {'max_depth': 24, 'max_leaf_nodes': 1118, 'min_samples_leaf': 1}\n"
     ]
    }
   ],
   "source": [
    "parameters = {'max_depth': range(22, 29), \n",
    "              'max_leaf_nodes': range(1102, 1303),\n",
    "              'min_samples_leaf': [1]}\n",
    "cv = KFold(n_splits = 5, shuffle = True, random_state = 1)\n",
    "model = GridSearchCV(DecisionTreeRegressor(random_state = 1), parameters, n_jobs = -1, verbose = 1, cv = cv, \n",
    "                     scoring = ['neg_mean_absolute_error', 'r2'], refit = 'neg_mean_absolute_error')\n",
    "model.fit(combined_train_x, combined_train_y)\n",
    "print(-model.best_score_, model.best_params_) "
   ]
  },
  {
   "cell_type": "code",
   "execution_count": 67,
   "id": "641f631b",
   "metadata": {},
   "outputs": [
    {
     "name": "stdout",
     "output_type": "stream",
     "text": [
      "The test MAE for combined wine data is: 0.5045065538096555\n",
      "The train MAE for combined wine data is: 0.04582898145486125\n"
     ]
    }
   ],
   "source": [
    "pred = model.predict(combined_test_x)\n",
    "print(f'The test MAE for combined wine data is: {mean_absolute_error(combined_test_y, pred)}')\n",
    "print(f'The train MAE for combined wine data is: {mean_absolute_error(combined_train_y, model.predict(combined_train_x))}')"
   ]
  },
  {
   "cell_type": "markdown",
   "id": "3567977a",
   "metadata": {},
   "source": [
    "The test MAE for combined wine data did not improve and went from 0.494 to 0.505."
   ]
  },
  {
   "cell_type": "code",
   "execution_count": null,
   "id": "6e558d05",
   "metadata": {},
   "outputs": [],
   "source": []
  }
 ],
 "metadata": {
  "kernelspec": {
   "display_name": "Python 3",
   "language": "python",
   "name": "python3"
  },
  "language_info": {
   "codemirror_mode": {
    "name": "ipython",
    "version": 3
   },
   "file_extension": ".py",
   "mimetype": "text/x-python",
   "name": "python",
   "nbconvert_exporter": "python",
   "pygments_lexer": "ipython3",
   "version": "3.6.13"
  }
 },
 "nbformat": 4,
 "nbformat_minor": 5
}
