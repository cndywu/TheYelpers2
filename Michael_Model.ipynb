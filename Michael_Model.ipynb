{
 "cells": [
  {
   "cell_type": "code",
   "execution_count": 1,
   "id": "4188eba0",
   "metadata": {},
   "outputs": [],
   "source": [
    "import pandas as pd\n",
    "import numpy as np\n",
    "import seaborn as sns\n",
    "import matplotlib.pyplot as plt\n",
    "from sklearn.metrics import mean_squared_error\n",
    "from sklearn.model_selection import cross_val_score,train_test_split\n",
    "from sklearn.metrics import mean_squared_error, r2_score, mean_absolute_error, precision_recall_curve, accuracy_score, recall_score\n",
    "from sklearn.model_selection import KFold, StratifiedKFold\n",
    "from sklearn.tree import DecisionTreeRegressor, DecisionTreeClassifier\n",
    "from sklearn.model_selection import GridSearchCV, ParameterGrid, cross_val_predict\n",
    "from sklearn.tree import export_graphviz \n",
    "from six import StringIO\n",
    "from IPython.display import Image  \n",
    "import time as tm\n",
    "from sklearn.ensemble import BaggingRegressor, BaggingClassifier, RandomForestRegressor, RandomForestClassifier\n",
    "import warnings\n",
    "warnings.filterwarnings(\"ignore\")\n",
    "from sklearn.linear_model import LinearRegression, LogisticRegression\n",
    "import itertools as it"
   ]
  },
  {
   "cell_type": "markdown",
   "id": "e2bef106",
   "metadata": {},
   "source": [
    "The below code was used to split the data into train and test for both red and white wine."
   ]
  },
  {
   "cell_type": "code",
   "execution_count": 5,
   "id": "18512778",
   "metadata": {},
   "outputs": [],
   "source": [
    "red = pd.read_csv('winequality-red.csv', delimiter = ';')\n",
    "white = pd.read_csv('winequality-white.csv', delimiter = ';')"
   ]
  },
  {
   "cell_type": "code",
   "execution_count": 9,
   "id": "14bfb1e0",
   "metadata": {},
   "outputs": [],
   "source": [
    "red_train, red_test = train_test_split(red, test_size = 0.25)"
   ]
  },
  {
   "cell_type": "code",
   "execution_count": 12,
   "id": "ddefe435",
   "metadata": {},
   "outputs": [],
   "source": [
    "white_train, white_test = train_test_split(white, test_size = 0.25)"
   ]
  },
  {
   "cell_type": "code",
   "execution_count": 15,
   "id": "23c16b73",
   "metadata": {},
   "outputs": [],
   "source": [
    "red_train.to_csv('red_train.csv', index = False)\n",
    "red_test.to_csv('red_test.csv', index = False)\n",
    "white_train.to_csv('white_train.csv', index = False)\n",
    "white_test.to_csv('white_test.csv', index = False)"
   ]
  },
  {
   "cell_type": "markdown",
   "id": "a57a4e06",
   "metadata": {},
   "source": [
    "The below code starts after splitting the train and test for red and white wine."
   ]
  },
  {
   "cell_type": "code",
   "execution_count": 2,
   "id": "f5889267",
   "metadata": {},
   "outputs": [],
   "source": [
    "red_train = pd.read_csv('red_train.csv')\n",
    "red_test = pd.read_csv('red_test.csv')\n",
    "white_train = pd.read_csv('white_train.csv')\n",
    "white_test = pd.read_csv('white_test.csv')"
   ]
  },
  {
   "cell_type": "markdown",
   "id": "b5e9afef",
   "metadata": {},
   "source": [
    "Creating combined train and test data for both red and white wine, along with a new column for dummy variables of whether they are white or red wine."
   ]
  },
  {
   "cell_type": "code",
   "execution_count": 3,
   "id": "bb047e67",
   "metadata": {},
   "outputs": [],
   "source": [
    "red_train_copy = red_train.copy()\n",
    "red_test_copy = red_test.copy()\n",
    "white_train_copy = white_train.copy()\n",
    "white_test_copy = white_test.copy()\n",
    "red_train_copy['type'] = 'red'\n",
    "red_test_copy['type'] = 'red'\n",
    "white_train_copy['type'] = 'white'\n",
    "white_test_copy['type'] = 'white'"
   ]
  },
  {
   "cell_type": "code",
   "execution_count": 4,
   "id": "c2e78bc6",
   "metadata": {},
   "outputs": [],
   "source": [
    "combined_train = pd.concat([red_train_copy, white_train_copy], axis = 0)\n",
    "combined_test = pd.concat([red_test_copy, white_test_copy], axis = 0)\n",
    "combined_train = pd.get_dummies(combined_train)\n",
    "combined_test = pd.get_dummies(combined_test)"
   ]
  },
  {
   "cell_type": "markdown",
   "id": "deb55182",
   "metadata": {},
   "source": [
    "Creating separate dataframes for the predictors and response variable in X and y for both red, white, and combined data on the wines."
   ]
  },
  {
   "cell_type": "code",
   "execution_count": 5,
   "id": "2d394e3d",
   "metadata": {},
   "outputs": [],
   "source": [
    "red_train_x = red_train.drop('quality', axis = 1)\n",
    "red_train_y = red_train['quality']\n",
    "red_test_x = red_test.drop('quality', axis = 1)\n",
    "red_test_y = red_test['quality']\n",
    "white_train_x = white_train.drop('quality', axis = 1)\n",
    "white_train_y = white_train['quality']\n",
    "white_test_x = white_test.drop('quality', axis = 1)\n",
    "white_test_y = white_test['quality']\n",
    "combined_train_x = combined_train.drop('quality', axis = 1)\n",
    "combined_train_y = combined_train['quality']\n",
    "combined_test_x = combined_test.drop('quality', axis = 1)\n",
    "combined_test_y = combined_test['quality']"
   ]
  },
  {
   "cell_type": "markdown",
   "id": "1dbb0754",
   "metadata": {},
   "source": [
    "Begin by fitting a simple DecisionTreeRegressor() model to see for comparison purposes."
   ]
  },
  {
   "cell_type": "code",
   "execution_count": 52,
   "id": "6d387560",
   "metadata": {},
   "outputs": [
    {
     "name": "stdout",
     "output_type": "stream",
     "text": [
      "The test MAE for red wine data is: 0.425\n",
      "The train MAE for red wine data is: 0.0\n"
     ]
    }
   ],
   "source": [
    "model = DecisionTreeRegressor(random_state = 1) \n",
    "model.fit(red_train_x, red_train_y)\n",
    "pred = model.predict(red_test_x)\n",
    "print(f'The test MAE for red wine data is: {mean_absolute_error(red_test_y, pred)}')\n",
    "print(f'The train MAE for red wine data is: {mean_absolute_error(red_train_y, model.predict(red_train_x))}')"
   ]
  },
  {
   "cell_type": "code",
   "execution_count": 53,
   "id": "095006b4",
   "metadata": {},
   "outputs": [
    {
     "name": "stdout",
     "output_type": "stream",
     "text": [
      "The test MAE for white wine data is: 0.4963265306122449\n",
      "The train MAE for red wine data is: 0.0\n"
     ]
    }
   ],
   "source": [
    "model = DecisionTreeRegressor(random_state = 1) \n",
    "model.fit(white_train_x, white_train_y)\n",
    "pred = model.predict(white_test_x)\n",
    "print(f'The test MAE for white wine data is: {mean_absolute_error(white_test_y, pred)}')\n",
    "print(f'The train MAE for red wine data is: {mean_absolute_error(white_train_y, model.predict(white_train_x))}')"
   ]
  },
  {
   "cell_type": "code",
   "execution_count": 54,
   "id": "22eb494c",
   "metadata": {},
   "outputs": [
    {
     "name": "stdout",
     "output_type": "stream",
     "text": [
      "The test MAE for white wine data is: 0.49353846153846154\n",
      "The train MAE for red wine data is: 0.0\n"
     ]
    }
   ],
   "source": [
    "model = DecisionTreeRegressor(random_state = 1) \n",
    "model.fit(combined_train_x, combined_train_y)\n",
    "pred = model.predict(combined_test_x)\n",
    "print(f'The test MAE for white wine data is: {mean_absolute_error(combined_test_y, pred)}')\n",
    "print(f'The train MAE for red wine data is: {mean_absolute_error(combined_train_y, model.predict(combined_train_x))}')"
   ]
  },
  {
   "cell_type": "markdown",
   "id": "45bdf27f",
   "metadata": {},
   "source": [
    "Begin by tuning a simple DecisionTreeRegressor() model for the red wine using a coarse grid search and then a finer grid search to see for comparison purposes."
   ]
  },
  {
   "cell_type": "code",
   "execution_count": 48,
   "id": "02d9ae7f",
   "metadata": {},
   "outputs": [
    {
     "name": "stdout",
     "output_type": "stream",
     "text": [
      "Fitting 5 folds for each of 1640 candidates, totalling 8200 fits\n",
      "0.517918410041841 {'max_depth': 22, 'max_leaf_nodes': 302, 'min_samples_leaf': 1}\n"
     ]
    }
   ],
   "source": [
    "parameters = {'max_depth': range(10, 32, 3), \n",
    "              'max_leaf_nodes': range(2, 4100, 100),\n",
    "              'min_samples_leaf': [1, 2, 4, 8, 16]}\n",
    "cv = KFold(n_splits = 5, shuffle = True, random_state = 1)\n",
    "model = GridSearchCV(DecisionTreeRegressor(random_state = 1), parameters, n_jobs = -1, verbose = 1, cv = cv, \n",
    "                     scoring = ['neg_mean_absolute_error', 'r2'], refit = 'neg_mean_absolute_error')\n",
    "model.fit(red_train_x, red_train_y)\n",
    "print(-model.best_score_, model.best_params_) "
   ]
  },
  {
   "cell_type": "code",
   "execution_count": 50,
   "id": "6ffd46b8",
   "metadata": {},
   "outputs": [
    {
     "name": "stdout",
     "output_type": "stream",
     "text": [
      "The test MAE for red wine data is: 0.40881592214974566\n",
      "The train MAE for red wine data is: 0.06695985070665209\n"
     ]
    }
   ],
   "source": [
    "pred = model.predict(red_test_x)\n",
    "print(f'The test MAE for red wine data is: {mean_absolute_error(red_test_y, pred)}')\n",
    "print(f'The train MAE for red wine data is: {mean_absolute_error(red_train_y, model.predict(red_train_x))}')"
   ]
  },
  {
   "cell_type": "code",
   "execution_count": 49,
   "id": "176f0419",
   "metadata": {},
   "outputs": [
    {
     "name": "stdout",
     "output_type": "stream",
     "text": [
      "Fitting 5 folds for each of 1407 candidates, totalling 7035 fits\n",
      "0.5142499439686203 {'max_depth': 20, 'max_leaf_nodes': 256, 'min_samples_leaf': 1}\n"
     ]
    }
   ],
   "source": [
    "parameters = {'max_depth': range(19, 26), \n",
    "              'max_leaf_nodes': range(202, 403),\n",
    "              'min_samples_leaf': [1]}\n",
    "cv = KFold(n_splits = 5, shuffle = True, random_state = 1)\n",
    "model = GridSearchCV(DecisionTreeRegressor(random_state = 1), parameters, n_jobs = -1, verbose = 1, cv = cv, \n",
    "                     scoring = ['neg_mean_absolute_error', 'r2'], refit = 'neg_mean_absolute_error')\n",
    "model.fit(red_train_x, red_train_y)\n",
    "print(-model.best_score_, model.best_params_) "
   ]
  },
  {
   "cell_type": "code",
   "execution_count": 51,
   "id": "ca3defe8",
   "metadata": {},
   "outputs": [
    {
     "name": "stdout",
     "output_type": "stream",
     "text": [
      "The test MAE for red wine data is: 0.40881592214974566\n",
      "The train MAE for red wine data is: 0.06695985070665209\n"
     ]
    }
   ],
   "source": [
    "pred = model.predict(red_test_x)\n",
    "print(f'The test MAE for red wine data is: {mean_absolute_error(red_test_y, pred)}')\n",
    "print(f'The train MAE for red wine data is: {mean_absolute_error(red_train_y, model.predict(red_train_x))}')"
   ]
  },
  {
   "cell_type": "markdown",
   "id": "735b537f",
   "metadata": {},
   "source": [
    "The test MAE for red wine data improved from 0.425 to 0.409."
   ]
  },
  {
   "cell_type": "markdown",
   "id": "412a1f87",
   "metadata": {},
   "source": [
    "Next, proceed by tuning a simple DecisionTreeRegressor() model for the white wine using a coarse grid search and then a finer grid search to see for comparison purposes."
   ]
  },
  {
   "cell_type": "code",
   "execution_count": 59,
   "id": "1e105d44",
   "metadata": {},
   "outputs": [
    {
     "name": "stdout",
     "output_type": "stream",
     "text": [
      "Fitting 5 folds for each of 1640 candidates, totalling 8200 fits\n",
      "0.5138325567673547 {'max_depth': 25, 'max_leaf_nodes': 902, 'min_samples_leaf': 1}\n"
     ]
    }
   ],
   "source": [
    "parameters = {'max_depth': range(10, 32, 3), \n",
    "              'max_leaf_nodes': range(2, 4100, 100),\n",
    "              'min_samples_leaf': [1, 2, 4, 8, 16]}\n",
    "cv = KFold(n_splits = 5, shuffle = True, random_state = 1)\n",
    "model = GridSearchCV(DecisionTreeRegressor(random_state = 1), parameters, n_jobs = -1, verbose = 1, cv = cv, \n",
    "                     scoring = ['neg_mean_absolute_error', 'r2'], refit = 'neg_mean_absolute_error')\n",
    "model.fit(white_train_x, white_train_y)\n",
    "print(-model.best_score_, model.best_params_) "
   ]
  },
  {
   "cell_type": "code",
   "execution_count": 60,
   "id": "250eb8aa",
   "metadata": {},
   "outputs": [
    {
     "name": "stdout",
     "output_type": "stream",
     "text": [
      "The test MAE for white wine data is: 0.5172277376355146\n",
      "The train MAE for white wine data is: 0.04316875561391792\n"
     ]
    }
   ],
   "source": [
    "pred = model.predict(white_test_x)\n",
    "print(f'The test MAE for white wine data is: {mean_absolute_error(white_test_y, pred)}')\n",
    "print(f'The train MAE for white wine data is: {mean_absolute_error(white_train_y, model.predict(white_train_x))}')"
   ]
  },
  {
   "cell_type": "code",
   "execution_count": 61,
   "id": "b3966a3f",
   "metadata": {},
   "outputs": [
    {
     "name": "stdout",
     "output_type": "stream",
     "text": [
      "Fitting 5 folds for each of 1407 candidates, totalling 7035 fits\n",
      "0.5133149714552114 {'max_depth': 25, 'max_leaf_nodes': 853, 'min_samples_leaf': 1}\n"
     ]
    }
   ],
   "source": [
    "parameters = {'max_depth': range(22, 29), \n",
    "              'max_leaf_nodes': range(802, 1003),\n",
    "              'min_samples_leaf': [1]}\n",
    "cv = KFold(n_splits = 5, shuffle = True, random_state = 1)\n",
    "model = GridSearchCV(DecisionTreeRegressor(random_state = 1), parameters, n_jobs = -1, verbose = 1, cv = cv, \n",
    "                     scoring = ['neg_mean_absolute_error', 'r2'], refit = 'neg_mean_absolute_error')\n",
    "model.fit(white_train_x, white_train_y)\n",
    "print(-model.best_score_, model.best_params_) "
   ]
  },
  {
   "cell_type": "code",
   "execution_count": 62,
   "id": "20e51678",
   "metadata": {},
   "outputs": [
    {
     "name": "stdout",
     "output_type": "stream",
     "text": [
      "The test MAE for white wine data is: 0.5202131225779824\n",
      "The train MAE for white wine data is: 0.05770620935698176\n"
     ]
    }
   ],
   "source": [
    "pred = model.predict(white_test_x)\n",
    "print(f'The test MAE for white wine data is: {mean_absolute_error(white_test_y, pred)}')\n",
    "print(f'The train MAE for white wine data is: {mean_absolute_error(white_train_y, model.predict(white_train_x))}')"
   ]
  },
  {
   "cell_type": "markdown",
   "id": "2826ab02",
   "metadata": {},
   "source": [
    "The test MAE for white wine data did not improve and went from 0.496 to 0.520."
   ]
  },
  {
   "cell_type": "markdown",
   "id": "36cc760a",
   "metadata": {},
   "source": [
    "Next, proceed by tuning a simple DecisionTreeRegressor() model for the combined wine data using a coarse grid search and then a finer grid search to see for comparison purposes."
   ]
  },
  {
   "cell_type": "code",
   "execution_count": 63,
   "id": "c681eb69",
   "metadata": {},
   "outputs": [
    {
     "name": "stdout",
     "output_type": "stream",
     "text": [
      "Fitting 5 folds for each of 1640 candidates, totalling 8200 fits\n",
      "0.5264543077274084 {'max_depth': 25, 'max_leaf_nodes': 1202, 'min_samples_leaf': 1}\n"
     ]
    }
   ],
   "source": [
    "parameters = {'max_depth': range(10, 32, 3), \n",
    "              'max_leaf_nodes': range(2, 4100, 100),\n",
    "              'min_samples_leaf': [1, 2, 4, 8, 16]}\n",
    "cv = KFold(n_splits = 5, shuffle = True, random_state = 1)\n",
    "model = GridSearchCV(DecisionTreeRegressor(random_state = 1), parameters, n_jobs = -1, verbose = 1, cv = cv, \n",
    "                     scoring = ['neg_mean_absolute_error', 'r2'], refit = 'neg_mean_absolute_error')\n",
    "model.fit(combined_train_x, combined_train_y)\n",
    "print(-model.best_score_, model.best_params_) "
   ]
  },
  {
   "cell_type": "code",
   "execution_count": 65,
   "id": "31e96617",
   "metadata": {},
   "outputs": [
    {
     "name": "stdout",
     "output_type": "stream",
     "text": [
      "The test MAE for combined wine data is: 0.4918411203349246\n",
      "The train MAE for combined wine data is: 0.026721088442903447\n"
     ]
    }
   ],
   "source": [
    "pred = model.predict(combined_test_x)\n",
    "print(f'The test MAE for combined wine data is: {mean_absolute_error(combined_test_y, pred)}')\n",
    "print(f'The train MAE for combined wine data is: {mean_absolute_error(combined_train_y, model.predict(combined_train_x))}')"
   ]
  },
  {
   "cell_type": "code",
   "execution_count": 66,
   "id": "e4b14435",
   "metadata": {},
   "outputs": [
    {
     "name": "stdout",
     "output_type": "stream",
     "text": [
      "Fitting 5 folds for each of 1407 candidates, totalling 7035 fits\n",
      "0.5260067713668947 {'max_depth': 24, 'max_leaf_nodes': 1118, 'min_samples_leaf': 1}\n"
     ]
    }
   ],
   "source": [
    "parameters = {'max_depth': range(22, 29), \n",
    "              'max_leaf_nodes': range(1102, 1303),\n",
    "              'min_samples_leaf': [1]}\n",
    "cv = KFold(n_splits = 5, shuffle = True, random_state = 1)\n",
    "model = GridSearchCV(DecisionTreeRegressor(random_state = 1), parameters, n_jobs = -1, verbose = 1, cv = cv, \n",
    "                     scoring = ['neg_mean_absolute_error', 'r2'], refit = 'neg_mean_absolute_error')\n",
    "model.fit(combined_train_x, combined_train_y)\n",
    "print(-model.best_score_, model.best_params_) "
   ]
  },
  {
   "cell_type": "code",
   "execution_count": 67,
   "id": "dfd0b1c7",
   "metadata": {},
   "outputs": [
    {
     "name": "stdout",
     "output_type": "stream",
     "text": [
      "The test MAE for combined wine data is: 0.5045065538096555\n",
      "The train MAE for combined wine data is: 0.04582898145486125\n"
     ]
    }
   ],
   "source": [
    "pred = model.predict(combined_test_x)\n",
    "print(f'The test MAE for combined wine data is: {mean_absolute_error(combined_test_y, pred)}')\n",
    "print(f'The train MAE for combined wine data is: {mean_absolute_error(combined_train_y, model.predict(combined_train_x))}')"
   ]
  },
  {
   "cell_type": "markdown",
   "id": "a7d9b345",
   "metadata": {},
   "source": [
    "The test MAE for combined wine data did not improve and went from 0.494 to 0.505."
   ]
  },
  {
   "cell_type": "markdown",
   "id": "fa3ca20c",
   "metadata": {},
   "source": [
    "Then, consideration of bagging the decision trees can begin for the red, white, and combined wine data. "
   ]
  },
  {
   "cell_type": "code",
   "execution_count": 69,
   "id": "ab899361",
   "metadata": {},
   "outputs": [],
   "source": [
    "oob_mae = {}; test_mae = {}\n",
    "for i in np.linspace(10, 400, 40, dtype = int):\n",
    "    model = BaggingRegressor(base_estimator = DecisionTreeRegressor(random_state = 1), n_estimators = i, random_state = 1,\n",
    "                        n_jobs = -1, oob_score = True).fit(red_train_x, red_train_y)\n",
    "    oob_mae[i] = mean_absolute_error(model.oob_prediction_, red_train_y)\n",
    "    test_mae[i] = mean_absolute_error(model.predict(red_test_x), red_test_y)"
   ]
  },
  {
   "cell_type": "code",
   "execution_count": 80,
   "id": "bf58d3c9",
   "metadata": {},
   "outputs": [
    {
     "data": {
      "text/plain": [
       "<matplotlib.legend.Legend at 0x7fc1103395c0>"
      ]
     },
     "execution_count": 80,
     "metadata": {},
     "output_type": "execute_result"
    },
    {
     "data": {
      "image/png": "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\n",
      "text/plain": [
       "<Figure size 640x480 with 1 Axes>"
      ]
     },
     "metadata": {
      "needs_background": "light"
     },
     "output_type": "display_data"
    }
   ],
   "source": [
    "plt.rcParams.update({'font.size': 15})\n",
    "plt.figure(figsize = (8, 6), dpi = 80)\n",
    "plt.plot(list(oob_mae.keys()), list(oob_mae.values()), label = 'Out of Bag MAE')\n",
    "plt.plot(list(oob_mae.keys()), list(oob_mae.values()), 'o', color = 'blue')\n",
    "plt.plot(list(test_mae.keys()), list(test_mae.values()), label = 'Test Data MAE')\n",
    "plt.xlabel('Number of Trees')\n",
    "plt.ylabel('MAE')\n",
    "plt.title('Red Wine')\n",
    "plt.legend()"
   ]
  },
  {
   "cell_type": "code",
   "execution_count": 81,
   "id": "6de3367d",
   "metadata": {},
   "outputs": [],
   "source": [
    "oob_mae = {}; test_mae = {}\n",
    "for i in np.linspace(10, 400, 40, dtype = int):\n",
    "    model = BaggingRegressor(base_estimator = DecisionTreeRegressor(random_state = 1), n_estimators = i, random_state = 1,\n",
    "                        n_jobs = -1, oob_score = True).fit(white_train_x, white_train_y)\n",
    "    oob_mae[i] = mean_absolute_error(model.oob_prediction_, white_train_y)\n",
    "    test_mae[i] = mean_absolute_error(model.predict(white_test_x), white_test_y)"
   ]
  },
  {
   "cell_type": "code",
   "execution_count": 82,
   "id": "556cf41c",
   "metadata": {},
   "outputs": [
    {
     "data": {
      "text/plain": [
       "<matplotlib.legend.Legend at 0x7fc128310470>"
      ]
     },
     "execution_count": 82,
     "metadata": {},
     "output_type": "execute_result"
    },
    {
     "data": {
      "image/png": "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\n",
      "text/plain": [
       "<Figure size 640x480 with 1 Axes>"
      ]
     },
     "metadata": {
      "needs_background": "light"
     },
     "output_type": "display_data"
    }
   ],
   "source": [
    "plt.rcParams.update({'font.size': 15})\n",
    "plt.figure(figsize = (8, 6), dpi = 80)\n",
    "plt.plot(list(oob_mae.keys()), list(oob_mae.values()), label = 'Out of Bag MAE')\n",
    "plt.plot(list(oob_mae.keys()), list(oob_mae.values()), 'o', color = 'blue')\n",
    "plt.plot(list(test_mae.keys()), list(test_mae.values()), label = 'Test Data MAE')\n",
    "plt.xlabel('Number of Trees')\n",
    "plt.ylabel('MAE')\n",
    "plt.title('White Wine')\n",
    "plt.legend()"
   ]
  },
  {
   "cell_type": "code",
   "execution_count": 83,
   "id": "dab3a26f",
   "metadata": {},
   "outputs": [],
   "source": [
    "oob_mae = {}; test_mae = {}\n",
    "for i in np.linspace(10, 400, 40, dtype = int):\n",
    "    model = BaggingRegressor(base_estimator = DecisionTreeRegressor(random_state = 1), n_estimators = i, random_state = 1,\n",
    "                        n_jobs = -1, oob_score = True).fit(combined_train_x, combined_train_y)\n",
    "    oob_mae[i] = mean_absolute_error(model.oob_prediction_, combined_train_y)\n",
    "    test_mae[i] = mean_absolute_error(model.predict(combined_test_x), combined_test_y)"
   ]
  },
  {
   "cell_type": "code",
   "execution_count": 84,
   "id": "ae76b992",
   "metadata": {},
   "outputs": [
    {
     "data": {
      "text/plain": [
       "<matplotlib.legend.Legend at 0x7fc120fff048>"
      ]
     },
     "execution_count": 84,
     "metadata": {},
     "output_type": "execute_result"
    },
    {
     "data": {
      "image/png": "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\n",
      "text/plain": [
       "<Figure size 640x480 with 1 Axes>"
      ]
     },
     "metadata": {
      "needs_background": "light"
     },
     "output_type": "display_data"
    }
   ],
   "source": [
    "plt.rcParams.update({'font.size': 15})\n",
    "plt.figure(figsize = (8, 6), dpi = 80)\n",
    "plt.plot(list(oob_mae.keys()), list(oob_mae.values()), label = 'Out of Bag MAE')\n",
    "plt.plot(list(oob_mae.keys()), list(oob_mae.values()), 'o', color = 'blue')\n",
    "plt.plot(list(test_mae.keys()), list(test_mae.values()), label = 'Test Data MAE')\n",
    "plt.xlabel('Number of Trees')\n",
    "plt.ylabel('MAE')\n",
    "plt.title('Combined Wine')\n",
    "plt.legend()"
   ]
  },
  {
   "cell_type": "markdown",
   "id": "854bf9c3",
   "metadata": {},
   "source": [
    "Creating the initial BaggedRegressor() models for DecisionTreeRegressor() on red, white, and combined wine data."
   ]
  },
  {
   "cell_type": "code",
   "execution_count": 7,
   "id": "f6eb9065",
   "metadata": {},
   "outputs": [
    {
     "name": "stdout",
     "output_type": "stream",
     "text": [
      "Fitting 5 folds for each of 36 candidates, totalling 180 fits\n"
     ]
    },
    {
     "data": {
      "text/plain": [
       "GridSearchCV(cv=KFold(n_splits=5, random_state=1, shuffle=True),\n",
       "             estimator=BaggingRegressor(n_jobs=-1, random_state=1), n_jobs=-1,\n",
       "             param_grid={'bootstrap': [True, False],\n",
       "                         'bootstrap_features': [True, False],\n",
       "                         'max_features': [0.86, 0.8625, 0.865],\n",
       "                         'max_samples': [0.815, 0.82, 0.8225],\n",
       "                         'n_estimators': [400]},\n",
       "             refit='neg_mean_squared_error',\n",
       "             scoring=['neg_mean_squared_error', 'r2'], verbose=1)"
      ]
     },
     "execution_count": 7,
     "metadata": {},
     "output_type": "execute_result"
    }
   ],
   "source": [
    "params = {'n_estimators': [400],\n",
    "          'max_samples': [0.815, 0.82, 0.8225],\n",
    "          'max_features': [0.86, 0.8625, 0.865],\n",
    "          'bootstrap': [True, False],\n",
    "          'bootstrap_features': [True, False]}\n",
    "\n",
    "cv = KFold(n_splits = 5, shuffle = True, random_state = 1)\n",
    "bagging_regressor_grid = GridSearchCV(BaggingRegressor(random_state = 1, n_jobs = -1), \n",
    "                                      param_grid = params, cv = cv, scoring = ['neg_mean_squared_error', 'r2'], \n",
    "                                      refit = 'neg_mean_squared_error', n_jobs = -1, verbose = 1)\n",
    "bagging_regressor_grid.fit(red_train_x, red_train_y)"
   ]
  },
  {
   "cell_type": "code",
   "execution_count": 8,
   "id": "08633789",
   "metadata": {},
   "outputs": [
    {
     "data": {
      "text/plain": [
       "{'bootstrap': False,\n",
       " 'bootstrap_features': True,\n",
       " 'max_features': 0.86,\n",
       " 'max_samples': 0.8225,\n",
       " 'n_estimators': 400}"
      ]
     },
     "execution_count": 8,
     "metadata": {},
     "output_type": "execute_result"
    }
   ],
   "source": [
    "bagging_regressor_grid.best_params_"
   ]
  },
  {
   "cell_type": "code",
   "execution_count": 9,
   "id": "6f319719",
   "metadata": {},
   "outputs": [
    {
     "name": "stdout",
     "output_type": "stream",
     "text": [
      "The test MAE for red wine data is: 0.397953125\n",
      "The train MAE for red wine data is: 0.07300979983319433\n",
      "The test RMSE for red wine data is: 0.5561865167425851\n"
     ]
    }
   ],
   "source": [
    "pred = bagging_regressor_grid.best_estimator_.predict(red_test_x)\n",
    "print(f'The test MAE for red wine data is: {mean_absolute_error(red_test_y, pred)}')\n",
    "print(f'The train MAE for red wine data is: {mean_absolute_error(red_train_y, bagging_regressor_grid.best_estimator_.predict(red_train_x))}')\n",
    "print(f'The test RMSE for red wine data is: {np.sqrt(mean_squared_error(red_test_y, pred))}')"
   ]
  },
  {
   "cell_type": "markdown",
   "id": "90e89cb0",
   "metadata": {},
   "source": [
    "The test MAE for red wine data improved from 0.425 to 0.387 (naive) and from 0.409 to 0.387 (tuned decision trees)."
   ]
  },
  {
   "cell_type": "code",
   "execution_count": 10,
   "id": "ba2fbc40",
   "metadata": {},
   "outputs": [
    {
     "name": "stdout",
     "output_type": "stream",
     "text": [
      "Fitting 5 folds for each of 36 candidates, totalling 180 fits\n"
     ]
    },
    {
     "data": {
      "text/plain": [
       "GridSearchCV(cv=KFold(n_splits=5, random_state=1, shuffle=True),\n",
       "             estimator=BaggingRegressor(n_jobs=-1, random_state=1), n_jobs=-1,\n",
       "             param_grid={'bootstrap': [True, False],\n",
       "                         'bootstrap_features': [True, False],\n",
       "                         'max_features': [0.645, 0.65, 0.655],\n",
       "                         'max_samples': [0.94, 0.945, 0.95],\n",
       "                         'n_estimators': [400]},\n",
       "             refit='neg_mean_squared_error',\n",
       "             scoring=['neg_mean_squared_error', 'r2'], verbose=1)"
      ]
     },
     "execution_count": 10,
     "metadata": {},
     "output_type": "execute_result"
    }
   ],
   "source": [
    "params = {'n_estimators': [400],\n",
    "          'max_samples': [0.94, 0.945, 0.95],\n",
    "          'max_features': [0.645, 0.65, 0.655],\n",
    "          'bootstrap': [True, False],\n",
    "          'bootstrap_features': [True, False]}\n",
    "\n",
    "cv = KFold(n_splits = 5, shuffle = True, random_state = 1)\n",
    "bagging_regressor_grid = GridSearchCV(BaggingRegressor(random_state = 1, n_jobs = -1), \n",
    "                                      param_grid = params, cv = cv, scoring = ['neg_mean_squared_error', 'r2'], \n",
    "                                      refit = 'neg_mean_squared_error', n_jobs = -1, verbose = 1)\n",
    "bagging_regressor_grid.fit(white_train_x, white_train_y)"
   ]
  },
  {
   "cell_type": "code",
   "execution_count": 11,
   "id": "fd2c10ae",
   "metadata": {},
   "outputs": [
    {
     "data": {
      "text/plain": [
       "{'bootstrap': False,\n",
       " 'bootstrap_features': False,\n",
       " 'max_features': 0.645,\n",
       " 'max_samples': 0.945,\n",
       " 'n_estimators': 400}"
      ]
     },
     "execution_count": 11,
     "metadata": {},
     "output_type": "execute_result"
    }
   ],
   "source": [
    "bagging_regressor_grid.best_params_"
   ]
  },
  {
   "cell_type": "code",
   "execution_count": 12,
   "id": "a976573f",
   "metadata": {},
   "outputs": [
    {
     "name": "stdout",
     "output_type": "stream",
     "text": [
      "The test MAE for white wine data is: 0.4079479591836735\n",
      "The train MAE for white wine data is: 0.02228627824666488\n",
      "The test RMSE for white wine data is: 0.6213476517512033\n"
     ]
    }
   ],
   "source": [
    "pred = bagging_regressor_grid.best_estimator_.predict(white_test_x)\n",
    "print(f'The test MAE for white wine data is: {mean_absolute_error(white_test_y, pred)}')\n",
    "print(f'The train MAE for white wine data is: {mean_absolute_error(white_train_y, bagging_regressor_grid.best_estimator_.predict(white_train_x))}')\n",
    "print(f'The test RMSE for white wine data is: {np.sqrt(mean_squared_error(white_test_y, pred))}')"
   ]
  },
  {
   "cell_type": "markdown",
   "id": "43bd5252",
   "metadata": {},
   "source": [
    "The test MAE for white wine data improved from 0.496 to 0.408 (naive) and from 0.520 to 0.408 (tuned decision trees)."
   ]
  },
  {
   "cell_type": "code",
   "execution_count": 13,
   "id": "36701bb9",
   "metadata": {},
   "outputs": [
    {
     "name": "stdout",
     "output_type": "stream",
     "text": [
      "Fitting 5 folds for each of 36 candidates, totalling 180 fits\n"
     ]
    },
    {
     "data": {
      "text/plain": [
       "GridSearchCV(cv=KFold(n_splits=5, random_state=1, shuffle=True),\n",
       "             estimator=BaggingRegressor(n_jobs=-1, random_state=1), n_jobs=-1,\n",
       "             param_grid={'bootstrap': [True, False],\n",
       "                         'bootstrap_features': [True, False],\n",
       "                         'max_features': [0.69, 0.695, 0.7],\n",
       "                         'max_samples': [0.985, 0.99, 0.995],\n",
       "                         'n_estimators': [400]},\n",
       "             refit='neg_mean_squared_error',\n",
       "             scoring=['neg_mean_squared_error', 'r2'], verbose=1)"
      ]
     },
     "execution_count": 13,
     "metadata": {},
     "output_type": "execute_result"
    }
   ],
   "source": [
    "params = {'n_estimators': [400],\n",
    "          'max_samples': [0.985, 0.99, 0.995],\n",
    "          'max_features': [0.69, 0.695, 0.70],\n",
    "          'bootstrap': [True, False],\n",
    "          'bootstrap_features': [True, False]}\n",
    "\n",
    "cv = KFold(n_splits = 5, shuffle = True, random_state = 1)\n",
    "bagging_regressor_grid = GridSearchCV(BaggingRegressor(random_state = 1, n_jobs = -1), \n",
    "                                      param_grid = params, cv = cv, scoring = ['neg_mean_squared_error', 'r2'], \n",
    "                                      refit = 'neg_mean_squared_error', n_jobs = -1, verbose = 1)\n",
    "bagging_regressor_grid.fit(combined_train_x, combined_train_y)"
   ]
  },
  {
   "cell_type": "code",
   "execution_count": 14,
   "id": "88822b36",
   "metadata": {},
   "outputs": [
    {
     "data": {
      "text/plain": [
       "{'bootstrap': False,\n",
       " 'bootstrap_features': False,\n",
       " 'max_features': 0.69,\n",
       " 'max_samples': 0.985,\n",
       " 'n_estimators': 400}"
      ]
     },
     "execution_count": 14,
     "metadata": {},
     "output_type": "execute_result"
    }
   ],
   "source": [
    "bagging_regressor_grid.best_params_"
   ]
  },
  {
   "cell_type": "code",
   "execution_count": 15,
   "id": "1f0c97bb",
   "metadata": {},
   "outputs": [
    {
     "name": "stdout",
     "output_type": "stream",
     "text": [
      "The test MAE for combined wine data is: 0.40168615384615386\n",
      "The train MAE for combined wine data is: 0.006457820197044388\n",
      "The test RMSE for combined wine data is: 0.6114696545712948\n"
     ]
    }
   ],
   "source": [
    "pred = bagging_regressor_grid.best_estimator_.predict(combined_test_x)\n",
    "print(f'The test MAE for combined wine data is: {mean_absolute_error(combined_test_y, pred)}')\n",
<<<<<<< Updated upstream
    "print(f'The train MAE for combined wine data is: {mean_absolute_error(combined_train_y, bagging_regressor_grid.best_estimator_.predict(combined_train_x))}')"
=======
    "print(f'The train MAE for combined wine data is: {mean_absolute_error(combined_train_y, bagging_regressor_grid.best_estimator_.predict(combined_train_x))}')\n",
    "print(f'The test RMSE for combined wine data is: {np.sqrt(mean_squared_error(combined_test_y, pred))}')"
>>>>>>> Stashed changes
   ]
  },
  {
   "cell_type": "markdown",
   "id": "35690a60",
   "metadata": {},
   "source": [
    "The test MAE for combined wine data improved from 0.494 to 0.401 (naive) and from 0.505 to 0.401 (tuned decision trees)."
   ]
  },
  {
   "cell_type": "code",
   "execution_count": null,
   "id": "26175718",
   "metadata": {},
   "outputs": [],
   "source": []
  }
 ],
 "metadata": {
  "kernelspec": {
   "display_name": "Python 3 (ipykernel)",
   "language": "python",
   "name": "python3"
  },
  "language_info": {
   "codemirror_mode": {
    "name": "ipython",
    "version": 3
   },
   "file_extension": ".py",
   "mimetype": "text/x-python",
   "name": "python",
   "nbconvert_exporter": "python",
   "pygments_lexer": "ipython3",
   "version": "3.9.12"
  }
 },
 "nbformat": 4,
 "nbformat_minor": 5
}
