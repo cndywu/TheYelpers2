{
 "cells": [
  {
   "cell_type": "code",
   "execution_count": 1,
   "id": "4188eba0",
   "metadata": {},
   "outputs": [],
   "source": [
    "import pandas as pd\n",
    "import numpy as np\n",
    "import seaborn as sns\n",
    "import matplotlib.pyplot as plt\n",
    "from sklearn.metrics import mean_squared_error\n",
    "from sklearn.model_selection import cross_val_score,train_test_split\n",
    "from sklearn.metrics import mean_squared_error, r2_score, mean_absolute_error, precision_recall_curve, accuracy_score, recall_score\n",
    "from sklearn.model_selection import KFold, StratifiedKFold\n",
    "from sklearn.tree import DecisionTreeRegressor, DecisionTreeClassifier\n",
    "from sklearn.model_selection import GridSearchCV, ParameterGrid, cross_val_predict\n",
    "from sklearn.tree import export_graphviz \n",
    "from six import StringIO\n",
    "from IPython.display import Image  \n",
    "import time as tm\n",
    "from sklearn.ensemble import BaggingRegressor, BaggingClassifier, RandomForestRegressor, RandomForestClassifier\n",
    "import warnings\n",
    "warnings.filterwarnings(\"ignore\")\n",
    "from sklearn.linear_model import LinearRegression, LogisticRegression\n",
    "import itertools as it"
   ]
  },
  {
   "cell_type": "markdown",
   "id": "c2ae1b80",
   "metadata": {},
   "source": [
    "The below code was used to split the data into train and test for both red and white wine."
   ]
  },
  {
   "cell_type": "code",
   "execution_count": 5,
   "id": "cb8a0557",
   "metadata": {},
   "outputs": [],
   "source": [
    "red = pd.read_csv('winequality-red.csv', delimiter = ';')\n",
    "white = pd.read_csv('winequality-white.csv', delimiter = ';')"
   ]
  },
  {
   "cell_type": "code",
   "execution_count": 9,
   "id": "12498c46",
   "metadata": {},
   "outputs": [],
   "source": [
    "red_train, red_test = train_test_split(red, test_size = 0.25)"
   ]
  },
  {
   "cell_type": "code",
   "execution_count": 12,
   "id": "19fdfcb3",
   "metadata": {},
   "outputs": [],
   "source": [
    "white_train, white_test = train_test_split(white, test_size = 0.25)"
   ]
  },
  {
   "cell_type": "code",
   "execution_count": 15,
   "id": "3449a6ac",
   "metadata": {},
   "outputs": [],
   "source": [
    "red_train.to_csv('red_train.csv', index = False)\n",
    "red_test.to_csv('red_test.csv', index = False)\n",
    "white_train.to_csv('white_train.csv', index = False)\n",
    "white_test.to_csv('white_test.csv', index = False)"
   ]
  },
  {
   "cell_type": "markdown",
   "id": "3136c1e8",
   "metadata": {},
   "source": [
    "The below code starts after splitting the train and test for red and white wine."
   ]
  },
  {
   "cell_type": "code",
   "execution_count": 30,
   "id": "48be710f",
   "metadata": {},
   "outputs": [],
   "source": [
    "red_train = pd.read_csv('red_train.csv')\n",
    "red_test = pd.read_csv('red_test.csv')\n",
    "white_train = pd.read_csv('white_train.csv')\n",
    "white_test = pd.read_csv('white_test.csv')"
   ]
  },
  {
   "cell_type": "markdown",
   "id": "24cd68c3",
   "metadata": {},
   "source": [
    "Creating combined train and test data for both red and white wine, along with a new column for dummy variables of whether they are white or red wine."
   ]
  },
  {
   "cell_type": "code",
   "execution_count": 31,
   "id": "7c34fee4",
   "metadata": {},
   "outputs": [],
   "source": [
    "red_train_copy = red_train.copy()\n",
    "red_test_copy = red_test.copy()\n",
    "white_train_copy = white_train.copy()\n",
    "white_test_copy = white_test.copy()\n",
    "red_train_copy['type'] = 'red'\n",
    "red_test_copy['type'] = 'red'\n",
    "white_train_copy['type'] = 'white'\n",
    "white_test_copy['type'] = 'white'"
   ]
  },
  {
   "cell_type": "code",
   "execution_count": 34,
   "id": "916e11fd",
   "metadata": {},
   "outputs": [],
   "source": [
    "combined_train = pd.concat([red_train_copy, white_train_copy], axis = 0)\n",
    "combined_test = pd.concat([red_test_copy, white_test_copy], axis = 0)\n",
    "combined_train = pd.get_dummies(combined_train)\n",
    "combined_test = pd.get_dummies(combined_test)"
   ]
  },
  {
   "cell_type": "markdown",
   "id": "032e1784",
   "metadata": {},
   "source": [
    "Creating separate dataframes for the predictors and response variable in X and y for both red, white, and combined data on the wines."
   ]
  },
  {
   "cell_type": "code",
   "execution_count": 40,
   "id": "84b53922",
   "metadata": {},
   "outputs": [],
   "source": [
    "red_train_x = red_train.drop('quality', axis = 1)\n",
    "red_train_y = red_train['quality']\n",
    "red_test_x = red_test.drop('quality', axis = 1)\n",
    "red_test_y = red_test['quality']\n",
    "white_train_x = white_train.drop('quality', axis = 1)\n",
    "white_train_y = white_train['quality']\n",
    "white_test_x = white_test.drop('quality', axis = 1)\n",
    "white_test_y = white_test['quality']\n",
    "combined_train_x = combined_train.drop('quality', axis = 1)\n",
    "combined_train_y = combined_train['quality']\n",
    "combined_test_x = combined_test.drop('quality', axis = 1)\n",
    "combined_test_y = combined_test['quality']"
   ]
  },
  {
   "cell_type": "markdown",
   "id": "3da9231a",
   "metadata": {},
   "source": [
    "Begin by fitting a simple DecisionTreeRegressor() model to see for comparison purposes."
   ]
  },
  {
   "cell_type": "code",
   "execution_count": 52,
   "id": "e40ccf37",
   "metadata": {},
   "outputs": [
    {
     "name": "stdout",
     "output_type": "stream",
     "text": [
      "The test MAE for red wine data is: 0.425\n",
      "The train MAE for red wine data is: 0.0\n"
     ]
    }
   ],
   "source": [
    "model = DecisionTreeRegressor(random_state = 1) \n",
    "model.fit(red_train_x, red_train_y)\n",
    "pred = model.predict(red_test_x)\n",
    "print(f'The test MAE for red wine data is: {mean_absolute_error(red_test_y, pred)}')\n",
    "print(f'The train MAE for red wine data is: {mean_absolute_error(red_train_y, model.predict(red_train_x))}')"
   ]
  },
  {
   "cell_type": "code",
   "execution_count": 53,
   "id": "f4e9a270",
   "metadata": {},
   "outputs": [
    {
     "name": "stdout",
     "output_type": "stream",
     "text": [
      "The test MAE for white wine data is: 0.4963265306122449\n",
      "The train MAE for red wine data is: 0.0\n"
     ]
    }
   ],
   "source": [
    "model = DecisionTreeRegressor(random_state = 1) \n",
    "model.fit(white_train_x, white_train_y)\n",
    "pred = model.predict(white_test_x)\n",
    "print(f'The test MAE for white wine data is: {mean_absolute_error(white_test_y, pred)}')\n",
    "print(f'The train MAE for red wine data is: {mean_absolute_error(white_train_y, model.predict(white_train_x))}')"
   ]
  },
  {
   "cell_type": "code",
   "execution_count": 54,
   "id": "5388333b",
   "metadata": {},
   "outputs": [
    {
     "name": "stdout",
     "output_type": "stream",
     "text": [
      "The test MAE for white wine data is: 0.49353846153846154\n",
      "The train MAE for red wine data is: 0.0\n"
     ]
    }
   ],
   "source": [
    "model = DecisionTreeRegressor(random_state = 1) \n",
    "model.fit(combined_train_x, combined_train_y)\n",
    "pred = model.predict(combined_test_x)\n",
    "print(f'The test MAE for white wine data is: {mean_absolute_error(combined_test_y, pred)}')\n",
    "print(f'The train MAE for red wine data is: {mean_absolute_error(combined_train_y, model.predict(combined_train_x))}')"
   ]
  },
  {
   "cell_type": "markdown",
   "id": "f0689778",
   "metadata": {},
   "source": [
    "Begin by tuning a simple DecisionTreeRegressor() model for the red wine using a coarse grid search and then a finer grid search to see for comparison purposes."
   ]
  },
  {
   "cell_type": "code",
   "execution_count": 48,
   "id": "bcecebc5",
   "metadata": {},
   "outputs": [
    {
     "name": "stdout",
     "output_type": "stream",
     "text": [
      "Fitting 5 folds for each of 1640 candidates, totalling 8200 fits\n",
      "0.517918410041841 {'max_depth': 22, 'max_leaf_nodes': 302, 'min_samples_leaf': 1}\n"
     ]
    }
   ],
   "source": [
    "parameters = {'max_depth': range(10, 32, 3), \n",
    "              'max_leaf_nodes': range(2, 4100, 100),\n",
    "              'min_samples_leaf': [1, 2, 4, 8, 16]}\n",
    "cv = KFold(n_splits = 5, shuffle = True, random_state = 1)\n",
    "model = GridSearchCV(DecisionTreeRegressor(random_state = 1), parameters, n_jobs = -1, verbose = 1, cv = cv, \n",
    "                     scoring = ['neg_mean_absolute_error', 'r2'], refit = 'neg_mean_absolute_error')\n",
    "model.fit(red_train_x, red_train_y)\n",
    "print(-model.best_score_, model.best_params_) "
   ]
  },
  {
   "cell_type": "code",
   "execution_count": 50,
   "id": "0fa710bc",
   "metadata": {},
   "outputs": [
    {
     "name": "stdout",
     "output_type": "stream",
     "text": [
      "The test MAE for red wine data is: 0.40881592214974566\n",
      "The train MAE for red wine data is: 0.06695985070665209\n"
     ]
    }
   ],
   "source": [
    "pred = model.predict(red_test_x)\n",
    "print(f'The test MAE for red wine data is: {mean_absolute_error(red_test_y, pred)}')\n",
    "print(f'The train MAE for red wine data is: {mean_absolute_error(red_train_y, model.predict(red_train_x))}')"
   ]
  },
  {
   "cell_type": "code",
   "execution_count": 49,
   "id": "5b2182e6",
   "metadata": {},
   "outputs": [
    {
     "name": "stdout",
     "output_type": "stream",
     "text": [
      "Fitting 5 folds for each of 1407 candidates, totalling 7035 fits\n",
      "0.5142499439686203 {'max_depth': 20, 'max_leaf_nodes': 256, 'min_samples_leaf': 1}\n"
     ]
    }
   ],
   "source": [
    "parameters = {'max_depth': range(19, 26), \n",
    "              'max_leaf_nodes': range(202, 403),\n",
    "              'min_samples_leaf': [1]}\n",
    "cv = KFold(n_splits = 5, shuffle = True, random_state = 1)\n",
    "model = GridSearchCV(DecisionTreeRegressor(random_state = 1), parameters, n_jobs = -1, verbose = 1, cv = cv, \n",
    "                     scoring = ['neg_mean_absolute_error', 'r2'], refit = 'neg_mean_absolute_error')\n",
    "model.fit(red_train_x, red_train_y)\n",
    "print(-model.best_score_, model.best_params_) "
   ]
  },
  {
   "cell_type": "code",
   "execution_count": 51,
   "id": "a67c4c83",
   "metadata": {},
   "outputs": [
    {
     "name": "stdout",
     "output_type": "stream",
     "text": [
      "The test MAE for red wine data is: 0.40881592214974566\n",
      "The train MAE for red wine data is: 0.06695985070665209\n"
     ]
    }
   ],
   "source": [
    "pred = model.predict(red_test_x)\n",
    "print(f'The test MAE for red wine data is: {mean_absolute_error(red_test_y, pred)}')\n",
    "print(f'The train MAE for red wine data is: {mean_absolute_error(red_train_y, model.predict(red_train_x))}')"
   ]
  },
  {
   "cell_type": "code",
   "execution_count": null,
   "id": "e6ac59bd",
   "metadata": {},
   "outputs": [],
   "source": []
  }
 ],
 "metadata": {
  "kernelspec": {
   "display_name": "Python 3",
   "language": "python",
   "name": "python3"
  },
  "language_info": {
   "codemirror_mode": {
    "name": "ipython",
    "version": 3
   },
   "file_extension": ".py",
   "mimetype": "text/x-python",
   "name": "python",
   "nbconvert_exporter": "python",
   "pygments_lexer": "ipython3",
   "version": "3.6.13"
  }
 },
 "nbformat": 4,
 "nbformat_minor": 5
}
