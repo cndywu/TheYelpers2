{
 "cells": [
  {
   "cell_type": "code",
   "execution_count": 10,
   "id": "0a7e19a7",
   "metadata": {},
   "outputs": [],
   "source": [
    "import pandas as pd\n",
    "import numpy as np\n",
    "import seaborn as sns\n",
    "import matplotlib.pyplot as plt\n",
    "from sklearn.metrics import mean_squared_error, mean_absolute_error\n",
    "from sklearn.model_selection import cross_val_score,train_test_split, GridSearchCV, ParameterGrid, StratifiedKFold, RandomizedSearchCV\n",
    "from sklearn.metrics import mean_squared_error,r2_score,roc_curve,auc,precision_recall_curve, accuracy_score\n",
    "from sklearn.model_selection import KFold\n",
    "from sklearn.tree import DecisionTreeRegressor,DecisionTreeClassifier\n",
    "from sklearn.ensemble import VotingRegressor, VotingClassifier, StackingRegressor, StackingClassifier, GradientBoostingRegressor,GradientBoostingClassifier, BaggingRegressor,BaggingClassifier,RandomForestRegressor,RandomForestClassifier,AdaBoostRegressor,AdaBoostClassifier\n",
    "from sklearn.linear_model import LinearRegression,LogisticRegression, LassoCV, RidgeCV, ElasticNetCV\n",
    "from sklearn.neighbors import KNeighborsRegressor\n",
    "import itertools as it\n",
    "import time as time\n",
    "import xgboost as xgb\n",
    "from pyearth import Earth\n",
    "\n",
    "np.warnings.filterwarnings('ignore')"
   ]
  },
  {
   "cell_type": "code",
   "execution_count": 4,
   "id": "925366b8",
   "metadata": {},
   "outputs": [],
   "source": [
    "red_train = pd.read_csv('red_train.csv')\n",
    "red_test = pd.read_csv('red_test.csv')\n",
    "white_train = pd.read_csv('white_train.csv')\n",
    "white_test = pd.read_csv('white_test.csv')"
   ]
  },
  {
   "cell_type": "code",
   "execution_count": 5,
   "id": "6aaa713a",
   "metadata": {},
   "outputs": [],
   "source": [
    "red_train_copy = red_train.copy()\n",
    "red_test_copy = red_test.copy()\n",
    "white_train_copy = white_train.copy()\n",
    "white_test_copy = white_test.copy()\n",
    "red_train_copy['type'] = 'red'\n",
    "red_test_copy['type'] = 'red'\n",
    "white_train_copy['type'] = 'white'\n",
    "white_test_copy['type'] = 'white'"
   ]
  },
  {
   "cell_type": "code",
   "execution_count": 6,
   "id": "f733688e",
   "metadata": {},
   "outputs": [],
   "source": [
    "combined_train = pd.concat([red_train_copy, white_train_copy], axis = 0)\n",
    "combined_test = pd.concat([red_test_copy, white_test_copy], axis = 0)\n",
    "combined_train = pd.get_dummies(combined_train)\n",
    "combined_test = pd.get_dummies(combined_test)"
   ]
  },
  {
   "cell_type": "code",
   "execution_count": 7,
   "id": "c52e9d0c",
   "metadata": {},
   "outputs": [],
   "source": [
    "red_train_x = red_train.drop('quality', axis = 1)\n",
    "red_train_y = red_train['quality']\n",
    "red_test_x = red_test.drop('quality', axis = 1)\n",
    "red_test_y = red_test['quality']\n",
    "white_train_x = white_train.drop('quality', axis = 1)\n",
    "white_train_y = white_train['quality']\n",
    "white_test_x = white_test.drop('quality', axis = 1)\n",
    "white_test_y = white_test['quality']\n",
    "combined_train_x = combined_train.drop('quality', axis = 1)\n",
    "combined_train_y = combined_train['quality']\n",
    "combined_test_x = combined_test.drop('quality', axis = 1)\n",
    "combined_test_y = combined_test['quality']"
   ]
  },
  {
   "cell_type": "markdown",
   "id": "d2529fc9",
   "metadata": {},
   "source": [
    "# Ensemble for RED wine"
   ]
  },
  {
   "cell_type": "code",
   "execution_count": 11,
   "id": "06a9a999",
   "metadata": {},
   "outputs": [
    {
     "name": "stdout",
     "output_type": "stream",
     "text": [
      "MAE for MARS =  0.4850365465825792\n",
      "MAE for Bagged DT =  0.38671875\n",
      "MAE for Random forest =  0.3612529411764706\n",
      "MAE for XGBoost =  0.37815727829933166\n"
     ]
    }
   ],
   "source": [
    "# Tuned MARS model by Cindy\n",
    "model_red_MARS = Earth(max_degree = 4, max_terms = 50).fit(red_train_x, red_train_y)\n",
    "print(\"MAE for MARS = \", mean_absolute_error(model_red_MARS.predict(red_test_x), red_test_y))\n",
    "\n",
    "#Tuned Bagged Decision Tree model by Michael\n",
    "model_red_DT = BaggingRegressor(base_estimator=DecisionTreeRegressor(), n_estimators=400, random_state=1,\n",
    "                        n_jobs=-1,bootstrap_features=False,bootstrap=False,\n",
    "                        max_features=0.86,max_samples=0.82).fit(red_train_x, red_train_y)\n",
    "print(\"MAE for Bagged DT = \", mean_absolute_error(model_red_DT.predict(red_test_x), red_test_y))\n",
    "\n",
    "#Tuned Random forest model by Sabrina\n",
    "model_red_RF = RandomForestRegressor(n_estimators=850, random_state=1,\n",
    "                                     bootstrap = False,n_jobs=-1, max_features=7).fit(red_train_x, red_train_y)\n",
    "print(\"MAE for Random forest = \", mean_absolute_error(model_red_RF.predict(red_test_x), red_test_y))\n",
    "\n",
    "#Tuned XGBoost model by Keaton\n",
    "model_red_xgb = xgb.XGBRegressor(random_state = 1, gamma = 0, learning_rate = 0.01, max_depth = 14, n_estimators = 4000,\n",
    "                                  reg_lambda = 0.1, subsample = 0.5).fit(red_train_x, red_train_y)\n",
    "print(\"MAE for XGBoost = \", mean_absolute_error(model_red_xgb.predict(red_test_x), red_test_y))"
   ]
  },
  {
   "cell_type": "code",
   "execution_count": 12,
   "id": "0d382e1a",
   "metadata": {},
   "outputs": [
    {
     "name": "stdout",
     "output_type": "stream",
     "text": [
      "Ensemble model MAE =  0.3942025813713774\n"
     ]
    }
   ],
   "source": [
    "#Voting ensemble for RED wine\n",
    "en=VotingRegressor(estimators = [('mars',model_red_MARS),('bdt', model_red_DT),('rf',model_red_RF),('xgb',model_red_xgb)])\n",
    "en.fit(red_train_x, red_train_y)\n",
    "print(\"Ensemble model MAE = \", mean_absolute_error(en.predict(red_test_x), red_test_y))"
   ]
  },
  {
   "cell_type": "markdown",
   "id": "09a3acba",
   "metadata": {},
   "source": [
    "# Ensemble for WHITE wine"
   ]
  },
  {
   "cell_type": "code",
   "execution_count": 13,
   "id": "3a74eb40",
   "metadata": {},
   "outputs": [
    {
     "name": "stdout",
     "output_type": "stream",
     "text": [
      "MAE for MARS =  0.5814239667474026\n",
      "MAE for Bagged DT =  0.4079479591836735\n",
      "MAE for Random forest =  0.39846880466472306\n",
      "MAE for XGBoost =  0.40231834917652365\n"
     ]
    }
   ],
   "source": [
    "# Tuned MARS model by Cindy\n",
    "model_white_MARS = Earth(max_degree = 2).fit(white_train_x, white_train_y)\n",
    "print(\"MAE for MARS = \", mean_absolute_error(model_white_MARS.predict(white_test_x), white_test_y))\n",
    "\n",
    "#Tuned Bagged Decision Tree model by Michael\n",
    "model_white_DT = BaggingRegressor(base_estimator=DecisionTreeRegressor(), n_estimators=400, random_state=1,\n",
    "                        n_jobs=-1,bootstrap_features=False,bootstrap=False,\n",
    "                        max_features=0.645,max_samples=0.945).fit(white_train_x, white_train_y)\n",
    "print(\"MAE for Bagged DT = \", mean_absolute_error(model_white_DT.predict(white_test_x), white_test_y))\n",
    "\n",
    "#Tuned Random forest model by Sabrina\n",
    "model_white_RF = RandomForestRegressor(n_estimators=700, random_state=1, max_features = 2,\n",
    "                                       bootstrap = False).fit(white_train_x, white_train_y)\n",
    "print(\"MAE for Random forest = \", mean_absolute_error(model_white_RF.predict(white_test_x), white_test_y))\n",
    "\n",
    "#Tuned XGBoost model by Keaton\n",
    "model_white_xgb = xgb.XGBRegressor(random_state = 1, gamma = 0, learning_rate = 0.01, max_depth = 16, n_estimators = 3000,\n",
    "                                  reg_lambda = 0.1, subsample = 0.75).fit(white_train_x, white_train_y)\n",
    "print(\"MAE for XGBoost = \", mean_absolute_error(model_white_xgb.predict(white_test_x), white_test_y))"
   ]
  },
  {
   "cell_type": "code",
   "execution_count": 14,
   "id": "5455a3cb",
   "metadata": {},
   "outputs": [
    {
     "name": "stdout",
     "output_type": "stream",
     "text": [
      "Ensemble model MAE =  0.43670804876124486\n"
     ]
    }
   ],
   "source": [
    "#Voting ensemble for WHITE wine\n",
    "en=VotingRegressor(estimators = [('mars',model_white_MARS),('bdt', model_white_DT),('rf',model_white_RF),('xgb',model_white_xgb)])\n",
    "en.fit(white_train_x, white_train_y)\n",
    "print(\"Ensemble model MAE = \", mean_absolute_error(en.predict(white_test_x), white_test_y))"
   ]
  },
  {
   "cell_type": "markdown",
   "id": "938460be",
   "metadata": {},
   "source": [
    "# Ensemble for COMBINED wine"
   ]
  },
  {
   "cell_type": "code",
   "execution_count": 15,
   "id": "3586b29c",
   "metadata": {},
   "outputs": [
    {
     "name": "stdout",
     "output_type": "stream",
     "text": [
      "MAE for MARS =  0.6389752225335108\n",
      "MAE for Bagged DT =  0.40108923076923075\n",
      "MAE for Random forest =  0.39270139017608896\n",
      "MAE for XGBoost =  0.39411787649301383\n"
     ]
    }
   ],
   "source": [
    "# Tuned MARS model by Cindy\n",
    "model_combined_MARS = Earth(max_degree = 5).fit(combined_train_x, combined_train_y)\n",
    "print(\"MAE for MARS = \", mean_absolute_error(model_combined_MARS.predict(combined_test_x), combined_test_y))\n",
    "\n",
    "#Tuned Bagged Decision Tree model by Michael\n",
    "model_combined_DT = BaggingRegressor(base_estimator=DecisionTreeRegressor(), n_estimators=400, random_state=1,\n",
    "                        n_jobs=-1,bootstrap_features=False,bootstrap=False,\n",
    "                        max_features=0.69,max_samples=0.995).fit(combined_train_x, combined_train_y)\n",
    "print(\"MAE for Bagged DT = \", mean_absolute_error(model_combined_DT.predict(combined_test_x), combined_test_y))\n",
    "\n",
    "#Tuned Random forest model by Sabrina\n",
    "model_combined_RF = RandomForestRegressor(n_estimators=830, random_state=1, max_features = 3,\n",
    "                                          bootstrap = False).fit(combined_train_x, combined_train_y)\n",
    "print(\"MAE for Random forest = \", mean_absolute_error(model_combined_RF.predict(combined_test_x), combined_test_y))\n",
    "\n",
    "#Tuned XGBoost model by Keaton\n",
    "model_combined_xgb = xgb.XGBRegressor(random_state = 1, gamma = 0, learning_rate = 0.01, max_depth = 16, n_estimators = 4000,\n",
    "                                  reg_lambda = 0.3, subsample = 0.75).fit(combined_train_x, combined_train_y)\n",
    "print(\"MAE for XGBoost = \", mean_absolute_error(model_combined_xgb.predict(combined_test_x), combined_test_y))"
   ]
  },
  {
   "cell_type": "code",
   "execution_count": 16,
   "id": "bc5860c4",
   "metadata": {},
   "outputs": [
    {
     "name": "stdout",
     "output_type": "stream",
     "text": [
      "Ensemble model MAE =  0.4494490419962053\n"
     ]
    }
   ],
   "source": [
    "#Voting ensemble for COMBINED wine\n",
    "en=VotingRegressor(estimators = [('mars',model_combined_MARS),('bdt', model_combined_DT),('rf',model_combined_RF),('xgb',model_combined_xgb)])\n",
    "en.fit(combined_train_x, combined_train_y)\n",
    "print(\"Ensemble model MAE = \", mean_absolute_error(en.predict(combined_test_x), combined_test_y))"
   ]
  }
 ],
 "metadata": {
  "kernelspec": {
   "display_name": "Python 3 (ipykernel)",
   "language": "python",
   "name": "python3"
  },
  "language_info": {
   "codemirror_mode": {
    "name": "ipython",
    "version": 3
   },
   "file_extension": ".py",
   "mimetype": "text/x-python",
   "name": "python",
   "nbconvert_exporter": "python",
   "pygments_lexer": "ipython3",
   "version": "3.9.12"
  }
 },
 "nbformat": 4,
 "nbformat_minor": 5
}
