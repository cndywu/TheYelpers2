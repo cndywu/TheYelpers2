{
 "cells": [
  {
   "cell_type": "code",
   "execution_count": 1,
   "id": "c74e5dcc",
   "metadata": {},
   "outputs": [],
   "source": [
    "import pandas as pd\n",
    "import numpy as np\n",
    "import seaborn as sns\n",
    "import matplotlib.pyplot as plt\n",
    "from sklearn.metrics import mean_squared_error, mean_absolute_error\n",
    "from sklearn.model_selection import cross_val_score,train_test_split, KFold, cross_val_predict\n",
    "from sklearn.metrics import mean_squared_error,r2_score,roc_curve,auc,precision_recall_curve, accuracy_score, \\\n",
    "recall_score, precision_score, confusion_matrix\n",
    "from sklearn.tree import DecisionTreeRegressor,DecisionTreeClassifier\n",
    "from sklearn.model_selection import GridSearchCV, ParameterGrid, StratifiedKFold, RandomizedSearchCV\n",
    "from sklearn.ensemble import GradientBoostingRegressor,GradientBoostingClassifier, BaggingRegressor,BaggingClassifier,RandomForestRegressor,RandomForestClassifier,AdaBoostRegressor,AdaBoostClassifier\n",
    "from sklearn.linear_model import LinearRegression,LogisticRegression\n",
    "from sklearn.neighbors import KNeighborsRegressor\n",
    "import itertools as it\n",
    "import time as time\n",
    "import xgboost as xgb\n",
    "from pyearth import Earth"
   ]
  },
  {
   "cell_type": "markdown",
   "id": "216eea7e",
   "metadata": {},
   "source": [
    "# Load and Prepare Data"
   ]
  },
  {
   "cell_type": "code",
   "execution_count": 65,
   "id": "1e379994",
   "metadata": {},
   "outputs": [],
   "source": [
    "red_train_x = pd.read_csv('red_train_x.csv')\n",
    "white_train_x = pd.read_csv('white_train_x.csv')\n",
    "red_train_y = pd.read_csv('red_train_y.csv')\n",
    "white_train_y = pd.read_csv('white_train_y.csv')\n",
    "red_test_x = pd.read_csv('red_test_x.csv')\n",
    "white_test_x = pd.read_csv('white_test_x.csv')\n",
    "red_test_y = pd.read_csv('red_test_y.csv')\n",
    "white_test_y = pd.read_csv('white_test_y.csv')\n",
    "combined_train_x = pd.read_csv(\"combined_train_x\")\n",
    "combined_train_y = pd.read_csv(\"combined_train_y\")\n",
    "combined_test_x = pd.read_csv(\"combined_test_x\")\n",
    "combined_test_y = pd.read_csv(\"combined_test_y\")"
   ]
  },
  {
   "cell_type": "markdown",
   "id": "739792bc",
   "metadata": {},
   "source": [
    "# Create Base XGBoost Models"
   ]
  },
  {
   "cell_type": "markdown",
   "id": "ae1efc0d",
   "metadata": {},
   "source": [
    "## Red Model"
   ]
  },
  {
   "cell_type": "code",
   "execution_count": 183,
   "id": "5c0d0c9b",
   "metadata": {},
   "outputs": [
    {
     "name": "stdout",
     "output_type": "stream",
     "text": [
      "RMSE for red base model:  0.7053367989832943\n",
      "MAE for red base model:  0.4225\n"
     ]
    }
   ],
   "source": [
    "red_model = xgb.XGBRegressor().fit(red_train_x, red_train_y)\n",
    "mae = mean_absolute_error(red_test_y, np.around(red_model.predict(red_test_x)))\n",
    "rmse = np.sqrt(mean_squared_error(red_test_y, np.around(red_model.predict(red_test_x))))\n",
    "print('RMSE for red base model: ', rmse)\n",
    "print('MAE for red base model: ', mae)"
   ]
  },
  {
   "cell_type": "markdown",
   "id": "f63e4c3d",
   "metadata": {},
   "source": [
    "## White Model"
   ]
  },
  {
   "cell_type": "code",
   "execution_count": 184,
   "id": "c9023b27",
   "metadata": {},
   "outputs": [
    {
     "name": "stdout",
     "output_type": "stream",
     "text": [
      "RMSE for white base model:  0.6737043498600912\n",
      "MAE for white base model:  0.37551020408163266\n"
     ]
    }
   ],
   "source": [
    "white_model = xgb.XGBRegressor().fit(white_train_x, white_train_y)\n",
    "mae = mean_absolute_error(white_test_y, np.around(white_model.predict(white_test_x)))\n",
    "rmse = np.sqrt(mean_squared_error(white_test_y, np.around(white_model.predict(white_test_x))))\n",
    "print('RMSE for white base model: ', rmse)\n",
    "print('MAE for white base model: ', mae)"
   ]
  },
  {
   "cell_type": "markdown",
   "id": "0cca0c9b",
   "metadata": {},
   "source": [
    "## Combined Model"
   ]
  },
  {
   "cell_type": "code",
   "execution_count": 185,
   "id": "6f41e8db",
   "metadata": {},
   "outputs": [
    {
     "name": "stdout",
     "output_type": "stream",
     "text": [
      "RMSE for combined base model:  0.689704507519204\n",
      "MAE for combined base model:  0.3944615384615385\n"
     ]
    }
   ],
   "source": [
    "combined_model = xgb.XGBRegressor().fit(combined_train_x, combined_train_y)\n",
    "mae = mean_absolute_error(combined_test_y, np.around(combined_model.predict(combined_test_x)))\n",
    "rmse = np.sqrt(mean_squared_error(combined_test_y, np.around(combined_model.predict(combined_test_x))))\n",
    "print('RMSE for combined base model: ', rmse)\n",
    "print('MAE for combined base model: ', mae)"
   ]
  },
  {
   "cell_type": "markdown",
   "id": "0aea84ed",
   "metadata": {},
   "source": [
    "# Tuning Models"
   ]
  },
  {
   "cell_type": "markdown",
   "id": "57266efd",
   "metadata": {},
   "source": [
    "## Red Model"
   ]
  },
  {
   "cell_type": "code",
   "execution_count": 149,
   "id": "2811a41b",
   "metadata": {},
   "outputs": [
    {
     "name": "stdout",
     "output_type": "stream",
     "text": [
      "Fitting 5 folds for each of 200 candidates, totalling 1000 fits\n",
      "Best: 0.578070 using {'subsample': 1, 'reg_lambda': 0, 'n_estimators': 1000, 'max_depth': 8, 'learning_rate': 0.05, 'gamma': 0, 'colsample_bytree': 0.5}\n",
      "Time taken =  1.7860136349995932  minutes\n"
     ]
    }
   ],
   "source": [
    "start_time = time.time()\n",
    "param_grid = {'max_depth': [4, 6, 8],\n",
    "              'n_estimators': [100, 500, 1000],\n",
    "              'learning_rate': [0.01, 0.05, 0.1],\n",
    "              'subsample': [0.5, 0.75, 1],\n",
    "              'colsample_bytree': [0.5, 0.75, 1.0],\n",
    "              'reg_lambda':[0, 1, 10],\n",
    "              'gamma': [0, 10, 100]}\n",
    "\n",
    "cv = KFold(n_splits=5,shuffle=True,random_state=1)\n",
    "grid_search = RandomizedSearchCV(estimator=xgb.XGBRegressor(random_state=1),                                                       \n",
    "                             param_distributions = param_grid,\n",
    "                                 n_iter = 200,\n",
    "                             verbose = 1,\n",
    "                             n_jobs=-1,\n",
    "                             cv = cv,\n",
    "                          scoring = 'neg_mean_squared_error')\n",
    "grid_result = grid_search.fit(red_train_x, red_train_y)\n",
    "\n",
    "print(\"Best: %f using %s\" % (np.sqrt(-grid_result.best_score_), grid_result.best_params_))\n",
    "print(\"Time taken = \",(time.time()-start_time)/60,\" minutes\")"
   ]
  },
  {
   "cell_type": "code",
   "execution_count": 150,
   "id": "17aeac35",
   "metadata": {},
   "outputs": [
    {
     "name": "stdout",
     "output_type": "stream",
     "text": [
      "Fitting 5 folds for each of 405 candidates, totalling 2025 fits\n",
      "Best: 0.574486 using {'colsample_bytree': 0.5, 'gamma': 0, 'learning_rate': 0.05, 'max_depth': 12, 'n_estimators': 1500, 'reg_lambda': 0.5, 'subsample': 0.9}\n",
      "Time taken =  4.21326855023702  minutes\n"
     ]
    }
   ],
   "source": [
    "start_time = time.time()\n",
    "param_grid = {'max_depth': [8, 9, 10, 11, 12],\n",
    "              'n_estimators': [1000, 1500, 2000],\n",
    "              'learning_rate': [0.05],\n",
    "              'subsample': [0.8, 0.9, 1],\n",
    "              'colsample_bytree': [0.3, 0.4, 0.5],\n",
    "              'reg_lambda':[0, 0.25, 0.5],\n",
    "              'gamma': [0]}\n",
    "\n",
    "cv = KFold(n_splits=5,shuffle=True,random_state=1)\n",
    "grid_search = GridSearchCV(estimator=xgb.XGBRegressor(random_state=1),                                                       \n",
    "                             param_grid = param_grid,\n",
    "                             verbose = 1,\n",
    "                             n_jobs=-1,\n",
    "                             cv = cv,\n",
    "                          scoring = 'neg_mean_squared_error')\n",
    "grid_result = grid_search.fit(red_train_x, red_train_y)\n",
    "\n",
    "print(\"Best: %f using %s\" % (np.sqrt(-grid_result.best_score_), grid_result.best_params_))\n",
    "print(\"Time taken = \",(time.time()-start_time)/60,\" minutes\")"
   ]
  },
  {
   "cell_type": "code",
   "execution_count": 176,
   "id": "ee95e6c6",
   "metadata": {},
   "outputs": [
    {
     "name": "stdout",
     "output_type": "stream",
     "text": [
      "RMSE for red tuned model:  0.6442049363362563\n",
      "MAE for red tuned model:  0.345\n"
     ]
    }
   ],
   "source": [
    "#manual tune max_depth, subsample, and colsample_bytree\n",
    "red_model_tuned_rmse = xgb.XGBRegressor(random_state = 1, gamma = 0, learning_rate = 0.05, max_depth = 11, n_estimators = 1500,\n",
    "                                  reg_lambda = 0.5, subsample = 1, colsample_bytree = 0.6).fit(red_train_x, red_train_y)\n",
    "mae = mean_absolute_error(red_test_y, np.around(red_model_tuned_rmse.predict(red_test_x)))\n",
    "rmse = np.sqrt(mean_squared_error(red_test_y, np.around(red_model_tuned_rmse.predict(red_test_x))))\n",
    "print(\"RMSE for red tuned model: \", rmse)\n",
    "print('MAE for red tuned model: ', mae)"
   ]
  },
  {
   "cell_type": "markdown",
   "id": "400fefe4",
   "metadata": {},
   "source": [
    "## White Model"
   ]
  },
  {
   "cell_type": "code",
   "execution_count": 105,
   "id": "6bc0cf48",
   "metadata": {},
   "outputs": [
    {
     "name": "stdout",
     "output_type": "stream",
     "text": [
      "Fitting 5 folds for each of 200 candidates, totalling 1000 fits\n",
      "Best: 0.635257 using {'subsample': 0.75, 'reg_lambda': 0, 'n_estimators': 1000, 'max_depth': 8, 'learning_rate': 0.01, 'gamma': 0, 'colsample_bytree': 0.5}\n",
      "Time taken =  3.8692580978075664  minutes\n"
     ]
    }
   ],
   "source": [
    "start_time = time.time()\n",
    "param_grid = {'max_depth': [4,6,8],\n",
    "              'n_estimators': [100, 500, 1000],\n",
    "              'learning_rate': [0.01, 0.05, 0.1],\n",
    "              'subsample': [0.5, 0.75, 1],\n",
    "              'colsample_bytree': [0.5, 0.75, 1],\n",
    "              'reg_lambda':[0, 1, 10],\n",
    "              'gamma': [0, 10, 100]}\n",
    "\n",
    "cv = KFold(n_splits=5,shuffle=True,random_state=1)\n",
    "grid_search = RandomizedSearchCV(estimator=xgb.XGBRegressor(random_state=1),                                                       \n",
    "                             param_distributions = param_grid,\n",
    "                                 n_iter = 200,\n",
    "                             verbose = 1,\n",
    "                             n_jobs=-1,\n",
    "                             cv = cv,\n",
    "                          scoring = 'neg_mean_squared_error')\n",
    "grid_result = grid_search.fit(white_train_x, white_train_y)\n",
    "\n",
    "print(\"Best: %f using %s\" % (np.sqrt(-grid_result.best_score_), grid_result.best_params_))\n",
    "print(\"Time taken = \",(time.time()-start_time)/60,\" minutes\")"
   ]
  },
  {
   "cell_type": "code",
   "execution_count": 106,
   "id": "47923bdc",
   "metadata": {},
   "outputs": [
    {
     "name": "stdout",
     "output_type": "stream",
     "text": [
      "Fitting 2 folds for each of 120 candidates, totalling 240 fits\n"
     ]
    },
    {
     "name": "stderr",
     "output_type": "stream",
     "text": [
      "/Users/keatonolds/opt/anaconda3/lib/python3.9/site-packages/joblib/externals/loky/process_executor.py:702: UserWarning: A worker stopped while some jobs were given to the executor. This can be caused by a too short worker timeout or by a memory leak.\n",
      "  warnings.warn(\n"
     ]
    },
    {
     "name": "stdout",
     "output_type": "stream",
     "text": [
      "Best: 0.651685 using {'colsample_bytree': 0.5, 'gamma': 0, 'learning_rate': 0.01, 'max_depth': 14, 'n_estimators': 1000, 'reg_lambda': 0.6, 'subsample': 0.75}\n",
      "Time taken =  3.6731221675872803  minutes\n"
     ]
    }
   ],
   "source": [
    "start_time = time.time()\n",
    "param_grid = {'max_depth': [8, 10, 12, 14],\n",
    "              'n_estimators': [1000, 2000, 3000],\n",
    "              'learning_rate': [0.001, 0.01],\n",
    "              'subsample': [0.75],\n",
    "              'colsample_bytree': [0.5],\n",
    "              'reg_lambda':[0, 0.2, 0.4, 0.6, 0.8],\n",
    "              'gamma': [0]}\n",
    "\n",
    "cv = KFold(n_splits=2,shuffle=True,random_state=1)\n",
    "grid_search = GridSearchCV(estimator=xgb.XGBRegressor(random_state=1),                                                       \n",
    "                             param_grid = param_grid,\n",
    "                             verbose = 1,\n",
    "                             n_jobs=-1,\n",
    "                             cv = cv,\n",
    "                          scoring = 'neg_mean_squared_error')\n",
    "grid_result = grid_search.fit(white_train_x, white_train_y)\n",
    "\n",
    "print(\"Best: %f using %s\" % (np.sqrt(-grid_result.best_score_), grid_result.best_params_))\n",
    "print(\"Time taken = \",(time.time()-start_time)/60,\" minutes\")"
   ]
  },
  {
   "cell_type": "code",
   "execution_count": 107,
   "id": "803e6e03",
   "metadata": {},
   "outputs": [
    {
     "name": "stdout",
     "output_type": "stream",
     "text": [
      "Fitting 5 folds for each of 12 candidates, totalling 60 fits\n",
      "Best: 0.625868 using {'colsample_bytree': 0.5, 'gamma': 0, 'learning_rate': 0.01, 'max_depth': 16, 'n_estimators': 1000, 'reg_lambda': 0.6, 'subsample': 0.75}\n",
      "Time taken =  1.2273271163304647  minutes\n"
     ]
    }
   ],
   "source": [
    "start_time = time.time()\n",
    "param_grid = {'max_depth': [13, 14, 15, 16],\n",
    "              'n_estimators': [500, 1000, 1500],\n",
    "              'learning_rate': [0.01],\n",
    "              'subsample': [0.75],\n",
    "              'colsample_bytree': [0.5],\n",
    "              'reg_lambda':[0.6],\n",
    "              'gamma': [0]}\n",
    "\n",
    "cv = KFold(n_splits=5,shuffle=True,random_state=1)\n",
    "grid_search = GridSearchCV(estimator=xgb.XGBRegressor(random_state=1),                                                       \n",
    "                             param_grid = param_grid,\n",
    "                             verbose = 1,\n",
    "                             n_jobs=-1,\n",
    "                             cv = cv,\n",
    "                          scoring = 'neg_mean_squared_error')\n",
    "grid_result = grid_search.fit(white_train_x, white_train_y)\n",
    "\n",
    "print(\"Best: %f using %s\" % (np.sqrt(-grid_result.best_score_), grid_result.best_params_))\n",
    "print(\"Time taken = \",(time.time()-start_time)/60,\" minutes\")"
   ]
  },
  {
   "cell_type": "code",
   "execution_count": 180,
   "id": "4e436b99",
   "metadata": {},
   "outputs": [
    {
     "name": "stdout",
     "output_type": "stream",
     "text": [
      "RMSE for white tuned model:  0.6279217421667403\n",
      "MAE for white tuned model:  0.33877551020408164\n"
     ]
    }
   ],
   "source": [
    "#manual tuning of max_depth, colsample, and learning_rate\n",
    "white_model_tuned = xgb.XGBRegressor(random_state = 1, gamma = 0, learning_rate = 0.02, max_depth = 9, n_estimators = 1000,\n",
    "                                  reg_lambda = 0.6, subsample = 0.75, colsample_bytree = 0.6).fit(white_train_x, white_train_y)\n",
    "mae = mean_absolute_error(white_test_y, np.around(white_model_tuned.predict(white_test_x)))\n",
    "rmse = np.sqrt(mean_squared_error(white_test_y, np.around(white_model_tuned.predict(white_test_x))))\n",
    "\n",
    "print('RMSE for white tuned model: ', rmse)\n",
    "print('MAE for white tuned model: ', mae)"
   ]
  },
  {
   "cell_type": "markdown",
   "id": "576f0b6f",
   "metadata": {},
   "source": [
    "## Combined Model"
   ]
  },
  {
   "cell_type": "code",
   "execution_count": 114,
   "id": "d9a75315",
   "metadata": {},
   "outputs": [
    {
     "name": "stdout",
     "output_type": "stream",
     "text": [
      "Fitting 5 folds for each of 200 candidates, totalling 1000 fits\n",
      "Best: 0.625016 using {'subsample': 0.75, 'reg_lambda': 10, 'n_estimators': 500, 'max_depth': 8, 'learning_rate': 0.05, 'gamma': 0, 'colsample_bytree': 0.75}\n",
      "Time taken =  5.302819335460663  minutes\n"
     ]
    }
   ],
   "source": [
    "start_time = time.time()\n",
    "param_grid = {'max_depth': [4,6,8],\n",
    "              'n_estimators': [100, 500, 1000],\n",
    "              'learning_rate': [0.01, 0.05, 0.1],\n",
    "              'subsample': [0.5, 0.75, 1],\n",
    "              'colsample_bytree': [0.5, 0.75, 1],\n",
    "              'reg_lambda':[0, 1, 10],\n",
    "              'gamma': [0, 10, 100]}\n",
    "\n",
    "cv = KFold(n_splits=5,shuffle=True,random_state=1)\n",
    "grid_search = RandomizedSearchCV(estimator=xgb.XGBRegressor(random_state=1),                                                       \n",
    "                             param_distributions = param_grid,\n",
    "                                 n_iter = 200,\n",
    "                             verbose = 1,\n",
    "                             n_jobs=-1,\n",
    "                             cv = cv,\n",
    "                          scoring = 'neg_mean_squared_error')\n",
    "grid_result = grid_search.fit(combined_train_x, combined_train_y)\n",
    "\n",
    "print(\"Best: %f using %s\" % (np.sqrt(-grid_result.best_score_), grid_result.best_params_))\n",
    "print(\"Time taken = \",(time.time()-start_time)/60,\" minutes\")"
   ]
  },
  {
   "cell_type": "code",
   "execution_count": 122,
   "id": "5f054fb2",
   "metadata": {},
   "outputs": [
    {
     "name": "stdout",
     "output_type": "stream",
     "text": [
      "Fitting 5 folds for each of 75 candidates, totalling 375 fits\n"
     ]
    },
    {
     "name": "stderr",
     "output_type": "stream",
     "text": [
      "/Users/keatonolds/opt/anaconda3/lib/python3.9/site-packages/joblib/externals/loky/process_executor.py:702: UserWarning: A worker stopped while some jobs were given to the executor. This can be caused by a too short worker timeout or by a memory leak.\n",
      "  warnings.warn(\n"
     ]
    },
    {
     "name": "stdout",
     "output_type": "stream",
     "text": [
      "Best: 0.619580 using {'colsample_bytree': 0.75, 'gamma': 0, 'learning_rate': 0.05, 'max_depth': 11, 'n_estimators': 300, 'reg_lambda': 2, 'subsample': 0.75}\n",
      "Time taken =  3.602659785747528  minutes\n"
     ]
    }
   ],
   "source": [
    "start_time = time.time()\n",
    "param_grid = {'max_depth': [8,9,10,11,12],\n",
    "              'n_estimators': [300, 500, 700],\n",
    "              'learning_rate': [0.05],\n",
    "              'subsample': [0.75],\n",
    "              'colsample_bytree': [0.75],\n",
    "              'reg_lambda':[2,4,6,8,10],\n",
    "              'gamma': [0]}\n",
    "\n",
    "cv = KFold(n_splits=5,shuffle=True,random_state=1)\n",
    "grid_search = GridSearchCV(estimator=xgb.XGBRegressor(random_state=1),                                                       \n",
    "                             param_grid = param_grid,\n",
    "                             verbose = 1,\n",
    "                             n_jobs=-1,\n",
    "                             cv = cv,\n",
    "                          scoring = 'neg_mean_squared_error')\n",
    "grid_result = grid_search.fit(combined_train_x, combined_train_y)\n",
    "\n",
    "print(\"Best: %f using %s\" % (np.sqrt(-grid_result.best_score_), grid_result.best_params_))\n",
    "print(\"Time taken = \",(time.time()-start_time)/60,\" minutes\")"
   ]
  },
  {
   "cell_type": "code",
   "execution_count": 144,
   "id": "9debed31",
   "metadata": {},
   "outputs": [
    {
     "name": "stdout",
     "output_type": "stream",
     "text": [
      "RMSE for combined tuned model:  0.6401922788086044\n",
      "MAE for combined tuned model:  0.34584615384615386\n"
     ]
    }
   ],
   "source": [
    "#manual tuning of learning_rate\n",
    "combined_model_tuned = xgb.XGBRegressor(random_state = 1, gamma = 0, learning_rate = 0.07, max_depth = 11, n_estimators = 300,\n",
    "                                  reg_lambda = 2, subsample = 0.75, colsample_bytree = 0.75).fit(combined_train_x, combined_train_y)\n",
    "mae = mean_absolute_error(combined_test_y, np.around(combined_model_tuned.predict(combined_test_x)))\n",
    "rmse = np.sqrt(mean_squared_error(combined_test_y, np.around(combined_model_tuned.predict(combined_test_x))))\n",
    "\n",
    "print('RMSE for combined tuned model: ', rmse)\n",
    "print('MAE for combined tuned model: ', mae)"
   ]
  },
  {
   "cell_type": "markdown",
   "id": "dca450a5",
   "metadata": {},
   "source": [
    "# Summary"
   ]
  },
  {
   "cell_type": "markdown",
   "id": "2640827c",
   "metadata": {},
   "source": [
    "## Red Wine"
   ]
  },
  {
   "cell_type": "markdown",
   "id": "35077da5",
   "metadata": {},
   "source": [
    "Base model MAE: 0.423; Base model RMSE: 0.705"
   ]
  },
  {
   "cell_type": "markdown",
   "id": "c2602113",
   "metadata": {},
   "source": [
    "Tuned model MAE: 0.345; Tuned model RMSE: 0.644"
   ]
  },
  {
   "cell_type": "markdown",
   "id": "9f2912cc",
   "metadata": {},
   "source": [
    "MAE Improvement: 0.078 (18.44%); RMSE Improvement: 0.061 (8.65%)"
   ]
  },
  {
   "cell_type": "markdown",
   "id": "8c1bf8c6",
   "metadata": {},
   "source": [
    "## White Wine"
   ]
  },
  {
   "cell_type": "markdown",
   "id": "1d896b47",
   "metadata": {},
   "source": [
    "Base model MAE:  0.376; Base model RMSE: 0.674"
   ]
  },
  {
   "cell_type": "markdown",
   "id": "211939c6",
   "metadata": {},
   "source": [
    "Tuned model MAE: 0.339; Tuned model RMSE: 0.628"
   ]
  },
  {
   "cell_type": "markdown",
   "id": "805ad680",
   "metadata": {},
   "source": [
    "Improvement: 0.037 (9.84%); RMSE Improvement: 0.046 (6.82%)"
   ]
  },
  {
   "cell_type": "markdown",
   "id": "cff69019",
   "metadata": {},
   "source": [
    "## Combined Wines"
   ]
  },
  {
   "cell_type": "markdown",
   "id": "9ecb78b2",
   "metadata": {},
   "source": [
    "Base model MAE: 0.394; Base model RMSE: 0.690"
   ]
  },
  {
   "cell_type": "markdown",
   "id": "5ef85150",
   "metadata": {},
   "source": [
    "Tuned model MAE: 0.346; Tuned model RMSE: 0.640"
   ]
  },
  {
   "cell_type": "markdown",
   "id": "db4bbb90",
   "metadata": {},
   "source": [
    "Improvement: 0.048 (12.18%); RMSE Improvement: 0.05 (7.25%)"
   ]
  },
  {
   "cell_type": "code",
   "execution_count": null,
   "id": "dd3450a7",
   "metadata": {},
   "outputs": [],
   "source": []
  }
 ],
 "metadata": {
  "kernelspec": {
   "display_name": "Python 3 (ipykernel)",
   "language": "python",
   "name": "python3"
  },
  "language_info": {
   "codemirror_mode": {
    "name": "ipython",
    "version": 3
   },
   "file_extension": ".py",
   "mimetype": "text/x-python",
   "name": "python",
   "nbconvert_exporter": "python",
   "pygments_lexer": "ipython3",
   "version": "3.9.12"
  }
 },
 "nbformat": 4,
 "nbformat_minor": 5
}
