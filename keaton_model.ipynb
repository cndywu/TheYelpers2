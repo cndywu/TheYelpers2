{
 "cells": [
  {
   "cell_type": "code",
   "execution_count": 1,
   "id": "2113016b",
   "metadata": {},
   "outputs": [],
   "source": [
    "import pandas as pd\n",
    "import numpy as np\n",
    "import seaborn as sns\n",
    "import matplotlib.pyplot as plt\n",
    "from sklearn.metrics import mean_squared_error, mean_absolute_error\n",
    "from sklearn.model_selection import cross_val_score,train_test_split, KFold, cross_val_predict\n",
    "from sklearn.metrics import mean_squared_error,r2_score,roc_curve,auc,precision_recall_curve, accuracy_score, \\\n",
    "recall_score, precision_score, confusion_matrix\n",
    "from sklearn.tree import DecisionTreeRegressor,DecisionTreeClassifier\n",
    "from sklearn.model_selection import GridSearchCV, ParameterGrid, StratifiedKFold, RandomizedSearchCV\n",
    "from sklearn.ensemble import GradientBoostingRegressor,GradientBoostingClassifier, BaggingRegressor,BaggingClassifier,RandomForestRegressor,RandomForestClassifier,AdaBoostRegressor,AdaBoostClassifier\n",
    "from sklearn.linear_model import LinearRegression,LogisticRegression\n",
    "from sklearn.neighbors import KNeighborsRegressor\n",
    "import itertools as it\n",
    "import time as time\n",
    "import xgboost as xgb\n",
    "from pyearth import Earth"
   ]
  },
  {
   "cell_type": "markdown",
   "id": "632e713e",
   "metadata": {},
   "source": [
    "# Load and Prepare Data"
   ]
  },
  {
   "cell_type": "code",
   "execution_count": 65,
   "id": "2d875b36",
   "metadata": {},
   "outputs": [],
   "source": [
    "red_train_x = pd.read_csv('red_train_x.csv')\n",
    "white_train_x = pd.read_csv('white_train_x.csv')\n",
    "red_train_y = pd.read_csv('red_train_y.csv')\n",
    "white_train_y = pd.read_csv('white_train_y.csv')\n",
    "red_test_x = pd.read_csv('red_test_x.csv')\n",
    "white_test_x = pd.read_csv('white_test_x.csv')\n",
    "red_test_y = pd.read_csv('red_test_y.csv')\n",
    "white_test_y = pd.read_csv('white_test_y.csv')\n",
    "combined_train_x = pd.read_csv(\"combined_train_x\")\n",
    "combined_train_y = pd.read_csv(\"combined_train_y\")\n",
    "combined_test_x = pd.read_csv(\"combined_test_x\")\n",
    "combined_test_y = pd.read_csv(\"combined_test_y\")"
   ]
  },
  {
   "cell_type": "markdown",
   "id": "92c2c4d9",
   "metadata": {},
   "source": [
    "# Create Base XGBoost Models"
   ]
  },
  {
   "cell_type": "markdown",
   "id": "ecdff71c",
   "metadata": {},
   "source": [
    "## Red Model"
   ]
  },
  {
   "cell_type": "code",
   "execution_count": 66,
   "id": "b0605e53",
   "metadata": {},
   "outputs": [
    {
     "name": "stdout",
     "output_type": "stream",
     "text": [
      "MAE for red base model:  0.4225\n"
     ]
    }
   ],
   "source": [
    "red_model = xgb.XGBRegressor().fit(red_train_x, red_train_y)\n",
    "mae = mean_absolute_error(red_test_y, np.around(red_model.predict(red_test_x)))\n",
    "print('MAE for red base model: ', mae)"
   ]
  },
  {
   "cell_type": "code",
   "execution_count": 67,
   "id": "b4757dc9",
   "metadata": {},
   "outputs": [
    {
     "data": {
      "text/plain": [
       "0.7053367989832943"
      ]
     },
     "execution_count": 67,
     "metadata": {},
     "output_type": "execute_result"
    }
   ],
   "source": [
    "np.sqrt(mean_squared_error(red_test_y, np.around(red_model.predict(red_test_x))))"
   ]
  },
  {
   "cell_type": "markdown",
   "id": "bd1e2d5b",
   "metadata": {},
   "source": [
    "## White Model"
   ]
  },
  {
   "cell_type": "code",
   "execution_count": 68,
   "id": "8db70270",
   "metadata": {},
   "outputs": [
    {
     "name": "stdout",
     "output_type": "stream",
     "text": [
      "MAE for white base model:  0.37551020408163266\n"
     ]
    }
   ],
   "source": [
    "white_model = xgb.XGBRegressor().fit(white_train_x, white_train_y)\n",
    "mae = mean_absolute_error(white_test_y, np.around(white_model.predict(white_test_x)))\n",
    "print('MAE for white base model: ', mae)"
   ]
  },
  {
   "cell_type": "code",
   "execution_count": 69,
   "id": "393cff13",
   "metadata": {},
   "outputs": [
    {
     "data": {
      "text/plain": [
       "0.6737043498600912"
      ]
     },
     "execution_count": 69,
     "metadata": {},
     "output_type": "execute_result"
    }
   ],
   "source": [
    "np.sqrt(mean_squared_error(white_test_y, np.around(white_model.predict(white_test_x))))"
   ]
  },
  {
   "cell_type": "markdown",
   "id": "d502b4d4",
   "metadata": {},
   "source": [
    "## Combined Model"
   ]
  },
  {
   "cell_type": "code",
   "execution_count": 70,
   "id": "af111060",
   "metadata": {},
   "outputs": [
    {
     "name": "stdout",
     "output_type": "stream",
     "text": [
      "MAE for combined base model:  0.3944615384615385\n"
     ]
    }
   ],
   "source": [
    "combined_model = xgb.XGBRegressor().fit(combined_train_x, combined_train_y)\n",
    "mae = mean_absolute_error(combined_test_y, np.around(combined_model.predict(combined_test_x)))\n",
    "print('MAE for combined base model: ', mae)"
   ]
  },
  {
   "cell_type": "code",
   "execution_count": 71,
   "id": "5a99dd38",
   "metadata": {},
   "outputs": [
    {
     "data": {
      "text/plain": [
       "0.689704507519204"
      ]
     },
     "execution_count": 71,
     "metadata": {},
     "output_type": "execute_result"
    }
   ],
   "source": [
    "np.sqrt(mean_squared_error(combined_test_y, np.around(combined_model.predict(combined_test_x))))"
   ]
  },
  {
   "cell_type": "markdown",
   "id": "0cf8e4cc",
   "metadata": {},
   "source": [
    "# Tuning Models"
   ]
  },
  {
   "cell_type": "markdown",
   "id": "ec34c404",
   "metadata": {},
   "source": [
    "## Red Model"
   ]
  },
  {
   "cell_type": "markdown",
   "id": "92579130",
   "metadata": {},
   "source": [
    "### MAE OPTIMAL"
   ]
  },
  {
   "cell_type": "code",
   "execution_count": 72,
   "id": "d47779e6",
   "metadata": {},
   "outputs": [
    {
     "name": "stdout",
     "output_type": "stream",
     "text": [
      "Fitting 5 folds for each of 200 candidates, totalling 1000 fits\n"
     ]
    },
    {
     "name": "stderr",
     "output_type": "stream",
     "text": [
      "/Users/keatonolds/opt/anaconda3/lib/python3.9/site-packages/joblib/externals/loky/process_executor.py:702: UserWarning: A worker stopped while some jobs were given to the executor. This can be caused by a too short worker timeout or by a memory leak.\n",
      "  warnings.warn(\n"
     ]
    },
    {
     "name": "stdout",
     "output_type": "stream",
     "text": [
      "Best: 0.630872 using {'subsample': 0.75, 'reg_lambda': 0, 'n_estimators': 100, 'max_depth': 14, 'learning_rate': 0.1, 'gamma': 0, 'colsample_bytree': 1.0}\n",
      "Time taken =  1.3804953535397848  minutes\n"
     ]
    }
   ],
   "source": [
    "start_time = time.time()\n",
    "param_grid = {'max_depth': [2, 8, 14],\n",
    "              'n_estimators': [50, 100, 500, 1000],\n",
    "              'learning_rate': [0.001, 0.01, 0.1],\n",
    "              'subsample': [0.5, 0.75, 1],\n",
    "              'colsample_bytree': [0.5, 0.75, 1.0],\n",
    "              'reg_lambda':[0, 1, 10],\n",
    "              'gamma': [0, 10]}\n",
    "\n",
    "cv = KFold(n_splits=5,shuffle=True,random_state=1)\n",
    "grid_search = RandomizedSearchCV(estimator=xgb.XGBRegressor(random_state=1),                                                       \n",
    "                             param_distributions = param_grid,\n",
    "                                 n_iter = 200,\n",
    "                             verbose = 1,\n",
    "                             n_jobs=-1,\n",
    "                             cv = cv,\n",
    "                          scoring = 'neg_mean_absolute_error')\n",
    "grid_result = grid_search.fit(red_train_x, red_train_y)\n",
    "\n",
    "print(\"Best: %f using %s\" % (np.sqrt(-grid_result.best_score_), grid_result.best_params_))\n",
    "print(\"Time taken = \",(time.time()-start_time)/60,\" minutes\")"
   ]
  },
  {
   "cell_type": "code",
   "execution_count": 97,
   "id": "2e6f67a1",
   "metadata": {},
   "outputs": [
    {
     "name": "stdout",
     "output_type": "stream",
     "text": [
      "Fitting 5 folds for each of 972 candidates, totalling 4860 fits\n",
      "Best: 0.624138 using {'colsample_bytree': 1, 'gamma': 0, 'learning_rate': 0.05, 'max_depth': 12, 'n_estimators': 400, 'reg_lambda': 0.2}\n",
      "Time taken =  9.039521582921346  minutes\n"
     ]
    }
   ],
   "source": [
    "start_time = time.time()\n",
    "param_grid = {'max_depth': [12, 14, 16],\n",
    "              'n_estimators': [100, 200, 300, 400],\n",
    "              'learning_rate': [0.05, 0.1, 0.5],\n",
    "              'colsample_bytree': [0.8, 0.9, 1],\n",
    "              'reg_lambda':[0, 0.1, 0.2],\n",
    "              'gamma': [0, 0.5, 1]}\n",
    "\n",
    "cv = KFold(n_splits=5,shuffle=True,random_state=1)\n",
    "grid_search = GridSearchCV(estimator=xgb.XGBRegressor(random_state=1, subsample = 0.75),                                                       \n",
    "                             param_grid = param_grid,\n",
    "                             verbose = 1,\n",
    "                             n_jobs=-1,\n",
    "                             cv = cv,\n",
    "                          scoring = 'neg_mean_absolute_error')\n",
    "grid_result = grid_search.fit(red_train_x, red_train_y)\n",
    "\n",
    "print(\"Best: %f using %s\" % (np.sqrt(-grid_result.best_score_), grid_result.best_params_))\n",
    "print(\"Time taken = \",(time.time()-start_time)/60,\" minutes\")"
   ]
  },
  {
   "cell_type": "code",
   "execution_count": 99,
   "id": "9ff99e41",
   "metadata": {},
   "outputs": [
    {
     "name": "stdout",
     "output_type": "stream",
     "text": [
      "Fitting 5 folds for each of 20 candidates, totalling 100 fits\n",
      "Best: 0.624138 using {'colsample_bytree': 1, 'gamma': 0, 'learning_rate': 0.05, 'max_depth': 12, 'n_estimators': 400, 'reg_lambda': 0.2}\n",
      "Time taken =  0.28086400032043457  minutes\n"
     ]
    }
   ],
   "source": [
    "start_time = time.time()\n",
    "param_grid = {'max_depth': [8,9,10,11,12],\n",
    "              'n_estimators': [400],\n",
    "              'learning_rate': [0.05],\n",
    "              'colsample_bytree': [1],\n",
    "              'reg_lambda':[0.2, 0.3, 0.4, 0.5],\n",
    "              'gamma': [0]}\n",
    "\n",
    "cv = KFold(n_splits=5,shuffle=True,random_state=1)\n",
    "grid_search = GridSearchCV(estimator=xgb.XGBRegressor(random_state=1, subsample = 0.75),                                                       \n",
    "                             param_grid = param_grid,\n",
    "                             verbose = 1,\n",
    "                             n_jobs=-1,\n",
    "                             cv = cv,\n",
    "                          scoring = 'neg_mean_absolute_error')\n",
    "grid_result = grid_search.fit(red_train_x, red_train_y)\n",
    "\n",
    "print(\"Best: %f using %s\" % (np.sqrt(-grid_result.best_score_), grid_result.best_params_))\n",
    "print(\"Time taken = \",(time.time()-start_time)/60,\" minutes\")"
   ]
  },
  {
   "cell_type": "code",
   "execution_count": 102,
   "id": "d4d48f0d",
   "metadata": {},
   "outputs": [
    {
     "name": "stdout",
     "output_type": "stream",
     "text": [
      "MAE for red tuned model:  0.3725\n"
     ]
    }
   ],
   "source": [
    "red_model_tuned = xgb.XGBRegressor(random_state = 1, gamma = 0, learning_rate = 0.05, max_depth = 9, n_estimators = 400,\n",
    "                                  reg_lambda = 0.1, subsample = 0.75, colsample_bytree = 0.8).fit(red_train_x, red_train_y)\n",
    "mae = mean_absolute_error(red_test_y, np.around(red_model_tuned.predict(red_test_x)))\n",
    "print('MAE for red tuned model: ', mae)"
   ]
  },
  {
   "cell_type": "code",
   "execution_count": 87,
   "id": "35ec3411",
   "metadata": {},
   "outputs": [
    {
     "data": {
      "text/plain": [
       "0.6652067347825036"
      ]
     },
     "execution_count": 87,
     "metadata": {},
     "output_type": "execute_result"
    }
   ],
   "source": [
    "np.sqrt(mean_squared_error(red_test_y, np.around(red_model_tuned.predict(red_test_x))))"
   ]
  },
  {
   "cell_type": "markdown",
   "id": "7a6295b0",
   "metadata": {},
   "source": [
    "### RMSE OPTIMAL"
   ]
  },
  {
   "cell_type": "code",
   "execution_count": 88,
   "id": "31f4e169",
   "metadata": {},
   "outputs": [
    {
     "name": "stdout",
     "output_type": "stream",
     "text": [
      "Fitting 5 folds for each of 200 candidates, totalling 1000 fits\n"
     ]
    },
    {
     "name": "stderr",
     "output_type": "stream",
     "text": [
      "/Users/keatonolds/opt/anaconda3/lib/python3.9/site-packages/joblib/externals/loky/process_executor.py:702: UserWarning: A worker stopped while some jobs were given to the executor. This can be caused by a too short worker timeout or by a memory leak.\n",
      "  warnings.warn(\n"
     ]
    },
    {
     "name": "stdout",
     "output_type": "stream",
     "text": [
      "Best: 0.577629 using {'subsample': 0.75, 'reg_lambda': 1, 'n_estimators': 1000, 'max_depth': 8, 'learning_rate': 0.01, 'gamma': 0, 'colsample_bytree': 0.75}\n",
      "Time taken =  1.7339248339335123  minutes\n"
     ]
    }
   ],
   "source": [
    "start_time = time.time()\n",
    "param_grid = {'max_depth': [2, 8, 14],\n",
    "              'n_estimators': [50, 100, 500, 1000],\n",
    "              'learning_rate': [0.001, 0.01, 0.1],\n",
    "              'subsample': [0.5, 0.75, 1],\n",
    "              'colsample_bytree': [0.5, 0.75, 1.0],\n",
    "              'reg_lambda':[0, 1, 10],\n",
    "              'gamma': [0, 10]}\n",
    "\n",
    "cv = KFold(n_splits=5,shuffle=True,random_state=1)\n",
    "grid_search = RandomizedSearchCV(estimator=xgb.XGBRegressor(random_state=1),                                                       \n",
    "                             param_distributions = param_grid,\n",
    "                                 n_iter = 200,\n",
    "                             verbose = 1,\n",
    "                             n_jobs=-1,\n",
    "                             cv = cv,\n",
    "                          scoring = 'neg_mean_squared_error')\n",
    "grid_result = grid_search.fit(red_train_x, red_train_y)\n",
    "\n",
    "print(\"Best: %f using %s\" % (np.sqrt(-grid_result.best_score_), grid_result.best_params_))\n",
    "print(\"Time taken = \",(time.time()-start_time)/60,\" minutes\")"
   ]
  },
  {
   "cell_type": "code",
   "execution_count": 90,
   "id": "9c5df397",
   "metadata": {},
   "outputs": [
    {
     "name": "stdout",
     "output_type": "stream",
     "text": [
      "Fitting 2 folds for each of 200 candidates, totalling 400 fits\n",
      "Best: 0.626779 using {'subsample': 0.75, 'reg_lambda': 0.5, 'n_estimators': 2000, 'max_depth': 10, 'learning_rate': 0.01, 'gamma': 0, 'colsample_bytree': 0.75}\n",
      "Time taken =  2.272305949529012  minutes\n"
     ]
    }
   ],
   "source": [
    "start_time = time.time()\n",
    "param_grid = {'max_depth': [7, 8, 9, 10],\n",
    "              'n_estimators': [1000, 2000, 3000],\n",
    "              'learning_rate': [0.01, 0.025, 0.05],\n",
    "              'subsample': [0.75],\n",
    "              'colsample_bytree': [0.75],\n",
    "              'reg_lambda':[0.5, 1, 1.5],\n",
    "              'gamma': [0, 0.1, 0.2]}\n",
    "\n",
    "cv = KFold(n_splits=2,shuffle=True,random_state=1)\n",
    "grid_search = RandomizedSearchCV(estimator=xgb.XGBRegressor(random_state=1),                                                       \n",
    "                             param_distributions = param_grid,\n",
    "                                 n_iter = 200,\n",
    "                             verbose = 1,\n",
    "                             n_jobs=-1,\n",
    "                             cv = cv,\n",
    "                          scoring = 'neg_mean_squared_error')\n",
    "grid_result = grid_search.fit(red_train_x, red_train_y)\n",
    "\n",
    "print(\"Best: %f using %s\" % (np.sqrt(-grid_result.best_score_), grid_result.best_params_))\n",
    "print(\"Time taken = \",(time.time()-start_time)/60,\" minutes\")"
   ]
  },
  {
   "cell_type": "code",
   "execution_count": 91,
   "id": "97404c27",
   "metadata": {},
   "outputs": [
    {
     "name": "stderr",
     "output_type": "stream",
     "text": [
      "/Users/keatonolds/opt/anaconda3/lib/python3.9/site-packages/sklearn/model_selection/_search.py:292: UserWarning: The total space of parameters 120 is smaller than n_iter=200. Running 120 iterations. For exhaustive searches, use GridSearchCV.\n",
      "  warnings.warn(\n"
     ]
    },
    {
     "name": "stdout",
     "output_type": "stream",
     "text": [
      "Fitting 2 folds for each of 120 candidates, totalling 240 fits\n",
      "Best: 0.624200 using {'subsample': 0.75, 'reg_lambda': 0.2, 'n_estimators': 1500, 'max_depth': 10, 'learning_rate': 0.01, 'gamma': 0, 'colsample_bytree': 0.75}\n",
      "Time taken =  1.9386982878049215  minutes\n"
     ]
    }
   ],
   "source": [
    "start_time = time.time()\n",
    "param_grid = {'max_depth': [10,11,12,13],\n",
    "              'n_estimators': [1500, 2000, 2500],\n",
    "              'learning_rate': [0.01],\n",
    "              'subsample': [0.75],\n",
    "              'colsample_bytree': [0.75],\n",
    "              'reg_lambda':[0.1,0.2,0.3,0.4,0.5],\n",
    "              'gamma': [0, 0.01]}\n",
    "\n",
    "cv = KFold(n_splits=2,shuffle=True,random_state=1)\n",
    "grid_search = RandomizedSearchCV(estimator=xgb.XGBRegressor(random_state=1),                                                       \n",
    "                             param_distributions = param_grid,\n",
    "                                 n_iter = 200,\n",
    "                             verbose = 1,\n",
    "                             n_jobs=-1,\n",
    "                             cv = cv,\n",
    "                          scoring = 'neg_mean_squared_error')\n",
    "grid_result = grid_search.fit(red_train_x, red_train_y)\n",
    "\n",
    "print(\"Best: %f using %s\" % (np.sqrt(-grid_result.best_score_), grid_result.best_params_))\n",
    "print(\"Time taken = \",(time.time()-start_time)/60,\" minutes\")"
   ]
  },
  {
   "cell_type": "code",
   "execution_count": 93,
   "id": "6fc0bcc7",
   "metadata": {},
   "outputs": [
    {
     "name": "stdout",
     "output_type": "stream",
     "text": [
      "MAE for red tuned model:  0.3675\n"
     ]
    }
   ],
   "source": [
    "red_model_tuned_rmse = xgb.XGBRegressor(random_state = 1, gamma = 0, learning_rate = 0.01, max_depth = 10, n_estimators = 1500,\n",
    "                                  reg_lambda = 0.2, subsample = 0.75, colsample_bytree = 0.75).fit(red_train_x, red_train_y)\n",
    "mae = mean_absolute_error(red_test_y, np.around(red_model_tuned_rmse.predict(red_test_x)))\n",
    "print('MAE for red tuned model: ', mae)"
   ]
  },
  {
   "cell_type": "code",
   "execution_count": 94,
   "id": "c30a2335",
   "metadata": {},
   "outputs": [
    {
     "data": {
      "text/plain": [
       "0.6576473218982952"
      ]
     },
     "execution_count": 94,
     "metadata": {},
     "output_type": "execute_result"
    }
   ],
   "source": [
    "np.sqrt(mean_squared_error(red_test_y, np.around(red_model_tuned_rmse.predict(red_test_x))))"
   ]
  },
  {
   "cell_type": "markdown",
   "id": "6232589c",
   "metadata": {},
   "source": [
    "## White Model"
   ]
  },
  {
   "cell_type": "code",
   "execution_count": 105,
   "id": "551770ec",
   "metadata": {},
   "outputs": [
    {
     "name": "stdout",
     "output_type": "stream",
     "text": [
      "Fitting 5 folds for each of 200 candidates, totalling 1000 fits\n",
      "Best: 0.635257 using {'subsample': 0.75, 'reg_lambda': 0, 'n_estimators': 1000, 'max_depth': 8, 'learning_rate': 0.01, 'gamma': 0, 'colsample_bytree': 0.5}\n",
      "Time taken =  3.8692580978075664  minutes\n"
     ]
    }
   ],
   "source": [
    "start_time = time.time()\n",
    "param_grid = {'max_depth': [4,6,8],\n",
    "              'n_estimators': [100, 500, 1000],\n",
    "              'learning_rate': [0.01, 0.05, 0.1],\n",
    "              'subsample': [0.5, 0.75, 1],\n",
    "              'colsample_bytree': [0.5, 0.75, 1],\n",
    "              'reg_lambda':[0, 1, 10],\n",
    "              'gamma': [0, 10, 100]}\n",
    "\n",
    "cv = KFold(n_splits=5,shuffle=True,random_state=1)\n",
    "grid_search = RandomizedSearchCV(estimator=xgb.XGBRegressor(random_state=1),                                                       \n",
    "                             param_distributions = param_grid,\n",
    "                                 n_iter = 200,\n",
    "                             verbose = 1,\n",
    "                             n_jobs=-1,\n",
    "                             cv = cv,\n",
    "                          scoring = 'neg_mean_squared_error')\n",
    "grid_result = grid_search.fit(white_train_x, white_train_y)\n",
    "\n",
    "print(\"Best: %f using %s\" % (np.sqrt(-grid_result.best_score_), grid_result.best_params_))\n",
    "print(\"Time taken = \",(time.time()-start_time)/60,\" minutes\")"
   ]
  },
  {
   "cell_type": "code",
   "execution_count": 106,
   "id": "a6fac795",
   "metadata": {},
   "outputs": [
    {
     "name": "stdout",
     "output_type": "stream",
     "text": [
      "Fitting 2 folds for each of 120 candidates, totalling 240 fits\n"
     ]
    },
    {
     "name": "stderr",
     "output_type": "stream",
     "text": [
      "/Users/keatonolds/opt/anaconda3/lib/python3.9/site-packages/joblib/externals/loky/process_executor.py:702: UserWarning: A worker stopped while some jobs were given to the executor. This can be caused by a too short worker timeout or by a memory leak.\n",
      "  warnings.warn(\n"
     ]
    },
    {
     "name": "stdout",
     "output_type": "stream",
     "text": [
      "Best: 0.651685 using {'colsample_bytree': 0.5, 'gamma': 0, 'learning_rate': 0.01, 'max_depth': 14, 'n_estimators': 1000, 'reg_lambda': 0.6, 'subsample': 0.75}\n",
      "Time taken =  3.6731221675872803  minutes\n"
     ]
    }
   ],
   "source": [
    "start_time = time.time()\n",
    "param_grid = {'max_depth': [8, 10, 12, 14],\n",
    "              'n_estimators': [1000, 2000, 3000],\n",
    "              'learning_rate': [0.001, 0.01],\n",
    "              'subsample': [0.75],\n",
    "              'colsample_bytree': [0.5],\n",
    "              'reg_lambda':[0, 0.2, 0.4, 0.6, 0.8],\n",
    "              'gamma': [0]}\n",
    "\n",
    "cv = KFold(n_splits=2,shuffle=True,random_state=1)\n",
    "grid_search = GridSearchCV(estimator=xgb.XGBRegressor(random_state=1),                                                       \n",
    "                             param_grid = param_grid,\n",
    "                             verbose = 1,\n",
    "                             n_jobs=-1,\n",
    "                             cv = cv,\n",
    "                          scoring = 'neg_mean_squared_error')\n",
    "grid_result = grid_search.fit(white_train_x, white_train_y)\n",
    "\n",
    "print(\"Best: %f using %s\" % (np.sqrt(-grid_result.best_score_), grid_result.best_params_))\n",
    "print(\"Time taken = \",(time.time()-start_time)/60,\" minutes\")"
   ]
  },
  {
   "cell_type": "code",
   "execution_count": 107,
   "id": "90a670cf",
   "metadata": {},
   "outputs": [
    {
     "name": "stdout",
     "output_type": "stream",
     "text": [
      "Fitting 5 folds for each of 12 candidates, totalling 60 fits\n",
      "Best: 0.625868 using {'colsample_bytree': 0.5, 'gamma': 0, 'learning_rate': 0.01, 'max_depth': 16, 'n_estimators': 1000, 'reg_lambda': 0.6, 'subsample': 0.75}\n",
      "Time taken =  1.2273271163304647  minutes\n"
     ]
    }
   ],
   "source": [
    "start_time = time.time()\n",
    "param_grid = {'max_depth': [13, 14, 15, 16],\n",
    "              'n_estimators': [500, 1000, 1500],\n",
    "              'learning_rate': [0.01],\n",
    "              'subsample': [0.75],\n",
    "              'colsample_bytree': [0.5],\n",
    "              'reg_lambda':[0.6],\n",
    "              'gamma': [0]}\n",
    "\n",
    "cv = KFold(n_splits=5,shuffle=True,random_state=1)\n",
    "grid_search = GridSearchCV(estimator=xgb.XGBRegressor(random_state=1),                                                       \n",
    "                             param_grid = param_grid,\n",
    "                             verbose = 1,\n",
    "                             n_jobs=-1,\n",
    "                             cv = cv,\n",
    "                          scoring = 'neg_mean_squared_error')\n",
    "grid_result = grid_search.fit(white_train_x, white_train_y)\n",
    "\n",
    "print(\"Best: %f using %s\" % (np.sqrt(-grid_result.best_score_), grid_result.best_params_))\n",
    "print(\"Time taken = \",(time.time()-start_time)/60,\" minutes\")"
   ]
  },
  {
   "cell_type": "code",
   "execution_count": 121,
   "id": "aa4db440",
   "metadata": {},
   "outputs": [
    {
     "name": "stdout",
     "output_type": "stream",
     "text": [
      "RMSE for white tuned model:  0.6305164711632546\n",
      "MAE for white tuned model:  0.33877551020408164\n"
     ]
    }
   ],
   "source": [
    "#manual tuning of max_depth and colsample\n",
    "white_model_tuned = xgb.XGBRegressor(random_state = 1, gamma = 0, learning_rate = 0.01, max_depth = 9, n_estimators = 1000,\n",
    "                                  reg_lambda = 0.6, subsample = 0.75, colsample_bytree = 0.6).fit(white_train_x, white_train_y)\n",
    "mae = mean_absolute_error(white_test_y, np.around(white_model_tuned.predict(white_test_x)))\n",
    "rmse = np.sqrt(mean_squared_error(white_test_y, np.around(white_model_tuned.predict(white_test_x))))\n",
    "\n",
    "print('RMSE for white tuned model: ', rmse)\n",
    "print('MAE for white tuned model: ', mae)"
   ]
  },
  {
   "cell_type": "markdown",
   "id": "3c4fa33c",
   "metadata": {},
   "source": [
    "## Combined Model"
   ]
  },
  {
   "cell_type": "code",
   "execution_count": 114,
   "id": "06c3128c",
   "metadata": {},
   "outputs": [
    {
     "name": "stdout",
     "output_type": "stream",
     "text": [
      "Fitting 5 folds for each of 200 candidates, totalling 1000 fits\n",
      "Best: 0.625016 using {'subsample': 0.75, 'reg_lambda': 10, 'n_estimators': 500, 'max_depth': 8, 'learning_rate': 0.05, 'gamma': 0, 'colsample_bytree': 0.75}\n",
      "Time taken =  5.302819335460663  minutes\n"
     ]
    }
   ],
   "source": [
    "start_time = time.time()\n",
    "param_grid = {'max_depth': [4,6,8],\n",
    "              'n_estimators': [100, 500, 1000],\n",
    "              'learning_rate': [0.01, 0.05, 0.1],\n",
    "              'subsample': [0.5, 0.75, 1],\n",
    "              'colsample_bytree': [0.5, 0.75, 1],\n",
    "              'reg_lambda':[0, 1, 10],\n",
    "              'gamma': [0, 10, 100]}\n",
    "\n",
    "cv = KFold(n_splits=5,shuffle=True,random_state=1)\n",
    "grid_search = RandomizedSearchCV(estimator=xgb.XGBRegressor(random_state=1),                                                       \n",
    "                             param_distributions = param_grid,\n",
    "                                 n_iter = 200,\n",
    "                             verbose = 1,\n",
    "                             n_jobs=-1,\n",
    "                             cv = cv,\n",
    "                          scoring = 'neg_mean_squared_error')\n",
    "grid_result = grid_search.fit(combined_train_x, combined_train_y)\n",
    "\n",
    "print(\"Best: %f using %s\" % (np.sqrt(-grid_result.best_score_), grid_result.best_params_))\n",
    "print(\"Time taken = \",(time.time()-start_time)/60,\" minutes\")"
   ]
  },
  {
   "cell_type": "code",
   "execution_count": 122,
   "id": "1a8a908e",
   "metadata": {},
   "outputs": [
    {
     "name": "stdout",
     "output_type": "stream",
     "text": [
      "Fitting 5 folds for each of 75 candidates, totalling 375 fits\n"
     ]
    },
    {
     "name": "stderr",
     "output_type": "stream",
     "text": [
      "/Users/keatonolds/opt/anaconda3/lib/python3.9/site-packages/joblib/externals/loky/process_executor.py:702: UserWarning: A worker stopped while some jobs were given to the executor. This can be caused by a too short worker timeout or by a memory leak.\n",
      "  warnings.warn(\n"
     ]
    },
    {
     "name": "stdout",
     "output_type": "stream",
     "text": [
      "Best: 0.619580 using {'colsample_bytree': 0.75, 'gamma': 0, 'learning_rate': 0.05, 'max_depth': 11, 'n_estimators': 300, 'reg_lambda': 2, 'subsample': 0.75}\n",
      "Time taken =  3.602659785747528  minutes\n"
     ]
    }
   ],
   "source": [
    "start_time = time.time()\n",
    "param_grid = {'max_depth': [8,9,10,11,12],\n",
    "              'n_estimators': [300, 500, 700],\n",
    "              'learning_rate': [0.05],\n",
    "              'subsample': [0.75],\n",
    "              'colsample_bytree': [0.75],\n",
    "              'reg_lambda':[2,4,6,8,10],\n",
    "              'gamma': [0]}\n",
    "\n",
    "cv = KFold(n_splits=5,shuffle=True,random_state=1)\n",
    "grid_search = GridSearchCV(estimator=xgb.XGBRegressor(random_state=1),                                                       \n",
    "                             param_grid = param_grid,\n",
    "                             verbose = 1,\n",
    "                             n_jobs=-1,\n",
    "                             cv = cv,\n",
    "                          scoring = 'neg_mean_squared_error')\n",
    "grid_result = grid_search.fit(combined_train_x, combined_train_y)\n",
    "\n",
    "print(\"Best: %f using %s\" % (np.sqrt(-grid_result.best_score_), grid_result.best_params_))\n",
    "print(\"Time taken = \",(time.time()-start_time)/60,\" minutes\")"
   ]
  },
  {
   "cell_type": "code",
   "execution_count": 139,
   "id": "f67d4c50",
   "metadata": {},
   "outputs": [
    {
     "name": "stdout",
     "output_type": "stream",
     "text": [
      "RMSE for combined tuned model:  0.6401922788086044\n",
      "MAE for combined tuned model:  0.34584615384615386\n"
     ]
    }
   ],
   "source": [
    "#manual tuning of max_depth and colsample\n",
    "combined_model_tuned = xgb.XGBRegressor(random_state = 1, gamma = 0, learning_rate = 0.08, max_depth = 11, n_estimators = 300,\n",
    "                                  reg_lambda = 2, subsample = 0.75, colsample_bytree = 0.75).fit(combined_train_x, combined_train_y)\n",
    "mae = mean_absolute_error(combined_test_y, np.around(combined_model_tuned.predict(combined_test_x)))\n",
    "rmse = np.sqrt(mean_squared_error(combined_test_y, np.around(combined_model_tuned.predict(combined_test_x))))\n",
    "\n",
    "print('RMSE for combined tuned model: ', rmse)\n",
    "print('MAE for combined tuned model: ', mae)"
   ]
  },
  {
   "cell_type": "markdown",
   "id": "60971799",
   "metadata": {},
   "source": [
    "# Summary"
   ]
  },
  {
   "cell_type": "markdown",
   "id": "69272542",
   "metadata": {},
   "source": [
    "## Red Wine"
   ]
  },
  {
   "cell_type": "markdown",
   "id": "85785601",
   "metadata": {},
   "source": [
    "Base model MAE: 0.3855"
   ]
  },
  {
   "cell_type": "markdown",
   "id": "7ec4b085",
   "metadata": {},
   "source": [
    "Tuned model MAE: 0.3782"
   ]
  },
  {
   "cell_type": "markdown",
   "id": "fc5f16e0",
   "metadata": {},
   "source": [
    "Improvement: 0.0073 (0.02%)"
   ]
  },
  {
   "cell_type": "markdown",
   "id": "579adf3f",
   "metadata": {},
   "source": [
    "## White Wine"
   ]
  },
  {
   "cell_type": "markdown",
   "id": "e6f7dbab",
   "metadata": {},
   "source": [
    "Base model MAE:  0.4716"
   ]
  },
  {
   "cell_type": "markdown",
   "id": "b3435e3b",
   "metadata": {},
   "source": [
    "Tuned model MAE: 0.4023"
   ]
  },
  {
   "cell_type": "markdown",
   "id": "f0539319",
   "metadata": {},
   "source": [
    "Improvement: 0.0693 (14.69%)"
   ]
  },
  {
   "cell_type": "markdown",
   "id": "722730c6",
   "metadata": {},
   "source": [
    "## Combined Wines"
   ]
  },
  {
   "cell_type": "markdown",
   "id": "cb1a1fda",
   "metadata": {},
   "source": [
    "Base model MAE: 0.4752"
   ]
  },
  {
   "cell_type": "markdown",
   "id": "e6c7da2f",
   "metadata": {},
   "source": [
    "Tuned model MAE: 0.3941"
   ]
  },
  {
   "cell_type": "markdown",
   "id": "b47b85c2",
   "metadata": {},
   "source": [
    "Improvement: 0.0711 (14.96%)"
   ]
  }
 ],
 "metadata": {
  "kernelspec": {
   "display_name": "Python 3 (ipykernel)",
   "language": "python",
   "name": "python3"
  },
  "language_info": {
   "codemirror_mode": {
    "name": "ipython",
    "version": 3
   },
   "file_extension": ".py",
   "mimetype": "text/x-python",
   "name": "python",
   "nbconvert_exporter": "python",
   "pygments_lexer": "ipython3",
   "version": "3.9.12"
  }
 },
 "nbformat": 4,
 "nbformat_minor": 5
}
