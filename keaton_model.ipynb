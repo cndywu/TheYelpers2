{
 "cells": [
  {
   "cell_type": "code",
   "execution_count": 1,
   "id": "1c998972",
   "metadata": {},
   "outputs": [],
   "source": [
    "import pandas as pd\n",
    "import numpy as np\n",
    "import seaborn as sns\n",
    "import matplotlib.pyplot as plt\n",
    "from sklearn.metrics import mean_squared_error, mean_absolute_error\n",
    "from sklearn.model_selection import cross_val_score,train_test_split, KFold, cross_val_predict\n",
    "from sklearn.metrics import mean_squared_error,r2_score,roc_curve,auc,precision_recall_curve, accuracy_score, \\\n",
    "recall_score, precision_score, confusion_matrix\n",
    "from sklearn.tree import DecisionTreeRegressor,DecisionTreeClassifier\n",
    "from sklearn.model_selection import GridSearchCV, ParameterGrid, StratifiedKFold, RandomizedSearchCV\n",
    "from sklearn.ensemble import GradientBoostingRegressor,GradientBoostingClassifier, BaggingRegressor,BaggingClassifier,RandomForestRegressor,RandomForestClassifier,AdaBoostRegressor,AdaBoostClassifier\n",
    "from sklearn.linear_model import LinearRegression,LogisticRegression\n",
    "from sklearn.neighbors import KNeighborsRegressor\n",
    "import itertools as it\n",
    "import time as time\n",
    "import xgboost as xgb\n",
    "from pyearth import Earth"
   ]
  },
  {
   "cell_type": "markdown",
   "id": "9692f0f5",
   "metadata": {},
   "source": [
    "# Load and Prepare Data"
   ]
  },
  {
   "cell_type": "code",
   "execution_count": 2,
   "id": "b12c37f2",
   "metadata": {},
   "outputs": [],
   "source": [
    "red_train = pd.read_csv('red_train.csv')\n",
    "red_test = pd.read_csv('red_test.csv')\n",
    "white_train = pd.read_csv('white_train.csv')\n",
    "white_test = pd.read_csv('white_test.csv')"
   ]
  },
  {
   "cell_type": "code",
   "execution_count": 17,
   "id": "9b68057e",
   "metadata": {},
   "outputs": [
    {
     "data": {
      "text/plain": [
       "(1199, 12)"
      ]
     },
     "execution_count": 17,
     "metadata": {},
     "output_type": "execute_result"
    }
   ],
   "source": [
    "red_train.shape"
   ]
  },
  {
   "cell_type": "code",
   "execution_count": 18,
   "id": "fa148cc8",
   "metadata": {},
   "outputs": [
    {
     "data": {
      "text/plain": [
       "(3673, 12)"
      ]
     },
     "execution_count": 18,
     "metadata": {},
     "output_type": "execute_result"
    }
   ],
   "source": [
    "white_train.shape"
   ]
  },
  {
   "cell_type": "code",
   "execution_count": 7,
   "id": "070a0acf",
   "metadata": {},
   "outputs": [
    {
     "data": {
      "text/html": [
       "<div>\n",
       "<style scoped>\n",
       "    .dataframe tbody tr th:only-of-type {\n",
       "        vertical-align: middle;\n",
       "    }\n",
       "\n",
       "    .dataframe tbody tr th {\n",
       "        vertical-align: top;\n",
       "    }\n",
       "\n",
       "    .dataframe thead th {\n",
       "        text-align: right;\n",
       "    }\n",
       "</style>\n",
       "<table border=\"1\" class=\"dataframe\">\n",
       "  <thead>\n",
       "    <tr style=\"text-align: right;\">\n",
       "      <th></th>\n",
       "      <th>fixed acidity</th>\n",
       "      <th>volatile acidity</th>\n",
       "      <th>citric acid</th>\n",
       "      <th>residual sugar</th>\n",
       "      <th>chlorides</th>\n",
       "      <th>free sulfur dioxide</th>\n",
       "      <th>total sulfur dioxide</th>\n",
       "      <th>density</th>\n",
       "      <th>pH</th>\n",
       "      <th>sulphates</th>\n",
       "      <th>alcohol</th>\n",
       "      <th>quality</th>\n",
       "    </tr>\n",
       "  </thead>\n",
       "  <tbody>\n",
       "    <tr>\n",
       "      <th>0</th>\n",
       "      <td>9.8</td>\n",
       "      <td>0.44</td>\n",
       "      <td>0.47</td>\n",
       "      <td>2.50</td>\n",
       "      <td>0.063</td>\n",
       "      <td>9.0</td>\n",
       "      <td>28.0</td>\n",
       "      <td>0.99810</td>\n",
       "      <td>3.24</td>\n",
       "      <td>0.65</td>\n",
       "      <td>10.80</td>\n",
       "      <td>6</td>\n",
       "    </tr>\n",
       "    <tr>\n",
       "      <th>1</th>\n",
       "      <td>6.3</td>\n",
       "      <td>0.51</td>\n",
       "      <td>0.13</td>\n",
       "      <td>2.30</td>\n",
       "      <td>0.076</td>\n",
       "      <td>29.0</td>\n",
       "      <td>40.0</td>\n",
       "      <td>0.99574</td>\n",
       "      <td>3.42</td>\n",
       "      <td>0.75</td>\n",
       "      <td>11.00</td>\n",
       "      <td>6</td>\n",
       "    </tr>\n",
       "    <tr>\n",
       "      <th>2</th>\n",
       "      <td>8.5</td>\n",
       "      <td>0.18</td>\n",
       "      <td>0.51</td>\n",
       "      <td>1.75</td>\n",
       "      <td>0.071</td>\n",
       "      <td>45.0</td>\n",
       "      <td>88.0</td>\n",
       "      <td>0.99524</td>\n",
       "      <td>3.33</td>\n",
       "      <td>0.76</td>\n",
       "      <td>11.80</td>\n",
       "      <td>7</td>\n",
       "    </tr>\n",
       "    <tr>\n",
       "      <th>3</th>\n",
       "      <td>7.7</td>\n",
       "      <td>0.18</td>\n",
       "      <td>0.34</td>\n",
       "      <td>2.70</td>\n",
       "      <td>0.066</td>\n",
       "      <td>15.0</td>\n",
       "      <td>58.0</td>\n",
       "      <td>0.99470</td>\n",
       "      <td>3.37</td>\n",
       "      <td>0.78</td>\n",
       "      <td>11.80</td>\n",
       "      <td>6</td>\n",
       "    </tr>\n",
       "    <tr>\n",
       "      <th>4</th>\n",
       "      <td>6.2</td>\n",
       "      <td>0.65</td>\n",
       "      <td>0.06</td>\n",
       "      <td>1.60</td>\n",
       "      <td>0.050</td>\n",
       "      <td>6.0</td>\n",
       "      <td>18.0</td>\n",
       "      <td>0.99348</td>\n",
       "      <td>3.57</td>\n",
       "      <td>0.54</td>\n",
       "      <td>11.95</td>\n",
       "      <td>5</td>\n",
       "    </tr>\n",
       "  </tbody>\n",
       "</table>\n",
       "</div>"
      ],
      "text/plain": [
       "   fixed acidity  volatile acidity  citric acid  residual sugar  chlorides  \\\n",
       "0            9.8              0.44         0.47            2.50      0.063   \n",
       "1            6.3              0.51         0.13            2.30      0.076   \n",
       "2            8.5              0.18         0.51            1.75      0.071   \n",
       "3            7.7              0.18         0.34            2.70      0.066   \n",
       "4            6.2              0.65         0.06            1.60      0.050   \n",
       "\n",
       "   free sulfur dioxide  total sulfur dioxide  density    pH  sulphates  \\\n",
       "0                  9.0                  28.0  0.99810  3.24       0.65   \n",
       "1                 29.0                  40.0  0.99574  3.42       0.75   \n",
       "2                 45.0                  88.0  0.99524  3.33       0.76   \n",
       "3                 15.0                  58.0  0.99470  3.37       0.78   \n",
       "4                  6.0                  18.0  0.99348  3.57       0.54   \n",
       "\n",
       "   alcohol  quality  \n",
       "0    10.80        6  \n",
       "1    11.00        6  \n",
       "2    11.80        7  \n",
       "3    11.80        6  \n",
       "4    11.95        5  "
      ]
     },
     "execution_count": 7,
     "metadata": {},
     "output_type": "execute_result"
    }
   ],
   "source": [
    "red_train.head()"
   ]
  },
  {
   "cell_type": "code",
   "execution_count": 3,
   "id": "807fc724",
   "metadata": {},
   "outputs": [],
   "source": [
    "red_train_copy = red_train.copy()\n",
    "red_test_copy = red_test.copy()\n",
    "white_train_copy = white_train.copy()\n",
    "white_test_copy = white_test.copy()\n",
    "red_train_copy['type'] = 'red'\n",
    "red_test_copy['type'] = 'red'\n",
    "white_train_copy['type'] = 'white'\n",
    "white_test_copy['type'] = 'white'"
   ]
  },
  {
   "cell_type": "code",
   "execution_count": 8,
   "id": "8826b4ff",
   "metadata": {},
   "outputs": [
    {
     "data": {
      "text/html": [
       "<div>\n",
       "<style scoped>\n",
       "    .dataframe tbody tr th:only-of-type {\n",
       "        vertical-align: middle;\n",
       "    }\n",
       "\n",
       "    .dataframe tbody tr th {\n",
       "        vertical-align: top;\n",
       "    }\n",
       "\n",
       "    .dataframe thead th {\n",
       "        text-align: right;\n",
       "    }\n",
       "</style>\n",
       "<table border=\"1\" class=\"dataframe\">\n",
       "  <thead>\n",
       "    <tr style=\"text-align: right;\">\n",
       "      <th></th>\n",
       "      <th>fixed acidity</th>\n",
       "      <th>volatile acidity</th>\n",
       "      <th>citric acid</th>\n",
       "      <th>residual sugar</th>\n",
       "      <th>chlorides</th>\n",
       "      <th>free sulfur dioxide</th>\n",
       "      <th>total sulfur dioxide</th>\n",
       "      <th>density</th>\n",
       "      <th>pH</th>\n",
       "      <th>sulphates</th>\n",
       "      <th>alcohol</th>\n",
       "      <th>quality</th>\n",
       "      <th>type</th>\n",
       "    </tr>\n",
       "  </thead>\n",
       "  <tbody>\n",
       "    <tr>\n",
       "      <th>0</th>\n",
       "      <td>9.8</td>\n",
       "      <td>0.44</td>\n",
       "      <td>0.47</td>\n",
       "      <td>2.50</td>\n",
       "      <td>0.063</td>\n",
       "      <td>9.0</td>\n",
       "      <td>28.0</td>\n",
       "      <td>0.99810</td>\n",
       "      <td>3.24</td>\n",
       "      <td>0.65</td>\n",
       "      <td>10.80</td>\n",
       "      <td>6</td>\n",
       "      <td>red</td>\n",
       "    </tr>\n",
       "    <tr>\n",
       "      <th>1</th>\n",
       "      <td>6.3</td>\n",
       "      <td>0.51</td>\n",
       "      <td>0.13</td>\n",
       "      <td>2.30</td>\n",
       "      <td>0.076</td>\n",
       "      <td>29.0</td>\n",
       "      <td>40.0</td>\n",
       "      <td>0.99574</td>\n",
       "      <td>3.42</td>\n",
       "      <td>0.75</td>\n",
       "      <td>11.00</td>\n",
       "      <td>6</td>\n",
       "      <td>red</td>\n",
       "    </tr>\n",
       "    <tr>\n",
       "      <th>2</th>\n",
       "      <td>8.5</td>\n",
       "      <td>0.18</td>\n",
       "      <td>0.51</td>\n",
       "      <td>1.75</td>\n",
       "      <td>0.071</td>\n",
       "      <td>45.0</td>\n",
       "      <td>88.0</td>\n",
       "      <td>0.99524</td>\n",
       "      <td>3.33</td>\n",
       "      <td>0.76</td>\n",
       "      <td>11.80</td>\n",
       "      <td>7</td>\n",
       "      <td>red</td>\n",
       "    </tr>\n",
       "    <tr>\n",
       "      <th>3</th>\n",
       "      <td>7.7</td>\n",
       "      <td>0.18</td>\n",
       "      <td>0.34</td>\n",
       "      <td>2.70</td>\n",
       "      <td>0.066</td>\n",
       "      <td>15.0</td>\n",
       "      <td>58.0</td>\n",
       "      <td>0.99470</td>\n",
       "      <td>3.37</td>\n",
       "      <td>0.78</td>\n",
       "      <td>11.80</td>\n",
       "      <td>6</td>\n",
       "      <td>red</td>\n",
       "    </tr>\n",
       "    <tr>\n",
       "      <th>4</th>\n",
       "      <td>6.2</td>\n",
       "      <td>0.65</td>\n",
       "      <td>0.06</td>\n",
       "      <td>1.60</td>\n",
       "      <td>0.050</td>\n",
       "      <td>6.0</td>\n",
       "      <td>18.0</td>\n",
       "      <td>0.99348</td>\n",
       "      <td>3.57</td>\n",
       "      <td>0.54</td>\n",
       "      <td>11.95</td>\n",
       "      <td>5</td>\n",
       "      <td>red</td>\n",
       "    </tr>\n",
       "  </tbody>\n",
       "</table>\n",
       "</div>"
      ],
      "text/plain": [
       "   fixed acidity  volatile acidity  citric acid  residual sugar  chlorides  \\\n",
       "0            9.8              0.44         0.47            2.50      0.063   \n",
       "1            6.3              0.51         0.13            2.30      0.076   \n",
       "2            8.5              0.18         0.51            1.75      0.071   \n",
       "3            7.7              0.18         0.34            2.70      0.066   \n",
       "4            6.2              0.65         0.06            1.60      0.050   \n",
       "\n",
       "   free sulfur dioxide  total sulfur dioxide  density    pH  sulphates  \\\n",
       "0                  9.0                  28.0  0.99810  3.24       0.65   \n",
       "1                 29.0                  40.0  0.99574  3.42       0.75   \n",
       "2                 45.0                  88.0  0.99524  3.33       0.76   \n",
       "3                 15.0                  58.0  0.99470  3.37       0.78   \n",
       "4                  6.0                  18.0  0.99348  3.57       0.54   \n",
       "\n",
       "   alcohol  quality type  \n",
       "0    10.80        6  red  \n",
       "1    11.00        6  red  \n",
       "2    11.80        7  red  \n",
       "3    11.80        6  red  \n",
       "4    11.95        5  red  "
      ]
     },
     "execution_count": 8,
     "metadata": {},
     "output_type": "execute_result"
    }
   ],
   "source": [
    "red_train_copy.head()"
   ]
  },
  {
   "cell_type": "code",
   "execution_count": 4,
   "id": "e0004335",
   "metadata": {},
   "outputs": [],
   "source": [
    "combined_train = pd.concat([red_train_copy, white_train_copy], axis = 0)\n",
    "combined_test = pd.concat([red_test_copy, white_test_copy], axis = 0)\n",
    "combined_train = pd.get_dummies(combined_train)\n",
    "combined_test = pd.get_dummies(combined_test)"
   ]
  },
  {
   "cell_type": "code",
   "execution_count": 9,
   "id": "5d8ad550",
   "metadata": {},
   "outputs": [
    {
     "data": {
      "text/html": [
       "<div>\n",
       "<style scoped>\n",
       "    .dataframe tbody tr th:only-of-type {\n",
       "        vertical-align: middle;\n",
       "    }\n",
       "\n",
       "    .dataframe tbody tr th {\n",
       "        vertical-align: top;\n",
       "    }\n",
       "\n",
       "    .dataframe thead th {\n",
       "        text-align: right;\n",
       "    }\n",
       "</style>\n",
       "<table border=\"1\" class=\"dataframe\">\n",
       "  <thead>\n",
       "    <tr style=\"text-align: right;\">\n",
       "      <th></th>\n",
       "      <th>fixed acidity</th>\n",
       "      <th>volatile acidity</th>\n",
       "      <th>citric acid</th>\n",
       "      <th>residual sugar</th>\n",
       "      <th>chlorides</th>\n",
       "      <th>free sulfur dioxide</th>\n",
       "      <th>total sulfur dioxide</th>\n",
       "      <th>density</th>\n",
       "      <th>pH</th>\n",
       "      <th>sulphates</th>\n",
       "      <th>alcohol</th>\n",
       "      <th>quality</th>\n",
       "      <th>type_red</th>\n",
       "      <th>type_white</th>\n",
       "    </tr>\n",
       "  </thead>\n",
       "  <tbody>\n",
       "    <tr>\n",
       "      <th>0</th>\n",
       "      <td>9.8</td>\n",
       "      <td>0.44</td>\n",
       "      <td>0.47</td>\n",
       "      <td>2.50</td>\n",
       "      <td>0.063</td>\n",
       "      <td>9.0</td>\n",
       "      <td>28.0</td>\n",
       "      <td>0.99810</td>\n",
       "      <td>3.24</td>\n",
       "      <td>0.65</td>\n",
       "      <td>10.80</td>\n",
       "      <td>6</td>\n",
       "      <td>1</td>\n",
       "      <td>0</td>\n",
       "    </tr>\n",
       "    <tr>\n",
       "      <th>1</th>\n",
       "      <td>6.3</td>\n",
       "      <td>0.51</td>\n",
       "      <td>0.13</td>\n",
       "      <td>2.30</td>\n",
       "      <td>0.076</td>\n",
       "      <td>29.0</td>\n",
       "      <td>40.0</td>\n",
       "      <td>0.99574</td>\n",
       "      <td>3.42</td>\n",
       "      <td>0.75</td>\n",
       "      <td>11.00</td>\n",
       "      <td>6</td>\n",
       "      <td>1</td>\n",
       "      <td>0</td>\n",
       "    </tr>\n",
       "    <tr>\n",
       "      <th>2</th>\n",
       "      <td>8.5</td>\n",
       "      <td>0.18</td>\n",
       "      <td>0.51</td>\n",
       "      <td>1.75</td>\n",
       "      <td>0.071</td>\n",
       "      <td>45.0</td>\n",
       "      <td>88.0</td>\n",
       "      <td>0.99524</td>\n",
       "      <td>3.33</td>\n",
       "      <td>0.76</td>\n",
       "      <td>11.80</td>\n",
       "      <td>7</td>\n",
       "      <td>1</td>\n",
       "      <td>0</td>\n",
       "    </tr>\n",
       "    <tr>\n",
       "      <th>3</th>\n",
       "      <td>7.7</td>\n",
       "      <td>0.18</td>\n",
       "      <td>0.34</td>\n",
       "      <td>2.70</td>\n",
       "      <td>0.066</td>\n",
       "      <td>15.0</td>\n",
       "      <td>58.0</td>\n",
       "      <td>0.99470</td>\n",
       "      <td>3.37</td>\n",
       "      <td>0.78</td>\n",
       "      <td>11.80</td>\n",
       "      <td>6</td>\n",
       "      <td>1</td>\n",
       "      <td>0</td>\n",
       "    </tr>\n",
       "    <tr>\n",
       "      <th>4</th>\n",
       "      <td>6.2</td>\n",
       "      <td>0.65</td>\n",
       "      <td>0.06</td>\n",
       "      <td>1.60</td>\n",
       "      <td>0.050</td>\n",
       "      <td>6.0</td>\n",
       "      <td>18.0</td>\n",
       "      <td>0.99348</td>\n",
       "      <td>3.57</td>\n",
       "      <td>0.54</td>\n",
       "      <td>11.95</td>\n",
       "      <td>5</td>\n",
       "      <td>1</td>\n",
       "      <td>0</td>\n",
       "    </tr>\n",
       "  </tbody>\n",
       "</table>\n",
       "</div>"
      ],
      "text/plain": [
       "   fixed acidity  volatile acidity  citric acid  residual sugar  chlorides  \\\n",
       "0            9.8              0.44         0.47            2.50      0.063   \n",
       "1            6.3              0.51         0.13            2.30      0.076   \n",
       "2            8.5              0.18         0.51            1.75      0.071   \n",
       "3            7.7              0.18         0.34            2.70      0.066   \n",
       "4            6.2              0.65         0.06            1.60      0.050   \n",
       "\n",
       "   free sulfur dioxide  total sulfur dioxide  density    pH  sulphates  \\\n",
       "0                  9.0                  28.0  0.99810  3.24       0.65   \n",
       "1                 29.0                  40.0  0.99574  3.42       0.75   \n",
       "2                 45.0                  88.0  0.99524  3.33       0.76   \n",
       "3                 15.0                  58.0  0.99470  3.37       0.78   \n",
       "4                  6.0                  18.0  0.99348  3.57       0.54   \n",
       "\n",
       "   alcohol  quality  type_red  type_white  \n",
       "0    10.80        6         1           0  \n",
       "1    11.00        6         1           0  \n",
       "2    11.80        7         1           0  \n",
       "3    11.80        6         1           0  \n",
       "4    11.95        5         1           0  "
      ]
     },
     "execution_count": 9,
     "metadata": {},
     "output_type": "execute_result"
    }
   ],
   "source": [
    "combined_train.head()"
   ]
  },
  {
   "cell_type": "code",
   "execution_count": 10,
   "id": "0c3883ac",
   "metadata": {},
   "outputs": [],
   "source": [
    "red_train_x = red_train.drop('quality', axis = 1)\n",
    "red_train_y = red_train['quality']\n",
    "red_test_x = red_test.drop('quality', axis = 1)\n",
    "red_test_y = red_test['quality']\n",
    "white_train_x = white_train.drop('quality', axis = 1)\n",
    "white_train_y = white_train['quality']\n",
    "white_test_x = white_test.drop('quality', axis = 1)\n",
    "white_test_y = white_test['quality']\n",
    "combined_train_x = combined_train.drop('quality', axis = 1)\n",
    "combined_train_y = combined_train['quality']\n",
    "combined_test_x = combined_test.drop('quality', axis = 1)\n",
    "combined_test_y = combined_test['quality']"
   ]
  },
  {
   "cell_type": "markdown",
   "id": "0bf9122e",
   "metadata": {},
   "source": [
    "# Create Base XGBoost Models"
   ]
  },
  {
   "cell_type": "markdown",
   "id": "ef2334da",
   "metadata": {},
   "source": [
    "## Red Model"
   ]
  },
  {
   "cell_type": "code",
   "execution_count": 12,
   "id": "3aa56e4c",
   "metadata": {},
   "outputs": [
    {
     "name": "stdout",
     "output_type": "stream",
     "text": [
      "MAE for red base model:  0.38551137268543245\n"
     ]
    }
   ],
   "source": [
    "red_model = xgb.XGBRegressor().fit(red_train_x, red_train_y)\n",
    "mae = mean_absolute_error(red_test_y, red_model.predict(red_test_x))\n",
    "print('MAE for red base model: ', mae)"
   ]
  },
  {
   "cell_type": "markdown",
   "id": "251799f4",
   "metadata": {},
   "source": [
    "## White Model"
   ]
  },
  {
   "cell_type": "code",
   "execution_count": 13,
   "id": "e710b3c0",
   "metadata": {},
   "outputs": [
    {
     "name": "stdout",
     "output_type": "stream",
     "text": [
      "MAE for white base model:  0.47156560489109584\n"
     ]
    }
   ],
   "source": [
    "white_model = xgb.XGBRegressor().fit(white_train_x, white_train_y)\n",
    "mae = mean_absolute_error(white_test_y, white_model.predict(white_test_x))\n",
    "print('MAE for white base model: ', mae)"
   ]
  },
  {
   "cell_type": "markdown",
   "id": "7f73ef20",
   "metadata": {},
   "source": [
    "## Combined Model"
   ]
  },
  {
   "cell_type": "code",
   "execution_count": 16,
   "id": "565ec2e1",
   "metadata": {},
   "outputs": [
    {
     "name": "stdout",
     "output_type": "stream",
     "text": [
      "MAE for combined base model:  0.47515145565913275\n"
     ]
    }
   ],
   "source": [
    "combined_model = xgb.XGBRegressor().fit(combined_train_x, combined_train_y)\n",
    "mae = mean_absolute_error(combined_test_y, combined_model.predict(combined_test_x))\n",
    "print('MAE for combined base model: ', mae)"
   ]
  },
  {
   "cell_type": "markdown",
   "id": "609ee8d6",
   "metadata": {},
   "source": [
    "# Tuning Models"
   ]
  },
  {
   "cell_type": "markdown",
   "id": "15e1dcf0",
   "metadata": {},
   "source": [
    "## Red Model"
   ]
  },
  {
   "cell_type": "code",
   "execution_count": 19,
   "id": "ed56d81c",
   "metadata": {},
   "outputs": [
    {
     "name": "stdout",
     "output_type": "stream",
     "text": [
      "Fitting 5 folds for each of 200 candidates, totalling 1000 fits\n"
     ]
    },
    {
     "name": "stderr",
     "output_type": "stream",
     "text": [
      "/Users/keatonolds/opt/anaconda3/lib/python3.9/site-packages/joblib/externals/loky/process_executor.py:702: UserWarning: A worker stopped while some jobs were given to the executor. This can be caused by a too short worker timeout or by a memory leak.\n",
      "  warnings.warn(\n"
     ]
    },
    {
     "name": "stdout",
     "output_type": "stream",
     "text": [
      "Best: 0.649099 using {'subsample': 0.5, 'reg_lambda': 0, 'n_estimators': 1000, 'max_depth': 14, 'learning_rate': 0.01, 'gamma': 0}\n",
      "Time taken =  1.4288663029670716  minutes\n"
     ]
    }
   ],
   "source": [
    "start_time = time.time()\n",
    "param_grid = {'max_depth': [2, 8, 14],\n",
    "              'n_estimators': [50, 100, 500, 1000],\n",
    "              'learning_rate': [0.001, 0.01, 0.1],\n",
    "              'subsample': [0.5, 0.75, 1],\n",
    "              'reg_lambda':[0, 1, 10],\n",
    "              'gamma': [0, 10]}\n",
    "\n",
    "cv = KFold(n_splits=5,shuffle=True,random_state=1)\n",
    "grid_search = RandomizedSearchCV(estimator=xgb.XGBRegressor(random_state=1, subsample = 0.5),                                                       \n",
    "                             param_distributions = param_grid,\n",
    "                                 n_iter = 200,\n",
    "                             verbose = 1,\n",
    "                             n_jobs=-1,\n",
    "                             cv = cv,\n",
    "                          scoring = 'neg_mean_absolute_error')\n",
    "grid_result = grid_search.fit(red_train_x, red_train_y)\n",
    "\n",
    "print(\"Best: %f using %s\" % (np.sqrt(-grid_result.best_score_), grid_result.best_params_))\n",
    "print(\"Time taken = \",(time.time()-start_time)/60,\" minutes\")"
   ]
  },
  {
   "cell_type": "code",
   "execution_count": 21,
   "id": "ddb4d9fa",
   "metadata": {},
   "outputs": [
    {
     "name": "stdout",
     "output_type": "stream",
     "text": [
      "Fitting 2 folds for each of 486 candidates, totalling 972 fits\n",
      "Best: 0.673798 using {'gamma': 0, 'learning_rate': 0.01, 'max_depth': 14, 'n_estimators': 3000, 'reg_lambda': 0.1, 'subsample': 0.5}\n",
      "Time taken =  7.955299270153046  minutes\n"
     ]
    }
   ],
   "source": [
    "start_time = time.time()\n",
    "param_grid = {'max_depth': [12, 14, 16],\n",
    "              'n_estimators': [1000, 2000, 3000],\n",
    "              'learning_rate': [0.01, 0.025, 0.05],\n",
    "              'subsample': [0.2, 0.35, 0.5],\n",
    "              'reg_lambda':[0, 0.1, 0.2],\n",
    "              'gamma': [0, 1]}\n",
    "\n",
    "cv = KFold(n_splits=2,shuffle=True,random_state=1)\n",
    "grid_search = GridSearchCV(estimator=xgb.XGBRegressor(random_state=1, subsample = 0.5),                                                       \n",
    "                             param_grid = param_grid,\n",
    "                             verbose = 1,\n",
    "                             n_jobs=-1,\n",
    "                             cv = cv,\n",
    "                          scoring = 'neg_mean_absolute_error')\n",
    "grid_result = grid_search.fit(red_train_x, red_train_y)\n",
    "\n",
    "print(\"Best: %f using %s\" % (np.sqrt(-grid_result.best_score_), grid_result.best_params_))\n",
    "print(\"Time taken = \",(time.time()-start_time)/60,\" minutes\")"
   ]
  },
  {
   "cell_type": "code",
   "execution_count": 22,
   "id": "7542b158",
   "metadata": {},
   "outputs": [
    {
     "name": "stdout",
     "output_type": "stream",
     "text": [
      "Fitting 2 folds for each of 9 candidates, totalling 18 fits\n",
      "Best: 0.673797 using {'gamma': 0, 'learning_rate': 0.01, 'max_depth': 14, 'n_estimators': 4000, 'reg_lambda': 0.1, 'subsample': 0.5}\n",
      "Time taken =  0.6000357151031495  minutes\n"
     ]
    }
   ],
   "source": [
    "start_time = time.time()\n",
    "param_grid = {'max_depth': [14],\n",
    "              'n_estimators': [3000, 3500, 4000],\n",
    "              'learning_rate': [0.01],\n",
    "              'subsample': [0.5],\n",
    "              'reg_lambda':[0.1],\n",
    "              'gamma': [0, 0.1, 0.5]}\n",
    "\n",
    "cv = KFold(n_splits=2,shuffle=True,random_state=1)\n",
    "grid_search = GridSearchCV(estimator=xgb.XGBRegressor(random_state=1, subsample = 0.5),                                                       \n",
    "                             param_grid = param_grid,\n",
    "                             verbose = 1,\n",
    "                             n_jobs=-1,\n",
    "                             cv = cv,\n",
    "                          scoring = 'neg_mean_absolute_error')\n",
    "grid_result = grid_search.fit(red_train_x, red_train_y)\n",
    "\n",
    "print(\"Best: %f using %s\" % (np.sqrt(-grid_result.best_score_), grid_result.best_params_))\n",
    "print(\"Time taken = \",(time.time()-start_time)/60,\" minutes\")"
   ]
  },
  {
   "cell_type": "code",
   "execution_count": 29,
   "id": "76350904",
   "metadata": {},
   "outputs": [
    {
     "name": "stdout",
     "output_type": "stream",
     "text": [
      ">50 0.660 (0.018)\n",
      ">500 0.662 (0.019)\n",
      ">1000 0.662 (0.019)\n",
      ">2000 0.662 (0.019)\n",
      ">3000 0.662 (0.019)\n",
      ">4000 0.662 (0.019)\n",
      ">5000 0.662 (0.019)\n"
     ]
    },
    {
     "data": {
      "text/plain": [
       "Text(0.5, 0, 'Number of trees')"
      ]
     },
     "execution_count": 29,
     "metadata": {},
     "output_type": "execute_result"
    },
    {
     "data": {
      "image/png": "[encoded data removed]",
      "text/plain": [
       "<Figure size 432x288 with 1 Axes>"
      ]
     },
     "metadata": {
      "needs_background": "light"
     },
     "output_type": "display_data"
    }
   ],
   "source": [
    "def get_models():\n",
    "    models = dict()\n",
    "    # define number of trees to consider\n",
    "    n_trees = [50, 500, 1000, 2000, 3000, 4000, 5000]\n",
    "    for n in n_trees:\n",
    "        models[str(n)] = xgb.XGBRegressor(n_estimators=n,random_state=1)\n",
    "    return models\n",
    "\n",
    "# evaluate a given model using cross-validation\n",
    "def evaluate_model(model, X, y):\n",
    "    # define the evaluation procedure\n",
    "    cv = KFold(n_splits=5, shuffle=True, random_state=1)\n",
    "    # evaluate the model and collect the results\n",
    "    scores = np.sqrt(-cross_val_score(model, X, y, scoring='neg_mean_squared_error', cv=cv, n_jobs=-1))\n",
    "    return scores\n",
    "\n",
    "# get the models to evaluate\n",
    "models = get_models()\n",
    "# evaluate the models and store results\n",
    "results, names = list(), list()\n",
    "for name, model in models.items():\n",
    "    # evaluate the model\n",
    "    scores = evaluate_model(model, red_train_x, red_train_y)\n",
    "    # store the results\n",
    "    results.append(scores)\n",
    "    names.append(name)\n",
    "    # summarize the performance along the way\n",
    "    print('>%s %.3f (%.3f)' % (name, np.mean(scores), np.std(scores)))\n",
    "# plot model performance for comparison\n",
    "plt.boxplot(results, labels=names, showmeans=True)\n",
    "plt.ylabel('Cross validation error',fontsize=15)\n",
    "plt.xlabel('Number of trees',fontsize=15)"
   ]
  },
  {
   "cell_type": "code",
   "execution_count": null,
   "id": "4231f732",
   "metadata": {},
   "outputs": [],
   "source": [
    "red_model_tuned = xgb.XGBRegressor(random_state = 1, gamma = 0, learning_rate = 0.01, max_depth = 14, n_estimators = 500,\n",
    "                                  reg_lambda = 0.1, subsample = 0.5).fit(red_train_x, red_train_y)\n",
    "mae = mean_absolute_error(red_test_y, red_model_tuned.predict(red_test_x))\n",
    "print('MAE for red base model: ', mae)"
   ]
  },
  {
   "cell_type": "markdown",
   "id": "6681d75e",
   "metadata": {},
   "source": [
    "## White Model"
   ]
  },
  {
   "cell_type": "code",
   "execution_count": null,
   "id": "1450a993",
   "metadata": {},
   "outputs": [],
   "source": []
  },
  {
   "cell_type": "markdown",
   "id": "1a3d7a8c",
   "metadata": {},
   "source": [
    "## Combined Model"
   ]
  },
  {
   "cell_type": "code",
   "execution_count": null,
   "id": "28341226",
   "metadata": {},
   "outputs": [],
   "source": []
  }
 ],
 "metadata": {
  "kernelspec": {
   "display_name": "Python 3 (ipykernel)",
   "language": "python",
   "name": "python3"
  },
  "language_info": {
   "codemirror_mode": {
    "name": "ipython",
    "version": 3
   },
   "file_extension": ".py",
   "mimetype": "text/x-python",
   "name": "python",
   "nbconvert_exporter": "python",
   "pygments_lexer": "ipython3",
   "version": "3.9.12"
  }
 },
 "nbformat": 4,
 "nbformat_minor": 5
}
