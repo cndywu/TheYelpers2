{
 "cells": [
  {
   "cell_type": "code",
   "execution_count": 1,
   "id": "407861f7",
   "metadata": {},
   "outputs": [],
   "source": [
    "import pandas as pd\n",
    "import numpy as np\n",
    "import seaborn as sns\n",
    "import matplotlib.pyplot as plt\n",
    "from sklearn.metrics import mean_squared_error, mean_absolute_error\n",
    "from sklearn.model_selection import cross_val_score,train_test_split, KFold, cross_val_predict\n",
    "from sklearn.metrics import mean_squared_error,r2_score,roc_curve,auc,precision_recall_curve, accuracy_score, \\\n",
    "recall_score, precision_score, confusion_matrix\n",
    "from sklearn.tree import DecisionTreeRegressor,DecisionTreeClassifier\n",
    "from sklearn.model_selection import GridSearchCV, ParameterGrid, StratifiedKFold, RandomizedSearchCV\n",
    "from sklearn.ensemble import GradientBoostingRegressor,GradientBoostingClassifier, BaggingRegressor,BaggingClassifier,RandomForestRegressor,RandomForestClassifier,AdaBoostRegressor,AdaBoostClassifier\n",
    "from sklearn.linear_model import LinearRegression,LogisticRegression\n",
    "from sklearn.neighbors import KNeighborsRegressor\n",
    "import itertools as it\n",
    "import time as time\n",
    "import xgboost as xgb\n",
    "from pyearth import Earth"
   ]
  },
  {
   "cell_type": "markdown",
   "id": "127e896a",
   "metadata": {},
   "source": [
    "# Load and Prepare Data"
   ]
  },
  {
   "cell_type": "code",
   "execution_count": 2,
   "id": "e72e3d1c",
   "metadata": {},
   "outputs": [],
   "source": [
    "red_train = pd.read_csv('red_train.csv')\n",
    "red_test = pd.read_csv('red_test.csv')\n",
    "white_train = pd.read_csv('white_train.csv')\n",
    "white_test = pd.read_csv('white_test.csv')"
   ]
  },
  {
   "cell_type": "code",
   "execution_count": 17,
   "id": "8660a2e7",
   "metadata": {},
   "outputs": [
    {
     "data": {
      "text/plain": [
       "(1199, 12)"
      ]
     },
     "execution_count": 17,
     "metadata": {},
     "output_type": "execute_result"
    }
   ],
   "source": [
    "red_train.shape"
   ]
  },
  {
   "cell_type": "code",
   "execution_count": 18,
   "id": "b1a7721d",
   "metadata": {},
   "outputs": [
    {
     "data": {
      "text/plain": [
       "(3673, 12)"
      ]
     },
     "execution_count": 18,
     "metadata": {},
     "output_type": "execute_result"
    }
   ],
   "source": [
    "white_train.shape"
   ]
  },
  {
   "cell_type": "code",
   "execution_count": 7,
   "id": "10fe9391",
   "metadata": {},
   "outputs": [
    {
     "data": {
      "text/html": [
       "<div>\n",
       "<style scoped>\n",
       "    .dataframe tbody tr th:only-of-type {\n",
       "        vertical-align: middle;\n",
       "    }\n",
       "\n",
       "    .dataframe tbody tr th {\n",
       "        vertical-align: top;\n",
       "    }\n",
       "\n",
       "    .dataframe thead th {\n",
       "        text-align: right;\n",
       "    }\n",
       "</style>\n",
       "<table border=\"1\" class=\"dataframe\">\n",
       "  <thead>\n",
       "    <tr style=\"text-align: right;\">\n",
       "      <th></th>\n",
       "      <th>fixed acidity</th>\n",
       "      <th>volatile acidity</th>\n",
       "      <th>citric acid</th>\n",
       "      <th>residual sugar</th>\n",
       "      <th>chlorides</th>\n",
       "      <th>free sulfur dioxide</th>\n",
       "      <th>total sulfur dioxide</th>\n",
       "      <th>density</th>\n",
       "      <th>pH</th>\n",
       "      <th>sulphates</th>\n",
       "      <th>alcohol</th>\n",
       "      <th>quality</th>\n",
       "    </tr>\n",
       "  </thead>\n",
       "  <tbody>\n",
       "    <tr>\n",
       "      <th>0</th>\n",
       "      <td>9.8</td>\n",
       "      <td>0.44</td>\n",
       "      <td>0.47</td>\n",
       "      <td>2.50</td>\n",
       "      <td>0.063</td>\n",
       "      <td>9.0</td>\n",
       "      <td>28.0</td>\n",
       "      <td>0.99810</td>\n",
       "      <td>3.24</td>\n",
       "      <td>0.65</td>\n",
       "      <td>10.80</td>\n",
       "      <td>6</td>\n",
       "    </tr>\n",
       "    <tr>\n",
       "      <th>1</th>\n",
       "      <td>6.3</td>\n",
       "      <td>0.51</td>\n",
       "      <td>0.13</td>\n",
       "      <td>2.30</td>\n",
       "      <td>0.076</td>\n",
       "      <td>29.0</td>\n",
       "      <td>40.0</td>\n",
       "      <td>0.99574</td>\n",
       "      <td>3.42</td>\n",
       "      <td>0.75</td>\n",
       "      <td>11.00</td>\n",
       "      <td>6</td>\n",
       "    </tr>\n",
       "    <tr>\n",
       "      <th>2</th>\n",
       "      <td>8.5</td>\n",
       "      <td>0.18</td>\n",
       "      <td>0.51</td>\n",
       "      <td>1.75</td>\n",
       "      <td>0.071</td>\n",
       "      <td>45.0</td>\n",
       "      <td>88.0</td>\n",
       "      <td>0.99524</td>\n",
       "      <td>3.33</td>\n",
       "      <td>0.76</td>\n",
       "      <td>11.80</td>\n",
       "      <td>7</td>\n",
       "    </tr>\n",
       "    <tr>\n",
       "      <th>3</th>\n",
       "      <td>7.7</td>\n",
       "      <td>0.18</td>\n",
       "      <td>0.34</td>\n",
       "      <td>2.70</td>\n",
       "      <td>0.066</td>\n",
       "      <td>15.0</td>\n",
       "      <td>58.0</td>\n",
       "      <td>0.99470</td>\n",
       "      <td>3.37</td>\n",
       "      <td>0.78</td>\n",
       "      <td>11.80</td>\n",
       "      <td>6</td>\n",
       "    </tr>\n",
       "    <tr>\n",
       "      <th>4</th>\n",
       "      <td>6.2</td>\n",
       "      <td>0.65</td>\n",
       "      <td>0.06</td>\n",
       "      <td>1.60</td>\n",
       "      <td>0.050</td>\n",
       "      <td>6.0</td>\n",
       "      <td>18.0</td>\n",
       "      <td>0.99348</td>\n",
       "      <td>3.57</td>\n",
       "      <td>0.54</td>\n",
       "      <td>11.95</td>\n",
       "      <td>5</td>\n",
       "    </tr>\n",
       "  </tbody>\n",
       "</table>\n",
       "</div>"
      ],
      "text/plain": [
       "   fixed acidity  volatile acidity  citric acid  residual sugar  chlorides  \\\n",
       "0            9.8              0.44         0.47            2.50      0.063   \n",
       "1            6.3              0.51         0.13            2.30      0.076   \n",
       "2            8.5              0.18         0.51            1.75      0.071   \n",
       "3            7.7              0.18         0.34            2.70      0.066   \n",
       "4            6.2              0.65         0.06            1.60      0.050   \n",
       "\n",
       "   free sulfur dioxide  total sulfur dioxide  density    pH  sulphates  \\\n",
       "0                  9.0                  28.0  0.99810  3.24       0.65   \n",
       "1                 29.0                  40.0  0.99574  3.42       0.75   \n",
       "2                 45.0                  88.0  0.99524  3.33       0.76   \n",
       "3                 15.0                  58.0  0.99470  3.37       0.78   \n",
       "4                  6.0                  18.0  0.99348  3.57       0.54   \n",
       "\n",
       "   alcohol  quality  \n",
       "0    10.80        6  \n",
       "1    11.00        6  \n",
       "2    11.80        7  \n",
       "3    11.80        6  \n",
       "4    11.95        5  "
      ]
     },
     "execution_count": 7,
     "metadata": {},
     "output_type": "execute_result"
    }
   ],
   "source": [
    "red_train.head()"
   ]
  },
  {
   "cell_type": "code",
   "execution_count": 3,
   "id": "65fc9c79",
   "metadata": {},
   "outputs": [],
   "source": [
    "red_train_copy = red_train.copy()\n",
    "red_test_copy = red_test.copy()\n",
    "white_train_copy = white_train.copy()\n",
    "white_test_copy = white_test.copy()\n",
    "red_train_copy['type'] = 'red'\n",
    "red_test_copy['type'] = 'red'\n",
    "white_train_copy['type'] = 'white'\n",
    "white_test_copy['type'] = 'white'"
   ]
  },
  {
   "cell_type": "code",
   "execution_count": 8,
   "id": "79eb8d07",
   "metadata": {},
   "outputs": [
    {
     "data": {
      "text/html": [
       "<div>\n",
       "<style scoped>\n",
       "    .dataframe tbody tr th:only-of-type {\n",
       "        vertical-align: middle;\n",
       "    }\n",
       "\n",
       "    .dataframe tbody tr th {\n",
       "        vertical-align: top;\n",
       "    }\n",
       "\n",
       "    .dataframe thead th {\n",
       "        text-align: right;\n",
       "    }\n",
       "</style>\n",
       "<table border=\"1\" class=\"dataframe\">\n",
       "  <thead>\n",
       "    <tr style=\"text-align: right;\">\n",
       "      <th></th>\n",
       "      <th>fixed acidity</th>\n",
       "      <th>volatile acidity</th>\n",
       "      <th>citric acid</th>\n",
       "      <th>residual sugar</th>\n",
       "      <th>chlorides</th>\n",
       "      <th>free sulfur dioxide</th>\n",
       "      <th>total sulfur dioxide</th>\n",
       "      <th>density</th>\n",
       "      <th>pH</th>\n",
       "      <th>sulphates</th>\n",
       "      <th>alcohol</th>\n",
       "      <th>quality</th>\n",
       "      <th>type</th>\n",
       "    </tr>\n",
       "  </thead>\n",
       "  <tbody>\n",
       "    <tr>\n",
       "      <th>0</th>\n",
       "      <td>9.8</td>\n",
       "      <td>0.44</td>\n",
       "      <td>0.47</td>\n",
       "      <td>2.50</td>\n",
       "      <td>0.063</td>\n",
       "      <td>9.0</td>\n",
       "      <td>28.0</td>\n",
       "      <td>0.99810</td>\n",
       "      <td>3.24</td>\n",
       "      <td>0.65</td>\n",
       "      <td>10.80</td>\n",
       "      <td>6</td>\n",
       "      <td>red</td>\n",
       "    </tr>\n",
       "    <tr>\n",
       "      <th>1</th>\n",
       "      <td>6.3</td>\n",
       "      <td>0.51</td>\n",
       "      <td>0.13</td>\n",
       "      <td>2.30</td>\n",
       "      <td>0.076</td>\n",
       "      <td>29.0</td>\n",
       "      <td>40.0</td>\n",
       "      <td>0.99574</td>\n",
       "      <td>3.42</td>\n",
       "      <td>0.75</td>\n",
       "      <td>11.00</td>\n",
       "      <td>6</td>\n",
       "      <td>red</td>\n",
       "    </tr>\n",
       "    <tr>\n",
       "      <th>2</th>\n",
       "      <td>8.5</td>\n",
       "      <td>0.18</td>\n",
       "      <td>0.51</td>\n",
       "      <td>1.75</td>\n",
       "      <td>0.071</td>\n",
       "      <td>45.0</td>\n",
       "      <td>88.0</td>\n",
       "      <td>0.99524</td>\n",
       "      <td>3.33</td>\n",
       "      <td>0.76</td>\n",
       "      <td>11.80</td>\n",
       "      <td>7</td>\n",
       "      <td>red</td>\n",
       "    </tr>\n",
       "    <tr>\n",
       "      <th>3</th>\n",
       "      <td>7.7</td>\n",
       "      <td>0.18</td>\n",
       "      <td>0.34</td>\n",
       "      <td>2.70</td>\n",
       "      <td>0.066</td>\n",
       "      <td>15.0</td>\n",
       "      <td>58.0</td>\n",
       "      <td>0.99470</td>\n",
       "      <td>3.37</td>\n",
       "      <td>0.78</td>\n",
       "      <td>11.80</td>\n",
       "      <td>6</td>\n",
       "      <td>red</td>\n",
       "    </tr>\n",
       "    <tr>\n",
       "      <th>4</th>\n",
       "      <td>6.2</td>\n",
       "      <td>0.65</td>\n",
       "      <td>0.06</td>\n",
       "      <td>1.60</td>\n",
       "      <td>0.050</td>\n",
       "      <td>6.0</td>\n",
       "      <td>18.0</td>\n",
       "      <td>0.99348</td>\n",
       "      <td>3.57</td>\n",
       "      <td>0.54</td>\n",
       "      <td>11.95</td>\n",
       "      <td>5</td>\n",
       "      <td>red</td>\n",
       "    </tr>\n",
       "  </tbody>\n",
       "</table>\n",
       "</div>"
      ],
      "text/plain": [
       "   fixed acidity  volatile acidity  citric acid  residual sugar  chlorides  \\\n",
       "0            9.8              0.44         0.47            2.50      0.063   \n",
       "1            6.3              0.51         0.13            2.30      0.076   \n",
       "2            8.5              0.18         0.51            1.75      0.071   \n",
       "3            7.7              0.18         0.34            2.70      0.066   \n",
       "4            6.2              0.65         0.06            1.60      0.050   \n",
       "\n",
       "   free sulfur dioxide  total sulfur dioxide  density    pH  sulphates  \\\n",
       "0                  9.0                  28.0  0.99810  3.24       0.65   \n",
       "1                 29.0                  40.0  0.99574  3.42       0.75   \n",
       "2                 45.0                  88.0  0.99524  3.33       0.76   \n",
       "3                 15.0                  58.0  0.99470  3.37       0.78   \n",
       "4                  6.0                  18.0  0.99348  3.57       0.54   \n",
       "\n",
       "   alcohol  quality type  \n",
       "0    10.80        6  red  \n",
       "1    11.00        6  red  \n",
       "2    11.80        7  red  \n",
       "3    11.80        6  red  \n",
       "4    11.95        5  red  "
      ]
     },
     "execution_count": 8,
     "metadata": {},
     "output_type": "execute_result"
    }
   ],
   "source": [
    "red_train_copy.head()"
   ]
  },
  {
   "cell_type": "code",
   "execution_count": 4,
   "id": "f76ae435",
   "metadata": {},
   "outputs": [],
   "source": [
    "combined_train = pd.concat([red_train_copy, white_train_copy], axis = 0)\n",
    "combined_test = pd.concat([red_test_copy, white_test_copy], axis = 0)\n",
    "combined_train = pd.get_dummies(combined_train)\n",
    "combined_test = pd.get_dummies(combined_test)"
   ]
  },
  {
   "cell_type": "code",
   "execution_count": 9,
   "id": "67248864",
   "metadata": {},
   "outputs": [
    {
     "data": {
      "text/html": [
       "<div>\n",
       "<style scoped>\n",
       "    .dataframe tbody tr th:only-of-type {\n",
       "        vertical-align: middle;\n",
       "    }\n",
       "\n",
       "    .dataframe tbody tr th {\n",
       "        vertical-align: top;\n",
       "    }\n",
       "\n",
       "    .dataframe thead th {\n",
       "        text-align: right;\n",
       "    }\n",
       "</style>\n",
       "<table border=\"1\" class=\"dataframe\">\n",
       "  <thead>\n",
       "    <tr style=\"text-align: right;\">\n",
       "      <th></th>\n",
       "      <th>fixed acidity</th>\n",
       "      <th>volatile acidity</th>\n",
       "      <th>citric acid</th>\n",
       "      <th>residual sugar</th>\n",
       "      <th>chlorides</th>\n",
       "      <th>free sulfur dioxide</th>\n",
       "      <th>total sulfur dioxide</th>\n",
       "      <th>density</th>\n",
       "      <th>pH</th>\n",
       "      <th>sulphates</th>\n",
       "      <th>alcohol</th>\n",
       "      <th>quality</th>\n",
       "      <th>type_red</th>\n",
       "      <th>type_white</th>\n",
       "    </tr>\n",
       "  </thead>\n",
       "  <tbody>\n",
       "    <tr>\n",
       "      <th>0</th>\n",
       "      <td>9.8</td>\n",
       "      <td>0.44</td>\n",
       "      <td>0.47</td>\n",
       "      <td>2.50</td>\n",
       "      <td>0.063</td>\n",
       "      <td>9.0</td>\n",
       "      <td>28.0</td>\n",
       "      <td>0.99810</td>\n",
       "      <td>3.24</td>\n",
       "      <td>0.65</td>\n",
       "      <td>10.80</td>\n",
       "      <td>6</td>\n",
       "      <td>1</td>\n",
       "      <td>0</td>\n",
       "    </tr>\n",
       "    <tr>\n",
       "      <th>1</th>\n",
       "      <td>6.3</td>\n",
       "      <td>0.51</td>\n",
       "      <td>0.13</td>\n",
       "      <td>2.30</td>\n",
       "      <td>0.076</td>\n",
       "      <td>29.0</td>\n",
       "      <td>40.0</td>\n",
       "      <td>0.99574</td>\n",
       "      <td>3.42</td>\n",
       "      <td>0.75</td>\n",
       "      <td>11.00</td>\n",
       "      <td>6</td>\n",
       "      <td>1</td>\n",
       "      <td>0</td>\n",
       "    </tr>\n",
       "    <tr>\n",
       "      <th>2</th>\n",
       "      <td>8.5</td>\n",
       "      <td>0.18</td>\n",
       "      <td>0.51</td>\n",
       "      <td>1.75</td>\n",
       "      <td>0.071</td>\n",
       "      <td>45.0</td>\n",
       "      <td>88.0</td>\n",
       "      <td>0.99524</td>\n",
       "      <td>3.33</td>\n",
       "      <td>0.76</td>\n",
       "      <td>11.80</td>\n",
       "      <td>7</td>\n",
       "      <td>1</td>\n",
       "      <td>0</td>\n",
       "    </tr>\n",
       "    <tr>\n",
       "      <th>3</th>\n",
       "      <td>7.7</td>\n",
       "      <td>0.18</td>\n",
       "      <td>0.34</td>\n",
       "      <td>2.70</td>\n",
       "      <td>0.066</td>\n",
       "      <td>15.0</td>\n",
       "      <td>58.0</td>\n",
       "      <td>0.99470</td>\n",
       "      <td>3.37</td>\n",
       "      <td>0.78</td>\n",
       "      <td>11.80</td>\n",
       "      <td>6</td>\n",
       "      <td>1</td>\n",
       "      <td>0</td>\n",
       "    </tr>\n",
       "    <tr>\n",
       "      <th>4</th>\n",
       "      <td>6.2</td>\n",
       "      <td>0.65</td>\n",
       "      <td>0.06</td>\n",
       "      <td>1.60</td>\n",
       "      <td>0.050</td>\n",
       "      <td>6.0</td>\n",
       "      <td>18.0</td>\n",
       "      <td>0.99348</td>\n",
       "      <td>3.57</td>\n",
       "      <td>0.54</td>\n",
       "      <td>11.95</td>\n",
       "      <td>5</td>\n",
       "      <td>1</td>\n",
       "      <td>0</td>\n",
       "    </tr>\n",
       "  </tbody>\n",
       "</table>\n",
       "</div>"
      ],
      "text/plain": [
       "   fixed acidity  volatile acidity  citric acid  residual sugar  chlorides  \\\n",
       "0            9.8              0.44         0.47            2.50      0.063   \n",
       "1            6.3              0.51         0.13            2.30      0.076   \n",
       "2            8.5              0.18         0.51            1.75      0.071   \n",
       "3            7.7              0.18         0.34            2.70      0.066   \n",
       "4            6.2              0.65         0.06            1.60      0.050   \n",
       "\n",
       "   free sulfur dioxide  total sulfur dioxide  density    pH  sulphates  \\\n",
       "0                  9.0                  28.0  0.99810  3.24       0.65   \n",
       "1                 29.0                  40.0  0.99574  3.42       0.75   \n",
       "2                 45.0                  88.0  0.99524  3.33       0.76   \n",
       "3                 15.0                  58.0  0.99470  3.37       0.78   \n",
       "4                  6.0                  18.0  0.99348  3.57       0.54   \n",
       "\n",
       "   alcohol  quality  type_red  type_white  \n",
       "0    10.80        6         1           0  \n",
       "1    11.00        6         1           0  \n",
       "2    11.80        7         1           0  \n",
       "3    11.80        6         1           0  \n",
       "4    11.95        5         1           0  "
      ]
     },
     "execution_count": 9,
     "metadata": {},
     "output_type": "execute_result"
    }
   ],
   "source": [
    "combined_train.head()"
   ]
  },
  {
   "cell_type": "code",
   "execution_count": 10,
   "id": "e8c43c7d",
   "metadata": {},
   "outputs": [],
   "source": [
    "red_train_x = red_train.drop('quality', axis = 1)\n",
    "red_train_y = red_train['quality']\n",
    "red_test_x = red_test.drop('quality', axis = 1)\n",
    "red_test_y = red_test['quality']\n",
    "white_train_x = white_train.drop('quality', axis = 1)\n",
    "white_train_y = white_train['quality']\n",
    "white_test_x = white_test.drop('quality', axis = 1)\n",
    "white_test_y = white_test['quality']\n",
    "combined_train_x = combined_train.drop('quality', axis = 1)\n",
    "combined_train_y = combined_train['quality']\n",
    "combined_test_x = combined_test.drop('quality', axis = 1)\n",
    "combined_test_y = combined_test['quality']"
   ]
  },
  {
   "cell_type": "markdown",
   "id": "21f814b5",
   "metadata": {},
   "source": [
    "# Create Base XGBoost Models"
   ]
  },
  {
   "cell_type": "markdown",
   "id": "653e18d2",
   "metadata": {},
   "source": [
    "## Red Model"
   ]
  },
  {
   "cell_type": "code",
   "execution_count": 62,
   "id": "74598bc1",
   "metadata": {},
   "outputs": [
    {
     "name": "stdout",
     "output_type": "stream",
     "text": [
      "MAE for red base model:  0.35\n"
     ]
    }
   ],
   "source": [
    "red_model = xgb.XGBRegressor().fit(red_train_x, red_train_y)\n",
    "mae = mean_absolute_error(red_test_y, np.around(red_model.predict(red_test_x)))\n",
    "print('MAE for red base model: ', mae)"
   ]
  },
  {
   "cell_type": "code",
   "execution_count": 56,
   "id": "2eedbc23",
   "metadata": {},
   "outputs": [
    {
     "data": {
      "text/plain": [
       "0.6324555320336759"
      ]
     },
     "execution_count": 56,
     "metadata": {},
     "output_type": "execute_result"
    }
   ],
   "source": [
    "np.sqrt(mean_squared_error(red_test_y, np.around(red_model.predict(red_test_x))))"
   ]
  },
  {
   "cell_type": "markdown",
   "id": "08c114a8",
   "metadata": {},
   "source": [
    "## White Model"
   ]
  },
  {
   "cell_type": "code",
   "execution_count": 63,
   "id": "64795fc0",
   "metadata": {},
   "outputs": [
    {
     "name": "stdout",
     "output_type": "stream",
     "text": [
      "MAE for white base model:  0.39346938775510204\n"
     ]
    }
   ],
   "source": [
    "white_model = xgb.XGBRegressor().fit(white_train_x, white_train_y)\n",
    "mae = mean_absolute_error(white_test_y, np.around(white_model.predict(white_test_x)))\n",
    "print('MAE for white base model: ', mae)"
   ]
  },
  {
   "cell_type": "code",
   "execution_count": 57,
   "id": "4feef0f2",
   "metadata": {},
   "outputs": [
    {
     "data": {
      "text/plain": [
       "0.7021831844254004"
      ]
     },
     "execution_count": 57,
     "metadata": {},
     "output_type": "execute_result"
    }
   ],
   "source": [
    "np.sqrt(mean_squared_error(white_test_y, np.around(white_model.predict(white_test_x))))"
   ]
  },
  {
   "cell_type": "markdown",
   "id": "29e027c9",
   "metadata": {},
   "source": [
    "## Combined Model"
   ]
  },
  {
   "cell_type": "code",
   "execution_count": 64,
   "id": "32e417c3",
   "metadata": {},
   "outputs": [
    {
     "name": "stdout",
     "output_type": "stream",
     "text": [
      "MAE for combined base model:  0.40184615384615385\n"
     ]
    }
   ],
   "source": [
    "combined_model = xgb.XGBRegressor().fit(combined_train_x, combined_train_y)\n",
    "mae = mean_absolute_error(combined_test_y, np.around(combined_model.predict(combined_test_x)))\n",
    "print('MAE for combined base model: ', mae)"
   ]
  },
  {
   "cell_type": "code",
   "execution_count": 58,
   "id": "321ecdb7",
   "metadata": {},
   "outputs": [
    {
     "data": {
      "text/plain": [
       "0.7003295927358335"
      ]
     },
     "execution_count": 58,
     "metadata": {},
     "output_type": "execute_result"
    }
   ],
   "source": [
    "np.sqrt(mean_squared_error(combined_test_y, np.around(combined_model.predict(combined_test_x))))"
   ]
  },
  {
   "cell_type": "markdown",
   "id": "5b493165",
   "metadata": {},
   "source": [
    "# Tuning Models"
   ]
  },
  {
   "cell_type": "markdown",
   "id": "666db432",
   "metadata": {},
   "source": [
    "## Red Model"
   ]
  },
  {
   "cell_type": "code",
   "execution_count": 19,
   "id": "9af2a64d",
   "metadata": {},
   "outputs": [
    {
     "name": "stdout",
     "output_type": "stream",
     "text": [
      "Fitting 5 folds for each of 200 candidates, totalling 1000 fits\n"
     ]
    },
    {
     "name": "stderr",
     "output_type": "stream",
     "text": [
      "/Users/keatonolds/opt/anaconda3/lib/python3.9/site-packages/joblib/externals/loky/process_executor.py:702: UserWarning: A worker stopped while some jobs were given to the executor. This can be caused by a too short worker timeout or by a memory leak.\n",
      "  warnings.warn(\n"
     ]
    },
    {
     "name": "stdout",
     "output_type": "stream",
     "text": [
      "Best: 0.649099 using {'subsample': 0.5, 'reg_lambda': 0, 'n_estimators': 1000, 'max_depth': 14, 'learning_rate': 0.01, 'gamma': 0}\n",
      "Time taken =  1.4288663029670716  minutes\n"
     ]
    }
   ],
   "source": [
    "start_time = time.time()\n",
    "param_grid = {'max_depth': [2, 8, 14],\n",
    "              'n_estimators': [50, 100, 500, 1000],\n",
    "              'learning_rate': [0.001, 0.01, 0.1],\n",
    "              'subsample': [0.5, 0.75, 1],\n",
    "              'reg_lambda':[0, 1, 10],\n",
    "              'gamma': [0, 10]}\n",
    "\n",
    "cv = KFold(n_splits=5,shuffle=True,random_state=1)\n",
    "grid_search = RandomizedSearchCV(estimator=xgb.XGBRegressor(random_state=1, subsample = 0.5),                                                       \n",
    "                             param_distributions = param_grid,\n",
    "                                 n_iter = 200,\n",
    "                             verbose = 1,\n",
    "                             n_jobs=-1,\n",
    "                             cv = cv,\n",
    "                          scoring = 'neg_mean_absolute_error')\n",
    "grid_result = grid_search.fit(red_train_x, red_train_y)\n",
    "\n",
    "print(\"Best: %f using %s\" % (np.sqrt(-grid_result.best_score_), grid_result.best_params_))\n",
    "print(\"Time taken = \",(time.time()-start_time)/60,\" minutes\")"
   ]
  },
  {
   "cell_type": "code",
   "execution_count": 21,
   "id": "3f884ccc",
   "metadata": {},
   "outputs": [
    {
     "name": "stdout",
     "output_type": "stream",
     "text": [
      "Fitting 2 folds for each of 486 candidates, totalling 972 fits\n",
      "Best: 0.673798 using {'gamma': 0, 'learning_rate': 0.01, 'max_depth': 14, 'n_estimators': 3000, 'reg_lambda': 0.1, 'subsample': 0.5}\n",
      "Time taken =  7.955299270153046  minutes\n"
     ]
    }
   ],
   "source": [
    "start_time = time.time()\n",
    "param_grid = {'max_depth': [12, 14, 16],\n",
    "              'n_estimators': [1000, 2000, 3000],\n",
    "              'learning_rate': [0.01, 0.025, 0.05],\n",
    "              'subsample': [0.2, 0.35, 0.5],\n",
    "              'reg_lambda':[0, 0.1, 0.2],\n",
    "              'gamma': [0, 1]}\n",
    "\n",
    "cv = KFold(n_splits=2,shuffle=True,random_state=1)\n",
    "grid_search = GridSearchCV(estimator=xgb.XGBRegressor(random_state=1, subsample = 0.5),                                                       \n",
    "                             param_grid = param_grid,\n",
    "                             verbose = 1,\n",
    "                             n_jobs=-1,\n",
    "                             cv = cv,\n",
    "                          scoring = 'neg_mean_absolute_error')\n",
    "grid_result = grid_search.fit(red_train_x, red_train_y)\n",
    "\n",
    "print(\"Best: %f using %s\" % (np.sqrt(-grid_result.best_score_), grid_result.best_params_))\n",
    "print(\"Time taken = \",(time.time()-start_time)/60,\" minutes\")"
   ]
  },
  {
   "cell_type": "code",
   "execution_count": 22,
   "id": "f4048f1b",
   "metadata": {},
   "outputs": [
    {
     "name": "stdout",
     "output_type": "stream",
     "text": [
      "Fitting 2 folds for each of 9 candidates, totalling 18 fits\n",
      "Best: 0.673797 using {'gamma': 0, 'learning_rate': 0.01, 'max_depth': 14, 'n_estimators': 4000, 'reg_lambda': 0.1, 'subsample': 0.5}\n",
      "Time taken =  0.6000357151031495  minutes\n"
     ]
    }
   ],
   "source": [
    "start_time = time.time()\n",
    "param_grid = {'max_depth': [14],\n",
    "              'n_estimators': [3000, 3500, 4000],\n",
    "              'learning_rate': [0.01],\n",
    "              'subsample': [0.5],\n",
    "              'reg_lambda':[0.1],\n",
    "              'gamma': [0, 0.1, 0.5]}\n",
    "\n",
    "cv = KFold(n_splits=2,shuffle=True,random_state=1)\n",
    "grid_search = GridSearchCV(estimator=xgb.XGBRegressor(random_state=1, subsample = 0.5),                                                       \n",
    "                             param_grid = param_grid,\n",
    "                             verbose = 1,\n",
    "                             n_jobs=-1,\n",
    "                             cv = cv,\n",
    "                          scoring = 'neg_mean_absolute_error')\n",
    "grid_result = grid_search.fit(red_train_x, red_train_y)\n",
    "\n",
    "print(\"Best: %f using %s\" % (np.sqrt(-grid_result.best_score_), grid_result.best_params_))\n",
    "print(\"Time taken = \",(time.time()-start_time)/60,\" minutes\")"
   ]
  },
  {
   "cell_type": "code",
   "execution_count": 61,
   "id": "33006402",
   "metadata": {},
   "outputs": [
    {
     "name": "stdout",
     "output_type": "stream",
     "text": [
      "MAE for red tuned model:  0.3175\n"
     ]
    }
   ],
   "source": [
    "red_model_tuned = xgb.XGBRegressor(random_state = 1, gamma = 0, learning_rate = 0.01, max_depth = 14, n_estimators = 4000,\n",
    "                                  reg_lambda = 0.1, subsample = 0.5).fit(red_train_x, red_train_y)\n",
    "mae = mean_absolute_error(red_test_y, np.around(red_model_tuned.predict(red_test_x)))\n",
    "print('MAE for red tuned model: ', mae)"
   ]
  },
  {
   "cell_type": "code",
   "execution_count": 55,
   "id": "a429a81e",
   "metadata": {},
   "outputs": [
    {
     "data": {
      "text/plain": [
       "0.5894913061275798"
      ]
     },
     "execution_count": 55,
     "metadata": {},
     "output_type": "execute_result"
    }
   ],
   "source": [
    "np.sqrt(mean_squared_error(red_test_y, np.around(red_model_tuned.predict(red_test_x))))"
   ]
  },
  {
   "cell_type": "markdown",
   "id": "3a2c0b9a",
   "metadata": {},
   "source": [
    "## White Model"
   ]
  },
  {
   "cell_type": "code",
   "execution_count": 33,
   "id": "f4a9ba43",
   "metadata": {},
   "outputs": [
    {
     "name": "stdout",
     "output_type": "stream",
     "text": [
      "Fitting 5 folds for each of 200 candidates, totalling 1000 fits\n"
     ]
    },
    {
     "name": "stderr",
     "output_type": "stream",
     "text": [
      "/Users/keatonolds/opt/anaconda3/lib/python3.9/site-packages/joblib/externals/loky/process_executor.py:702: UserWarning: A worker stopped while some jobs were given to the executor. This can be caused by a too short worker timeout or by a memory leak.\n",
      "  warnings.warn(\n"
     ]
    },
    {
     "name": "stdout",
     "output_type": "stream",
     "text": [
      "Best: 0.644747 using {'subsample': 0.75, 'reg_lambda': 0, 'n_estimators': 1000, 'max_depth': 14, 'learning_rate': 0.01, 'gamma': 0}\n",
      "Time taken =  5.387266755104065  minutes\n"
     ]
    }
   ],
   "source": [
    "start_time = time.time()\n",
    "param_grid = {'max_depth': [2, 8, 14],\n",
    "              'n_estimators': [50, 100, 500, 1000],\n",
    "              'learning_rate': [0.001, 0.01, 0.1],\n",
    "              'subsample': [0.5, 0.75, 1],\n",
    "              'reg_lambda':[0, 1, 10],\n",
    "              'gamma': [0, 10]}\n",
    "\n",
    "cv = KFold(n_splits=5,shuffle=True,random_state=1)\n",
    "grid_search = RandomizedSearchCV(estimator=xgb.XGBRegressor(random_state=1, subsample = 0.5),                                                       \n",
    "                             param_distributions = param_grid,\n",
    "                                 n_iter = 200,\n",
    "                             verbose = 1,\n",
    "                             n_jobs=-1,\n",
    "                             cv = cv,\n",
    "                          scoring = 'neg_mean_absolute_error')\n",
    "grid_result = grid_search.fit(white_train_x, white_train_y)\n",
    "\n",
    "print(\"Best: %f using %s\" % (np.sqrt(-grid_result.best_score_), grid_result.best_params_))\n",
    "print(\"Time taken = \",(time.time()-start_time)/60,\" minutes\")"
   ]
  },
  {
   "cell_type": "code",
   "execution_count": 34,
   "id": "8388547d",
   "metadata": {},
   "outputs": [
    {
     "name": "stdout",
     "output_type": "stream",
     "text": [
      "Fitting 2 folds for each of 162 candidates, totalling 324 fits\n",
      "Best: 0.683244 using {'gamma': 0, 'learning_rate': 0.01, 'max_depth': 16, 'n_estimators': 3000, 'reg_lambda': 0.1, 'subsample': 0.75}\n",
      "Time taken =  9.353732399145763  minutes\n"
     ]
    }
   ],
   "source": [
    "start_time = time.time()\n",
    "param_grid = {'max_depth': [14, 16, 18],\n",
    "              'n_estimators': [1000, 2000, 3000],\n",
    "              'learning_rate': [0.01, 0.025, 0.05],\n",
    "              'subsample': [0.75],\n",
    "              'reg_lambda':[0, 0.1, 0.2],\n",
    "              'gamma': [0, 1]}\n",
    "\n",
    "cv = KFold(n_splits=2,shuffle=True,random_state=1)\n",
    "grid_search = GridSearchCV(estimator=xgb.XGBRegressor(random_state=1, subsample = 0.5),                                                       \n",
    "                             param_grid = param_grid,\n",
    "                             verbose = 1,\n",
    "                             n_jobs=-1,\n",
    "                             cv = cv,\n",
    "                          scoring = 'neg_mean_absolute_error')\n",
    "grid_result = grid_search.fit(white_train_x, white_train_y)\n",
    "\n",
    "print(\"Best: %f using %s\" % (np.sqrt(-grid_result.best_score_), grid_result.best_params_))\n",
    "print(\"Time taken = \",(time.time()-start_time)/60,\" minutes\")"
   ]
  },
  {
   "cell_type": "code",
   "execution_count": 60,
   "id": "d2ac4e5e",
   "metadata": {},
   "outputs": [
    {
     "name": "stdout",
     "output_type": "stream",
     "text": [
      "MAE for white tuned model:  0.3551020408163265\n"
     ]
    }
   ],
   "source": [
    "white_model_tuned = xgb.XGBRegressor(random_state = 1, gamma = 0, learning_rate = 0.01, max_depth = 16, n_estimators = 3000,\n",
    "                                  reg_lambda = 0.1, subsample = 0.75).fit(white_train_x, white_train_y)\n",
    "mae = mean_absolute_error(white_test_y, np.around(white_model_tuned.predict(white_test_x)))\n",
    "print('MAE for white tuned model: ', mae)"
   ]
  },
  {
   "cell_type": "code",
   "execution_count": 54,
   "id": "55c17f16",
   "metadata": {},
   "outputs": [
    {
     "data": {
      "text/plain": [
       "0.6571428571428571"
      ]
     },
     "execution_count": 54,
     "metadata": {},
     "output_type": "execute_result"
    }
   ],
   "source": [
    "np.sqrt(mean_squared_error(white_test_y, np.around(white_model_tuned.predict(white_test_x))))"
   ]
  },
  {
   "cell_type": "markdown",
   "id": "97978058",
   "metadata": {},
   "source": [
    "## Combined Model"
   ]
  },
  {
   "cell_type": "code",
   "execution_count": 43,
   "id": "ad1ba35a",
   "metadata": {},
   "outputs": [
    {
     "name": "stdout",
     "output_type": "stream",
     "text": [
      "Fitting 5 folds for each of 200 candidates, totalling 1000 fits\n"
     ]
    },
    {
     "name": "stderr",
     "output_type": "stream",
     "text": [
      "/Users/keatonolds/opt/anaconda3/lib/python3.9/site-packages/joblib/externals/loky/process_executor.py:702: UserWarning: A worker stopped while some jobs were given to the executor. This can be caused by a too short worker timeout or by a memory leak.\n",
      "  warnings.warn(\n"
     ]
    },
    {
     "name": "stdout",
     "output_type": "stream",
     "text": [
      "Best: 0.646128 using {'subsample': 0.75, 'reg_lambda': 0, 'n_estimators': 1000, 'max_depth': 14, 'learning_rate': 0.01, 'gamma': 0}\n",
      "Time taken =  7.204989167054494  minutes\n"
     ]
    }
   ],
   "source": [
    "start_time = time.time()\n",
    "param_grid = {'max_depth': [2, 8, 14],\n",
    "              'n_estimators': [50, 100, 500, 1000],\n",
    "              'learning_rate': [0.001, 0.01, 0.1],\n",
    "              'subsample': [0.5, 0.75, 1],\n",
    "              'reg_lambda':[0, 1, 10],\n",
    "              'gamma': [0, 10]}\n",
    "\n",
    "cv = KFold(n_splits=5,shuffle=True,random_state=1)\n",
    "grid_search = RandomizedSearchCV(estimator=xgb.XGBRegressor(random_state=1, subsample = 0.5),                                                       \n",
    "                             param_distributions = param_grid,\n",
    "                                 n_iter = 200,\n",
    "                             verbose = 1,\n",
    "                             n_jobs=-1,\n",
    "                             cv = cv,\n",
    "                          scoring = 'neg_mean_absolute_error')\n",
    "grid_result = grid_search.fit(combined_train_x, combined_train_y)\n",
    "\n",
    "print(\"Best: %f using %s\" % (np.sqrt(-grid_result.best_score_), grid_result.best_params_))\n",
    "print(\"Time taken = \",(time.time()-start_time)/60,\" minutes\")"
   ]
  },
  {
   "cell_type": "code",
   "execution_count": 46,
   "id": "a00f242d",
   "metadata": {},
   "outputs": [
    {
     "name": "stdout",
     "output_type": "stream",
     "text": [
      "Fitting 2 folds for each of 162 candidates, totalling 324 fits\n"
     ]
    },
    {
     "name": "stderr",
     "output_type": "stream",
     "text": [
      "/Users/keatonolds/opt/anaconda3/lib/python3.9/site-packages/joblib/externals/loky/process_executor.py:702: UserWarning: A worker stopped while some jobs were given to the executor. This can be caused by a too short worker timeout or by a memory leak.\n",
      "  warnings.warn(\n"
     ]
    },
    {
     "name": "stdout",
     "output_type": "stream",
     "text": [
      "Best: 0.677211 using {'gamma': 0, 'learning_rate': 0.01, 'max_depth': 16, 'n_estimators': 3000, 'reg_lambda': 0.2, 'subsample': 0.75}\n",
      "Time taken =  11.891242869695027  minutes\n"
     ]
    }
   ],
   "source": [
    "start_time = time.time()\n",
    "param_grid = {'max_depth': [12, 14, 16],\n",
    "              'n_estimators': [1000, 2000, 3000],\n",
    "              'learning_rate': [0.01, 0.025, 0.05],\n",
    "              'subsample': [0.75],\n",
    "              'reg_lambda':[0, 0.1, 0.2],\n",
    "              'gamma': [0, 1]}\n",
    "\n",
    "cv = KFold(n_splits=2,shuffle=True,random_state=1)\n",
    "grid_search = GridSearchCV(estimator=xgb.XGBRegressor(random_state=1, subsample = 0.5),                                                       \n",
    "                             param_grid = param_grid,\n",
    "                             verbose = 1,\n",
    "                             n_jobs=-1,\n",
    "                             cv = cv,\n",
    "                          scoring = 'neg_mean_absolute_error')\n",
    "grid_result = grid_search.fit(combined_train_x, combined_train_y)\n",
    "\n",
    "print(\"Best: %f using %s\" % (np.sqrt(-grid_result.best_score_), grid_result.best_params_))\n",
    "print(\"Time taken = \",(time.time()-start_time)/60,\" minutes\")"
   ]
  },
  {
   "cell_type": "code",
   "execution_count": 47,
   "id": "f37d6729",
   "metadata": {},
   "outputs": [
    {
     "name": "stdout",
     "output_type": "stream",
     "text": [
      "Fitting 2 folds for each of 18 candidates, totalling 36 fits\n",
      "Best: 0.676535 using {'gamma': 0, 'learning_rate': 0.01, 'max_depth': 16, 'n_estimators': 4000, 'reg_lambda': 0.3, 'subsample': 0.75}\n",
      "Time taken =  2.294661017258962  minutes\n"
     ]
    }
   ],
   "source": [
    "start_time = time.time()\n",
    "param_grid = {'max_depth': [16, 17, 18],\n",
    "              'n_estimators': [3000, 4000],\n",
    "              'learning_rate': [0.01],\n",
    "              'subsample': [0.75],\n",
    "              'reg_lambda':[0.2, 0.3, 0.4],\n",
    "              'gamma': [0]}\n",
    "\n",
    "cv = KFold(n_splits=2,shuffle=True,random_state=1)\n",
    "grid_search = GridSearchCV(estimator=xgb.XGBRegressor(random_state=1, subsample = 0.5),                                                       \n",
    "                             param_grid = param_grid,\n",
    "                             verbose = 1,\n",
    "                             n_jobs=-1,\n",
    "                             cv = cv,\n",
    "                          scoring = 'neg_mean_absolute_error')\n",
    "grid_result = grid_search.fit(combined_train_x, combined_train_y)\n",
    "\n",
    "print(\"Best: %f using %s\" % (np.sqrt(-grid_result.best_score_), grid_result.best_params_))\n",
    "print(\"Time taken = \",(time.time()-start_time)/60,\" minutes\")"
   ]
  },
  {
   "cell_type": "code",
   "execution_count": 59,
   "id": "a1d0c6f0",
   "metadata": {},
   "outputs": [
    {
     "name": "stdout",
     "output_type": "stream",
     "text": [
      "MAE for combined tuned model:  0.35507692307692307\n"
     ]
    }
   ],
   "source": [
    "combined_model_tuned = xgb.XGBRegressor(random_state = 1, gamma = 0, learning_rate = 0.01, max_depth = 16, n_estimators = 4000,\n",
    "                                  reg_lambda = 0.3, subsample = 0.75).fit(combined_train_x, combined_train_y)\n",
    "mae = mean_absolute_error(combined_test_y, np.around(combined_model_tuned.predict(combined_test_x)))\n",
    "print('MAE for combined tuned model: ', mae)"
   ]
  },
  {
   "cell_type": "code",
   "execution_count": 53,
   "id": "b20a8497",
   "metadata": {},
   "outputs": [
    {
     "data": {
      "text/plain": [
       "0.6596036105699566"
      ]
     },
     "execution_count": 53,
     "metadata": {},
     "output_type": "execute_result"
    }
   ],
   "source": [
    "np.sqrt(mean_squared_error(combined_test_y, np.around(combined_model_tuned.predict(combined_test_x))))"
   ]
  },
  {
   "cell_type": "markdown",
   "id": "b90bb353",
   "metadata": {},
   "source": [
    "# Summary"
   ]
  },
  {
   "cell_type": "markdown",
   "id": "da45c58c",
   "metadata": {},
   "source": [
    "## Red Wine"
   ]
  },
  {
   "cell_type": "markdown",
   "id": "65b80b79",
   "metadata": {},
   "source": [
    "Base model MAE: 0.3855"
   ]
  },
  {
   "cell_type": "markdown",
   "id": "6f66c712",
   "metadata": {},
   "source": [
    "Tuned model MAE: 0.3782"
   ]
  },
  {
   "cell_type": "markdown",
   "id": "a3ae2255",
   "metadata": {},
   "source": [
    "Improvement: 0.0073 (0.02%)"
   ]
  },
  {
   "cell_type": "markdown",
   "id": "7211f730",
   "metadata": {},
   "source": [
    "## White Wine"
   ]
  },
  {
   "cell_type": "markdown",
   "id": "d378f3f1",
   "metadata": {},
   "source": [
    "Base model MAE:  0.4716"
   ]
  },
  {
   "cell_type": "markdown",
   "id": "04c7845b",
   "metadata": {},
   "source": [
    "Tuned model MAE: 0.4023"
   ]
  },
  {
   "cell_type": "markdown",
   "id": "6e99ecc6",
   "metadata": {},
   "source": [
    "Improvement: 0.0693 (14.69%)"
   ]
  },
  {
   "cell_type": "markdown",
   "id": "a59db7aa",
   "metadata": {},
   "source": [
    "## Combined Wines"
   ]
  },
  {
   "cell_type": "markdown",
   "id": "f80a0b57",
   "metadata": {},
   "source": [
    "Base model MAE: 0.4752"
   ]
  },
  {
   "cell_type": "markdown",
   "id": "4229cc32",
   "metadata": {},
   "source": [
    "Tuned model MAE: 0.3941"
   ]
  },
  {
   "cell_type": "markdown",
   "id": "02840b7d",
   "metadata": {},
   "source": [
    "Improvement: 0.0711 (14.96%)"
   ]
  }
 ],
 "metadata": {
  "kernelspec": {
   "display_name": "Python 3 (ipykernel)",
   "language": "python",
   "name": "python3"
  },
  "language_info": {
   "codemirror_mode": {
    "name": "ipython",
    "version": 3
   },
   "file_extension": ".py",
   "mimetype": "text/x-python",
   "name": "python",
   "nbconvert_exporter": "python",
   "pygments_lexer": "ipython3",
   "version": "3.9.12"
  }
 },
 "nbformat": 4,
 "nbformat_minor": 5
}
