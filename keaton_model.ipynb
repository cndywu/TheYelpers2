{
 "cells": [
  {
   "cell_type": "code",
   "execution_count": 2,
   "id": "32ac3cf6",
   "metadata": {},
   "outputs": [],
   "source": [
    "import pandas as pd\n",
    "import numpy as np\n",
    "import seaborn as sns\n",
    "import matplotlib.pyplot as plt\n",
    "from sklearn.metrics import mean_squared_error, mean_absolute_error\n",
    "from sklearn.model_selection import cross_val_score,train_test_split, KFold, cross_val_predict\n",
    "from sklearn.metrics import mean_squared_error,r2_score,roc_curve,auc,precision_recall_curve, accuracy_score, \\\n",
    "recall_score, precision_score, confusion_matrix\n",
    "from sklearn.tree import DecisionTreeRegressor,DecisionTreeClassifier\n",
    "from sklearn.model_selection import GridSearchCV, ParameterGrid, StratifiedKFold, RandomizedSearchCV\n",
    "from sklearn.ensemble import GradientBoostingRegressor,GradientBoostingClassifier, BaggingRegressor,BaggingClassifier,RandomForestRegressor,RandomForestClassifier,AdaBoostRegressor,AdaBoostClassifier\n",
    "from sklearn.linear_model import LinearRegression,LogisticRegression\n",
    "from sklearn.neighbors import KNeighborsRegressor\n",
    "import itertools as it\n",
    "import time as time\n",
    "import xgboost as xgb\n",
    "from pyearth import Earth"
   ]
  },
  {
   "cell_type": "markdown",
   "id": "77e03f03",
   "metadata": {},
   "source": [
    "# Load and Prepare Data"
   ]
  },
  {
   "cell_type": "code",
   "execution_count": 3,
   "id": "20e788df",
   "metadata": {},
   "outputs": [],
   "source": [
    "red_train_x = pd.read_csv('red_train_x.csv')\n",
    "white_train_x = pd.read_csv('white_train_x.csv')\n",
    "red_train_y = pd.read_csv('red_train_y.csv')\n",
    "white_train_y = pd.read_csv('white_train_y.csv')\n",
    "red_test_x = pd.read_csv('red_test_x.csv')\n",
    "white_test_x = pd.read_csv('white_test_x.csv')\n",
    "red_test_y = pd.read_csv('red_test_y.csv')\n",
    "white_test_y = pd.read_csv('white_test_y.csv')\n",
    "combined_train_x = pd.read_csv(\"combined_train_x\")\n",
    "combined_train_y = pd.read_csv(\"combined_train_y\")\n",
    "combined_test_x = pd.read_csv(\"combined_test_x\")\n",
    "combined_test_y = pd.read_csv(\"combined_test_y\")"
   ]
  },
  {
   "cell_type": "markdown",
   "id": "0c41c629",
   "metadata": {},
   "source": [
    "# Create Base XGBoost Models"
   ]
  },
  {
   "cell_type": "markdown",
   "id": "7a0b088e",
   "metadata": {},
   "source": [
    "## Red Model"
   ]
  },
  {
   "cell_type": "code",
   "execution_count": 183,
   "id": "0c82b399",
   "metadata": {},
   "outputs": [
    {
     "name": "stdout",
     "output_type": "stream",
     "text": [
      "RMSE for red base model:  0.7053367989832943\n",
      "MAE for red base model:  0.4225\n"
     ]
    }
   ],
   "source": [
    "red_model = xgb.XGBRegressor().fit(red_train_x, red_train_y)\n",
    "mae = mean_absolute_error(red_test_y, np.around(red_model.predict(red_test_x)))\n",
    "rmse = np.sqrt(mean_squared_error(red_test_y, np.around(red_model.predict(red_test_x))))\n",
    "print('RMSE for red base model: ', rmse)\n",
    "print('MAE for red base model: ', mae)"
   ]
  },
  {
   "cell_type": "markdown",
   "id": "12262a46",
   "metadata": {},
   "source": [
    "## White Model"
   ]
  },
  {
   "cell_type": "code",
   "execution_count": 184,
   "id": "3df5b580",
   "metadata": {},
   "outputs": [
    {
     "name": "stdout",
     "output_type": "stream",
     "text": [
      "RMSE for white base model:  0.6737043498600912\n",
      "MAE for white base model:  0.37551020408163266\n"
     ]
    }
   ],
   "source": [
    "white_model = xgb.XGBRegressor().fit(white_train_x, white_train_y)\n",
    "mae = mean_absolute_error(white_test_y, np.around(white_model.predict(white_test_x)))\n",
    "rmse = np.sqrt(mean_squared_error(white_test_y, np.around(white_model.predict(white_test_x))))\n",
    "print('RMSE for white base model: ', rmse)\n",
    "print('MAE for white base model: ', mae)"
   ]
  },
  {
   "cell_type": "markdown",
   "id": "add825c3",
   "metadata": {},
   "source": [
    "## Combined Model"
   ]
  },
  {
   "cell_type": "code",
   "execution_count": 185,
   "id": "0c5316b2",
   "metadata": {},
   "outputs": [
    {
     "name": "stdout",
     "output_type": "stream",
     "text": [
      "RMSE for combined base model:  0.689704507519204\n",
      "MAE for combined base model:  0.3944615384615385\n"
     ]
    }
   ],
   "source": [
    "combined_model = xgb.XGBRegressor().fit(combined_train_x, combined_train_y)\n",
    "mae = mean_absolute_error(combined_test_y, np.around(combined_model.predict(combined_test_x)))\n",
    "rmse = np.sqrt(mean_squared_error(combined_test_y, np.around(combined_model.predict(combined_test_x))))\n",
    "print('RMSE for combined base model: ', rmse)\n",
    "print('MAE for combined base model: ', mae)"
   ]
  },
  {
   "cell_type": "markdown",
   "id": "fe4db0fe",
   "metadata": {},
   "source": [
    "# Tuning Models"
   ]
  },
  {
   "cell_type": "markdown",
   "id": "69cf81d2",
   "metadata": {},
   "source": [
    "## Red Model"
   ]
  },
  {
   "cell_type": "code",
   "execution_count": 149,
   "id": "e0728e67",
   "metadata": {},
   "outputs": [
    {
     "name": "stdout",
     "output_type": "stream",
     "text": [
      "Fitting 5 folds for each of 200 candidates, totalling 1000 fits\n",
      "Best: 0.578070 using {'subsample': 1, 'reg_lambda': 0, 'n_estimators': 1000, 'max_depth': 8, 'learning_rate': 0.05, 'gamma': 0, 'colsample_bytree': 0.5}\n",
      "Time taken =  1.7860136349995932  minutes\n"
     ]
    }
   ],
   "source": [
    "start_time = time.time()\n",
    "param_grid = {'max_depth': [4, 6, 8],\n",
    "              'n_estimators': [100, 500, 1000],\n",
    "              'learning_rate': [0.01, 0.05, 0.1],\n",
    "              'subsample': [0.5, 0.75, 1],\n",
    "              'colsample_bytree': [0.5, 0.75, 1.0],\n",
    "              'reg_lambda':[0, 1, 10],\n",
    "              'gamma': [0, 10, 100]}\n",
    "\n",
    "cv = KFold(n_splits=5,shuffle=True,random_state=1)\n",
    "grid_search = RandomizedSearchCV(estimator=xgb.XGBRegressor(random_state=1),                                                       \n",
    "                             param_distributions = param_grid,\n",
    "                                 n_iter = 200,\n",
    "                             verbose = 1,\n",
    "                             n_jobs=-1,\n",
    "                             cv = cv,\n",
    "                          scoring = 'neg_mean_squared_error')\n",
    "grid_result = grid_search.fit(red_train_x, red_train_y)\n",
    "\n",
    "print(\"Best: %f using %s\" % (np.sqrt(-grid_result.best_score_), grid_result.best_params_))\n",
    "print(\"Time taken = \",(time.time()-start_time)/60,\" minutes\")"
   ]
  },
  {
   "cell_type": "code",
   "execution_count": 150,
   "id": "72789e1d",
   "metadata": {},
   "outputs": [
    {
     "name": "stdout",
     "output_type": "stream",
     "text": [
      "Fitting 5 folds for each of 405 candidates, totalling 2025 fits\n",
      "Best: 0.574486 using {'colsample_bytree': 0.5, 'gamma': 0, 'learning_rate': 0.05, 'max_depth': 12, 'n_estimators': 1500, 'reg_lambda': 0.5, 'subsample': 0.9}\n",
      "Time taken =  4.21326855023702  minutes\n"
     ]
    }
   ],
   "source": [
    "start_time = time.time()\n",
    "param_grid = {'max_depth': [8, 9, 10, 11, 12],\n",
    "              'n_estimators': [1000, 1500, 2000],\n",
    "              'learning_rate': [0.05],\n",
    "              'subsample': [0.8, 0.9, 1],\n",
    "              'colsample_bytree': [0.3, 0.4, 0.5],\n",
    "              'reg_lambda':[0, 0.25, 0.5],\n",
    "              'gamma': [0]}\n",
    "\n",
    "cv = KFold(n_splits=5,shuffle=True,random_state=1)\n",
    "grid_search = GridSearchCV(estimator=xgb.XGBRegressor(random_state=1),                                                       \n",
    "                             param_grid = param_grid,\n",
    "                             verbose = 1,\n",
    "                             n_jobs=-1,\n",
    "                             cv = cv,\n",
    "                          scoring = 'neg_mean_squared_error')\n",
    "grid_result = grid_search.fit(red_train_x, red_train_y)\n",
    "\n",
    "print(\"Best: %f using %s\" % (np.sqrt(-grid_result.best_score_), grid_result.best_params_))\n",
    "print(\"Time taken = \",(time.time()-start_time)/60,\" minutes\")"
   ]
  },
  {
   "cell_type": "code",
   "execution_count": 190,
   "id": "9a9fa4aa",
   "metadata": {},
   "outputs": [
    {
     "name": "stdout",
     "output_type": "stream",
     "text": [
      "RMSE for red tuned model:  0.6442049363362563\n",
      "MAE for red tuned model:  0.345\n"
     ]
    }
   ],
   "source": [
    "#manual tune max_depth, subsample, and colsample_bytree\n",
    "red_model_tuned_rmse = xgb.XGBRegressor(random_state = 1, gamma = 0, learning_rate = 0.05, max_depth = 11, n_estimators = 1500,\n",
    "                                  reg_lambda = 0.5, subsample = 1, colsample_bytree = 0.6).fit(red_train_x, red_train_y)\n",
    "mae = mean_absolute_error(red_test_y, np.around(red_model_tuned_rmse.predict(red_test_x)))\n",
    "rmse = np.sqrt(mean_squared_error(red_test_y, np.around(red_model_tuned_rmse.predict(red_test_x))))\n",
    "print(\"RMSE for red tuned model: \", rmse)\n",
    "print('MAE for red tuned model: ', mae)"
   ]
  },
  {
   "cell_type": "markdown",
   "id": "f6449848",
   "metadata": {},
   "source": [
    "## White Model"
   ]
  },
  {
   "cell_type": "code",
   "execution_count": 105,
   "id": "19fe1e02",
   "metadata": {},
   "outputs": [
    {
     "name": "stdout",
     "output_type": "stream",
     "text": [
      "Fitting 5 folds for each of 200 candidates, totalling 1000 fits\n",
      "Best: 0.635257 using {'subsample': 0.75, 'reg_lambda': 0, 'n_estimators': 1000, 'max_depth': 8, 'learning_rate': 0.01, 'gamma': 0, 'colsample_bytree': 0.5}\n",
      "Time taken =  3.8692580978075664  minutes\n"
     ]
    }
   ],
   "source": [
    "start_time = time.time()\n",
    "param_grid = {'max_depth': [4,6,8],\n",
    "              'n_estimators': [100, 500, 1000],\n",
    "              'learning_rate': [0.01, 0.05, 0.1],\n",
    "              'subsample': [0.5, 0.75, 1],\n",
    "              'colsample_bytree': [0.5, 0.75, 1],\n",
    "              'reg_lambda':[0, 1, 10],\n",
    "              'gamma': [0, 10, 100]}\n",
    "\n",
    "cv = KFold(n_splits=5,shuffle=True,random_state=1)\n",
    "grid_search = RandomizedSearchCV(estimator=xgb.XGBRegressor(random_state=1),                                                       \n",
    "                             param_distributions = param_grid,\n",
    "                                 n_iter = 200,\n",
    "                             verbose = 1,\n",
    "                             n_jobs=-1,\n",
    "                             cv = cv,\n",
    "                          scoring = 'neg_mean_squared_error')\n",
    "grid_result = grid_search.fit(white_train_x, white_train_y)\n",
    "\n",
    "print(\"Best: %f using %s\" % (np.sqrt(-grid_result.best_score_), grid_result.best_params_))\n",
    "print(\"Time taken = \",(time.time()-start_time)/60,\" minutes\")"
   ]
  },
  {
   "cell_type": "code",
   "execution_count": 106,
   "id": "eed9d261",
   "metadata": {},
   "outputs": [
    {
     "name": "stdout",
     "output_type": "stream",
     "text": [
      "Fitting 2 folds for each of 120 candidates, totalling 240 fits\n"
     ]
    },
    {
     "name": "stderr",
     "output_type": "stream",
     "text": [
      "/Users/keatonolds/opt/anaconda3/lib/python3.9/site-packages/joblib/externals/loky/process_executor.py:702: UserWarning: A worker stopped while some jobs were given to the executor. This can be caused by a too short worker timeout or by a memory leak.\n",
      "  warnings.warn(\n"
     ]
    },
    {
     "name": "stdout",
     "output_type": "stream",
     "text": [
      "Best: 0.651685 using {'colsample_bytree': 0.5, 'gamma': 0, 'learning_rate': 0.01, 'max_depth': 14, 'n_estimators': 1000, 'reg_lambda': 0.6, 'subsample': 0.75}\n",
      "Time taken =  3.6731221675872803  minutes\n"
     ]
    }
   ],
   "source": [
    "start_time = time.time()\n",
    "param_grid = {'max_depth': [8, 10, 12, 14],\n",
    "              'n_estimators': [1000, 2000, 3000],\n",
    "              'learning_rate': [0.001, 0.01],\n",
    "              'subsample': [0.75],\n",
    "              'colsample_bytree': [0.5],\n",
    "              'reg_lambda':[0, 0.2, 0.4, 0.6, 0.8],\n",
    "              'gamma': [0]}\n",
    "\n",
    "cv = KFold(n_splits=2,shuffle=True,random_state=1)\n",
    "grid_search = GridSearchCV(estimator=xgb.XGBRegressor(random_state=1),                                                       \n",
    "                             param_grid = param_grid,\n",
    "                             verbose = 1,\n",
    "                             n_jobs=-1,\n",
    "                             cv = cv,\n",
    "                          scoring = 'neg_mean_squared_error')\n",
    "grid_result = grid_search.fit(white_train_x, white_train_y)\n",
    "\n",
    "print(\"Best: %f using %s\" % (np.sqrt(-grid_result.best_score_), grid_result.best_params_))\n",
    "print(\"Time taken = \",(time.time()-start_time)/60,\" minutes\")"
   ]
  },
  {
   "cell_type": "code",
   "execution_count": 107,
   "id": "149e9f4e",
   "metadata": {},
   "outputs": [
    {
     "name": "stdout",
     "output_type": "stream",
     "text": [
      "Fitting 5 folds for each of 12 candidates, totalling 60 fits\n",
      "Best: 0.625868 using {'colsample_bytree': 0.5, 'gamma': 0, 'learning_rate': 0.01, 'max_depth': 16, 'n_estimators': 1000, 'reg_lambda': 0.6, 'subsample': 0.75}\n",
      "Time taken =  1.2273271163304647  minutes\n"
     ]
    }
   ],
   "source": [
    "start_time = time.time()\n",
    "param_grid = {'max_depth': [13, 14, 15, 16],\n",
    "              'n_estimators': [500, 1000, 1500],\n",
    "              'learning_rate': [0.01],\n",
    "              'subsample': [0.75],\n",
    "              'colsample_bytree': [0.5],\n",
    "              'reg_lambda':[0.6],\n",
    "              'gamma': [0]}\n",
    "\n",
    "cv = KFold(n_splits=5,shuffle=True,random_state=1)\n",
    "grid_search = GridSearchCV(estimator=xgb.XGBRegressor(random_state=1),                                                       \n",
    "                             param_grid = param_grid,\n",
    "                             verbose = 1,\n",
    "                             n_jobs=-1,\n",
    "                             cv = cv,\n",
    "                          scoring = 'neg_mean_squared_error')\n",
    "grid_result = grid_search.fit(white_train_x, white_train_y)\n",
    "\n",
    "print(\"Best: %f using %s\" % (np.sqrt(-grid_result.best_score_), grid_result.best_params_))\n",
    "print(\"Time taken = \",(time.time()-start_time)/60,\" minutes\")"
   ]
  },
  {
   "cell_type": "code",
   "execution_count": 180,
   "id": "13f7103b",
   "metadata": {},
   "outputs": [
    {
     "name": "stdout",
     "output_type": "stream",
     "text": [
      "RMSE for white tuned model:  0.6279217421667403\n",
      "MAE for white tuned model:  0.33877551020408164\n"
     ]
    }
   ],
   "source": [
    "#manual tuning of max_depth, colsample, and learning_rate\n",
    "white_model_tuned = xgb.XGBRegressor(random_state = 1, gamma = 0, learning_rate = 0.02, max_depth = 9, n_estimators = 1000,\n",
    "                                  reg_lambda = 0.6, subsample = 0.75, colsample_bytree = 0.6).fit(white_train_x, white_train_y)\n",
    "mae = mean_absolute_error(white_test_y, np.around(white_model_tuned.predict(white_test_x)))\n",
    "rmse = np.sqrt(mean_squared_error(white_test_y, np.around(white_model_tuned.predict(white_test_x))))\n",
    "\n",
    "print('RMSE for white tuned model: ', rmse)\n",
    "print('MAE for white tuned model: ', mae)"
   ]
  },
  {
   "cell_type": "markdown",
   "id": "baef0784",
   "metadata": {},
   "source": [
    "## Combined Model"
   ]
  },
  {
   "cell_type": "code",
   "execution_count": 247,
   "id": "8d28bf7d",
   "metadata": {},
   "outputs": [
    {
     "name": "stdout",
     "output_type": "stream",
     "text": [
      "Fitting 5 folds for each of 200 candidates, totalling 1000 fits\n",
      "Best: 0.624159 using {'subsample': 1, 'reg_lambda': 0, 'n_estimators': 1000, 'max_depth': 8, 'learning_rate': 0.01, 'gamma': 0, 'colsample_bytree': 0.5}\n",
      "Time taken =  5.504720747470856  minutes\n"
     ]
    }
   ],
   "source": [
    "start_time = time.time()\n",
    "param_grid = {'max_depth': [4,6,8],\n",
    "              'n_estimators': [100, 500, 1000],\n",
    "              'learning_rate': [0.01, 0.05, 0.1],\n",
    "              'subsample': [0.5, 0.75, 1],\n",
    "              'colsample_bytree': [0.5, 0.75, 1],\n",
    "              'reg_lambda':[0, 1, 10],\n",
    "              'gamma': [0, 10, 100]}\n",
    "\n",
    "cv = KFold(n_splits=5,shuffle=True,random_state=1)\n",
    "grid_search = RandomizedSearchCV(estimator=xgb.XGBRegressor(random_state=1),                                                       \n",
    "                             param_distributions = param_grid,\n",
    "                                 n_iter = 200,\n",
    "                             verbose = 1,\n",
    "                             n_jobs=-1,\n",
    "                             cv = cv,\n",
    "                          scoring = 'neg_mean_squared_error')\n",
    "grid_result_coarse = grid_search.fit(combined_train_x, combined_train_y)\n",
    "\n",
    "print(\"Best: %f using %s\" % (np.sqrt(-grid_result_coarse.best_score_), grid_result_coarse.best_params_))\n",
    "print(\"Time taken = \",(time.time()-start_time)/60,\" minutes\")"
   ]
  },
  {
   "cell_type": "code",
   "execution_count": 248,
   "id": "536fe3aa",
   "metadata": {},
   "outputs": [
    {
     "data": {
      "text/html": [
       "<div>\n",
       "<style scoped>\n",
       "    .dataframe tbody tr th:only-of-type {\n",
       "        vertical-align: middle;\n",
       "    }\n",
       "\n",
       "    .dataframe tbody tr th {\n",
       "        vertical-align: top;\n",
       "    }\n",
       "\n",
       "    .dataframe thead th {\n",
       "        text-align: right;\n",
       "    }\n",
       "</style>\n",
       "<table border=\"1\" class=\"dataframe\">\n",
       "  <thead>\n",
       "    <tr style=\"text-align: right;\">\n",
       "      <th></th>\n",
       "      <th>mean_fit_time</th>\n",
       "      <th>std_fit_time</th>\n",
       "      <th>mean_score_time</th>\n",
       "      <th>std_score_time</th>\n",
       "      <th>param_subsample</th>\n",
       "      <th>param_reg_lambda</th>\n",
       "      <th>param_n_estimators</th>\n",
       "      <th>param_max_depth</th>\n",
       "      <th>param_learning_rate</th>\n",
       "      <th>param_gamma</th>\n",
       "      <th>param_colsample_bytree</th>\n",
       "      <th>params</th>\n",
       "      <th>split0_test_score</th>\n",
       "      <th>split1_test_score</th>\n",
       "      <th>split2_test_score</th>\n",
       "      <th>split3_test_score</th>\n",
       "      <th>split4_test_score</th>\n",
       "      <th>mean_test_score</th>\n",
       "      <th>std_test_score</th>\n",
       "      <th>rank_test_score</th>\n",
       "    </tr>\n",
       "  </thead>\n",
       "  <tbody>\n",
       "    <tr>\n",
       "      <th>0</th>\n",
       "      <td>0.334797</td>\n",
       "      <td>0.009614</td>\n",
       "      <td>0.014031</td>\n",
       "      <td>0.004505</td>\n",
       "      <td>0.5</td>\n",
       "      <td>1</td>\n",
       "      <td>100</td>\n",
       "      <td>4</td>\n",
       "      <td>0.05</td>\n",
       "      <td>10</td>\n",
       "      <td>0.75</td>\n",
       "      <td>{'subsample': 0.5, 'reg_lambda': 1, 'n_estimat...</td>\n",
       "      <td>-0.491454</td>\n",
       "      <td>-0.505492</td>\n",
       "      <td>-0.500274</td>\n",
       "      <td>-0.513091</td>\n",
       "      <td>-0.535161</td>\n",
       "      <td>-0.509094</td>\n",
       "      <td>0.014815</td>\n",
       "      <td>116</td>\n",
       "    </tr>\n",
       "    <tr>\n",
       "      <th>1</th>\n",
       "      <td>4.377103</td>\n",
       "      <td>0.052363</td>\n",
       "      <td>0.036476</td>\n",
       "      <td>0.005284</td>\n",
       "      <td>0.75</td>\n",
       "      <td>10</td>\n",
       "      <td>500</td>\n",
       "      <td>8</td>\n",
       "      <td>0.05</td>\n",
       "      <td>0</td>\n",
       "      <td>1</td>\n",
       "      <td>{'subsample': 0.75, 'reg_lambda': 10, 'n_estim...</td>\n",
       "      <td>-0.399148</td>\n",
       "      <td>-0.373186</td>\n",
       "      <td>-0.392131</td>\n",
       "      <td>-0.405863</td>\n",
       "      <td>-0.409887</td>\n",
       "      <td>-0.396043</td>\n",
       "      <td>0.012926</td>\n",
       "      <td>6</td>\n",
       "    </tr>\n",
       "    <tr>\n",
       "      <th>2</th>\n",
       "      <td>5.015058</td>\n",
       "      <td>0.074045</td>\n",
       "      <td>0.014182</td>\n",
       "      <td>0.009110</td>\n",
       "      <td>1</td>\n",
       "      <td>10</td>\n",
       "      <td>1000</td>\n",
       "      <td>8</td>\n",
       "      <td>0.1</td>\n",
       "      <td>100</td>\n",
       "      <td>0.5</td>\n",
       "      <td>{'subsample': 1, 'reg_lambda': 10, 'n_estimato...</td>\n",
       "      <td>-0.607809</td>\n",
       "      <td>-0.637592</td>\n",
       "      <td>-0.609388</td>\n",
       "      <td>-0.603710</td>\n",
       "      <td>-0.641493</td>\n",
       "      <td>-0.619998</td>\n",
       "      <td>0.016112</td>\n",
       "      <td>126</td>\n",
       "    </tr>\n",
       "    <tr>\n",
       "      <th>3</th>\n",
       "      <td>1.521933</td>\n",
       "      <td>0.017652</td>\n",
       "      <td>0.003518</td>\n",
       "      <td>0.001440</td>\n",
       "      <td>0.5</td>\n",
       "      <td>1</td>\n",
       "      <td>500</td>\n",
       "      <td>4</td>\n",
       "      <td>0.05</td>\n",
       "      <td>100</td>\n",
       "      <td>0.75</td>\n",
       "      <td>{'subsample': 0.5, 'reg_lambda': 1, 'n_estimat...</td>\n",
       "      <td>-0.636521</td>\n",
       "      <td>-0.656821</td>\n",
       "      <td>-0.636604</td>\n",
       "      <td>-0.622515</td>\n",
       "      <td>-0.660190</td>\n",
       "      <td>-0.642530</td>\n",
       "      <td>0.014056</td>\n",
       "      <td>162</td>\n",
       "    </tr>\n",
       "    <tr>\n",
       "      <th>4</th>\n",
       "      <td>3.560316</td>\n",
       "      <td>0.048102</td>\n",
       "      <td>0.005232</td>\n",
       "      <td>0.002044</td>\n",
       "      <td>0.75</td>\n",
       "      <td>1</td>\n",
       "      <td>1000</td>\n",
       "      <td>6</td>\n",
       "      <td>0.05</td>\n",
       "      <td>100</td>\n",
       "      <td>0.5</td>\n",
       "      <td>{'subsample': 0.75, 'reg_lambda': 1, 'n_estima...</td>\n",
       "      <td>-0.614415</td>\n",
       "      <td>-0.640304</td>\n",
       "      <td>-0.615113</td>\n",
       "      <td>-0.611478</td>\n",
       "      <td>-0.645314</td>\n",
       "      <td>-0.625325</td>\n",
       "      <td>0.014415</td>\n",
       "      <td>142</td>\n",
       "    </tr>\n",
       "  </tbody>\n",
       "</table>\n",
       "</div>"
      ],
      "text/plain": [
       "   mean_fit_time  std_fit_time  mean_score_time  std_score_time  \\\n",
       "0       0.334797      0.009614         0.014031        0.004505   \n",
       "1       4.377103      0.052363         0.036476        0.005284   \n",
       "2       5.015058      0.074045         0.014182        0.009110   \n",
       "3       1.521933      0.017652         0.003518        0.001440   \n",
       "4       3.560316      0.048102         0.005232        0.002044   \n",
       "\n",
       "  param_subsample param_reg_lambda param_n_estimators param_max_depth  \\\n",
       "0             0.5                1                100               4   \n",
       "1            0.75               10                500               8   \n",
       "2               1               10               1000               8   \n",
       "3             0.5                1                500               4   \n",
       "4            0.75                1               1000               6   \n",
       "\n",
       "  param_learning_rate param_gamma param_colsample_bytree  \\\n",
       "0                0.05          10                   0.75   \n",
       "1                0.05           0                      1   \n",
       "2                 0.1         100                    0.5   \n",
       "3                0.05         100                   0.75   \n",
       "4                0.05         100                    0.5   \n",
       "\n",
       "                                              params  split0_test_score  \\\n",
       "0  {'subsample': 0.5, 'reg_lambda': 1, 'n_estimat...          -0.491454   \n",
       "1  {'subsample': 0.75, 'reg_lambda': 10, 'n_estim...          -0.399148   \n",
       "2  {'subsample': 1, 'reg_lambda': 10, 'n_estimato...          -0.607809   \n",
       "3  {'subsample': 0.5, 'reg_lambda': 1, 'n_estimat...          -0.636521   \n",
       "4  {'subsample': 0.75, 'reg_lambda': 1, 'n_estima...          -0.614415   \n",
       "\n",
       "   split1_test_score  split2_test_score  split3_test_score  split4_test_score  \\\n",
       "0          -0.505492          -0.500274          -0.513091          -0.535161   \n",
       "1          -0.373186          -0.392131          -0.405863          -0.409887   \n",
       "2          -0.637592          -0.609388          -0.603710          -0.641493   \n",
       "3          -0.656821          -0.636604          -0.622515          -0.660190   \n",
       "4          -0.640304          -0.615113          -0.611478          -0.645314   \n",
       "\n",
       "   mean_test_score  std_test_score  rank_test_score  \n",
       "0        -0.509094        0.014815              116  \n",
       "1        -0.396043        0.012926                6  \n",
       "2        -0.619998        0.016112              126  \n",
       "3        -0.642530        0.014056              162  \n",
       "4        -0.625325        0.014415              142  "
      ]
     },
     "execution_count": 248,
     "metadata": {},
     "output_type": "execute_result"
    }
   ],
   "source": [
    "cv_results_coarse = pd.DataFrame(grid_result_coarse.cv_results_)\n",
    "cv_results_coarse.head()"
   ]
  },
  {
   "cell_type": "code",
   "execution_count": 262,
   "id": "de55dc91",
   "metadata": {},
   "outputs": [
    {
     "data": {
      "image/png": "[encoded data removed]",
      "text/plain": [
       "<Figure size 1008x720 with 6 Axes>"
      ]
     },
     "metadata": {
      "needs_background": "light"
     },
     "output_type": "display_data"
    }
   ],
   "source": [
    "fig, axes = plt.subplots(2,3,figsize=(14,10))\n",
    "plt.subplots_adjust(wspace=0.2)\n",
    "axes[0,0].plot(cv_results_coarse.param_max_depth, -cv_results_coarse.mean_test_score, 'o')\n",
    "axes[0,0].set_ylim([0.2, 0.8])\n",
    "axes[0,0].set_xlabel('Depth')\n",
    "axes[0,0].set_ylabel('K-fold MSE')\n",
    "axes[0,1].plot(cv_results_coarse.param_n_estimators, -cv_results_coarse.mean_test_score, 'o')\n",
    "axes[0,1].set_ylim([0.2, 0.8])\n",
    "axes[0,1].set_xlabel('Estimators')\n",
    "axes[0,1].set_ylabel('K-fold MSE')\n",
    "axes[0,2].plot(cv_results_coarse.param_learning_rate, -cv_results_coarse.mean_test_score, 'o')\n",
    "axes[0,2].set_ylim([0.2, 0.8])\n",
    "axes[0,2].set_xlabel('Learning Rate')\n",
    "axes[0,2].set_ylabel('K-fold MSE')\n",
    "axes[1,0].plot(cv_results_coarse.param_subsample, -cv_results_coarse.mean_test_score, 'o')\n",
    "axes[1,0].set_ylim([0.2, 0.8])\n",
    "axes[1,0].set_xlabel('Subsample')\n",
    "axes[1,0].set_ylabel('K-fold MSE')\n",
    "axes[1,1].plot(cv_results_coarse.param_colsample_bytree, -cv_results_coarse.mean_test_score, 'o')\n",
    "axes[1,1].set_ylim([0.2, 0.8])\n",
    "axes[1,1].set_xlabel('Colsample')\n",
    "axes[1,1].set_ylabel('K-fold MSE')\n",
    "axes[1,2].plot(cv_results_coarse.param_reg_lambda, -cv_results_coarse.mean_test_score, 'o')\n",
    "axes[1,2].set_ylim([0.2, 0.8])\n",
    "axes[1,2].set_xlabel('Reg Lambda')\n",
    "axes[1,2].set_ylabel('K-fold MSE');"
   ]
  },
  {
   "cell_type": "code",
   "execution_count": 263,
   "id": "dfd86b8c",
   "metadata": {},
   "outputs": [
    {
     "data": {
      "text/plain": [
       "Text(0, 0.5, 'K-fold MSE')"
      ]
     },
     "execution_count": 263,
     "metadata": {},
     "output_type": "execute_result"
    },
    {
     "data": {
      "image/png": "[encoded data removed]",
      "text/plain": [
       "<Figure size 1008x720 with 6 Axes>"
      ]
     },
     "metadata": {
      "needs_background": "light"
     },
     "output_type": "display_data"
    }
   ],
   "source": [
    "fig, axes = plt.subplots(2,3,figsize=(14,10))\n",
    "plt.subplots_adjust(wspace=0.2)\n",
    "axes[0,0].plot(cv_results_coarse.param_gamma, -cv_results_coarse.mean_test_score, 'o')\n",
    "axes[0,0].set_ylim([0.2, 0.8])\n",
    "axes[0,0].set_xlabel('Gamma')\n",
    "axes[0,0].set_ylabel('K-fold MSE')"
   ]
  },
  {
   "cell_type": "code",
   "execution_count": 249,
   "id": "3535db15",
   "metadata": {},
   "outputs": [
    {
     "name": "stdout",
     "output_type": "stream",
     "text": [
      "Fitting 5 folds for each of 75 candidates, totalling 375 fits\n"
     ]
    },
    {
     "name": "stderr",
     "output_type": "stream",
     "text": [
      "/Users/keatonolds/opt/anaconda3/lib/python3.9/site-packages/joblib/externals/loky/process_executor.py:702: UserWarning: A worker stopped while some jobs were given to the executor. This can be caused by a too short worker timeout or by a memory leak.\n",
      "  warnings.warn(\n"
     ]
    },
    {
     "name": "stdout",
     "output_type": "stream",
     "text": [
      "Best: 0.619580 using {'colsample_bytree': 0.75, 'gamma': 0, 'learning_rate': 0.05, 'max_depth': 11, 'n_estimators': 300, 'reg_lambda': 2, 'subsample': 0.75}\n",
      "Time taken =  3.5876929998397826  minutes\n"
     ]
    }
   ],
   "source": [
    "start_time = time.time()\n",
    "param_grid = {'max_depth': [8,9,10,11,12],\n",
    "              'n_estimators': [300, 500, 700],\n",
    "              'learning_rate': [0.05],\n",
    "              'subsample': [0.75],\n",
    "              'colsample_bytree': [0.75],\n",
    "              'reg_lambda':[2,4,6,8,10],\n",
    "              'gamma': [0]}\n",
    "\n",
    "cv = KFold(n_splits=5,shuffle=True,random_state=1)\n",
    "grid_search = GridSearchCV(estimator=xgb.XGBRegressor(random_state=1),                                                       \n",
    "                             param_grid = param_grid,\n",
    "                             verbose = 1,\n",
    "                             n_jobs=-1,\n",
    "                             cv = cv,\n",
    "                          scoring = 'neg_mean_squared_error')\n",
    "grid_result_fine = grid_search.fit(combined_train_x, combined_train_y)\n",
    "\n",
    "print(\"Best: %f using %s\" % (np.sqrt(-grid_result_fine.best_score_), grid_result_fine.best_params_))\n",
    "print(\"Time taken = \",(time.time()-start_time)/60,\" minutes\")"
   ]
  },
  {
   "cell_type": "code",
   "execution_count": 250,
   "id": "95beccb4",
   "metadata": {},
   "outputs": [
    {
     "data": {
      "text/html": [
       "<div>\n",
       "<style scoped>\n",
       "    .dataframe tbody tr th:only-of-type {\n",
       "        vertical-align: middle;\n",
       "    }\n",
       "\n",
       "    .dataframe tbody tr th {\n",
       "        vertical-align: top;\n",
       "    }\n",
       "\n",
       "    .dataframe thead th {\n",
       "        text-align: right;\n",
       "    }\n",
       "</style>\n",
       "<table border=\"1\" class=\"dataframe\">\n",
       "  <thead>\n",
       "    <tr style=\"text-align: right;\">\n",
       "      <th></th>\n",
       "      <th>mean_fit_time</th>\n",
       "      <th>std_fit_time</th>\n",
       "      <th>mean_score_time</th>\n",
       "      <th>std_score_time</th>\n",
       "      <th>param_colsample_bytree</th>\n",
       "      <th>param_gamma</th>\n",
       "      <th>param_learning_rate</th>\n",
       "      <th>param_max_depth</th>\n",
       "      <th>param_n_estimators</th>\n",
       "      <th>param_reg_lambda</th>\n",
       "      <th>param_subsample</th>\n",
       "      <th>params</th>\n",
       "      <th>split0_test_score</th>\n",
       "      <th>split1_test_score</th>\n",
       "      <th>split2_test_score</th>\n",
       "      <th>split3_test_score</th>\n",
       "      <th>split4_test_score</th>\n",
       "      <th>mean_test_score</th>\n",
       "      <th>std_test_score</th>\n",
       "      <th>rank_test_score</th>\n",
       "    </tr>\n",
       "  </thead>\n",
       "  <tbody>\n",
       "    <tr>\n",
       "      <th>0</th>\n",
       "      <td>1.982388</td>\n",
       "      <td>0.033330</td>\n",
       "      <td>0.016246</td>\n",
       "      <td>0.004796</td>\n",
       "      <td>0.75</td>\n",
       "      <td>0</td>\n",
       "      <td>0.05</td>\n",
       "      <td>8</td>\n",
       "      <td>300</td>\n",
       "      <td>2</td>\n",
       "      <td>0.75</td>\n",
       "      <td>{'colsample_bytree': 0.75, 'gamma': 0, 'learni...</td>\n",
       "      <td>-0.399407</td>\n",
       "      <td>-0.367659</td>\n",
       "      <td>-0.393171</td>\n",
       "      <td>-0.402273</td>\n",
       "      <td>-0.414168</td>\n",
       "      <td>-0.395336</td>\n",
       "      <td>0.015427</td>\n",
       "      <td>72</td>\n",
       "    </tr>\n",
       "    <tr>\n",
       "      <th>1</th>\n",
       "      <td>1.933444</td>\n",
       "      <td>0.042108</td>\n",
       "      <td>0.018848</td>\n",
       "      <td>0.007318</td>\n",
       "      <td>0.75</td>\n",
       "      <td>0</td>\n",
       "      <td>0.05</td>\n",
       "      <td>8</td>\n",
       "      <td>300</td>\n",
       "      <td>4</td>\n",
       "      <td>0.75</td>\n",
       "      <td>{'colsample_bytree': 0.75, 'gamma': 0, 'learni...</td>\n",
       "      <td>-0.398254</td>\n",
       "      <td>-0.367278</td>\n",
       "      <td>-0.391557</td>\n",
       "      <td>-0.402240</td>\n",
       "      <td>-0.411171</td>\n",
       "      <td>-0.394100</td>\n",
       "      <td>0.014838</td>\n",
       "      <td>69</td>\n",
       "    </tr>\n",
       "    <tr>\n",
       "      <th>2</th>\n",
       "      <td>1.875898</td>\n",
       "      <td>0.018725</td>\n",
       "      <td>0.048756</td>\n",
       "      <td>0.021021</td>\n",
       "      <td>0.75</td>\n",
       "      <td>0</td>\n",
       "      <td>0.05</td>\n",
       "      <td>8</td>\n",
       "      <td>300</td>\n",
       "      <td>6</td>\n",
       "      <td>0.75</td>\n",
       "      <td>{'colsample_bytree': 0.75, 'gamma': 0, 'learni...</td>\n",
       "      <td>-0.398886</td>\n",
       "      <td>-0.373083</td>\n",
       "      <td>-0.390820</td>\n",
       "      <td>-0.403892</td>\n",
       "      <td>-0.413608</td>\n",
       "      <td>-0.396058</td>\n",
       "      <td>0.013658</td>\n",
       "      <td>73</td>\n",
       "    </tr>\n",
       "    <tr>\n",
       "      <th>3</th>\n",
       "      <td>1.976302</td>\n",
       "      <td>0.062502</td>\n",
       "      <td>0.024439</td>\n",
       "      <td>0.008567</td>\n",
       "      <td>0.75</td>\n",
       "      <td>0</td>\n",
       "      <td>0.05</td>\n",
       "      <td>8</td>\n",
       "      <td>300</td>\n",
       "      <td>8</td>\n",
       "      <td>0.75</td>\n",
       "      <td>{'colsample_bytree': 0.75, 'gamma': 0, 'learni...</td>\n",
       "      <td>-0.402882</td>\n",
       "      <td>-0.370360</td>\n",
       "      <td>-0.393368</td>\n",
       "      <td>-0.400866</td>\n",
       "      <td>-0.418027</td>\n",
       "      <td>-0.397101</td>\n",
       "      <td>0.015585</td>\n",
       "      <td>74</td>\n",
       "    </tr>\n",
       "    <tr>\n",
       "      <th>4</th>\n",
       "      <td>1.930929</td>\n",
       "      <td>0.076824</td>\n",
       "      <td>0.016630</td>\n",
       "      <td>0.002593</td>\n",
       "      <td>0.75</td>\n",
       "      <td>0</td>\n",
       "      <td>0.05</td>\n",
       "      <td>8</td>\n",
       "      <td>300</td>\n",
       "      <td>10</td>\n",
       "      <td>0.75</td>\n",
       "      <td>{'colsample_bytree': 0.75, 'gamma': 0, 'learni...</td>\n",
       "      <td>-0.399795</td>\n",
       "      <td>-0.371826</td>\n",
       "      <td>-0.391245</td>\n",
       "      <td>-0.405734</td>\n",
       "      <td>-0.418479</td>\n",
       "      <td>-0.397416</td>\n",
       "      <td>0.015566</td>\n",
       "      <td>75</td>\n",
       "    </tr>\n",
       "  </tbody>\n",
       "</table>\n",
       "</div>"
      ],
      "text/plain": [
       "   mean_fit_time  std_fit_time  mean_score_time  std_score_time  \\\n",
       "0       1.982388      0.033330         0.016246        0.004796   \n",
       "1       1.933444      0.042108         0.018848        0.007318   \n",
       "2       1.875898      0.018725         0.048756        0.021021   \n",
       "3       1.976302      0.062502         0.024439        0.008567   \n",
       "4       1.930929      0.076824         0.016630        0.002593   \n",
       "\n",
       "  param_colsample_bytree param_gamma param_learning_rate param_max_depth  \\\n",
       "0                   0.75           0                0.05               8   \n",
       "1                   0.75           0                0.05               8   \n",
       "2                   0.75           0                0.05               8   \n",
       "3                   0.75           0                0.05               8   \n",
       "4                   0.75           0                0.05               8   \n",
       "\n",
       "  param_n_estimators param_reg_lambda param_subsample  \\\n",
       "0                300                2            0.75   \n",
       "1                300                4            0.75   \n",
       "2                300                6            0.75   \n",
       "3                300                8            0.75   \n",
       "4                300               10            0.75   \n",
       "\n",
       "                                              params  split0_test_score  \\\n",
       "0  {'colsample_bytree': 0.75, 'gamma': 0, 'learni...          -0.399407   \n",
       "1  {'colsample_bytree': 0.75, 'gamma': 0, 'learni...          -0.398254   \n",
       "2  {'colsample_bytree': 0.75, 'gamma': 0, 'learni...          -0.398886   \n",
       "3  {'colsample_bytree': 0.75, 'gamma': 0, 'learni...          -0.402882   \n",
       "4  {'colsample_bytree': 0.75, 'gamma': 0, 'learni...          -0.399795   \n",
       "\n",
       "   split1_test_score  split2_test_score  split3_test_score  split4_test_score  \\\n",
       "0          -0.367659          -0.393171          -0.402273          -0.414168   \n",
       "1          -0.367278          -0.391557          -0.402240          -0.411171   \n",
       "2          -0.373083          -0.390820          -0.403892          -0.413608   \n",
       "3          -0.370360          -0.393368          -0.400866          -0.418027   \n",
       "4          -0.371826          -0.391245          -0.405734          -0.418479   \n",
       "\n",
       "   mean_test_score  std_test_score  rank_test_score  \n",
       "0        -0.395336        0.015427               72  \n",
       "1        -0.394100        0.014838               69  \n",
       "2        -0.396058        0.013658               73  \n",
       "3        -0.397101        0.015585               74  \n",
       "4        -0.397416        0.015566               75  "
      ]
     },
     "execution_count": 250,
     "metadata": {},
     "output_type": "execute_result"
    }
   ],
   "source": [
    "cv_results_fine = pd.DataFrame(grid_result_fine.cv_results_)"
   ]
  },
  {
   "cell_type": "code",
   "execution_count": 259,
   "id": "7faceff0",
   "metadata": {},
   "outputs": [
    {
     "data": {
      "image/png": "[encoded data removed]",
      "text/plain": [
       "<Figure size 1008x360 with 3 Axes>"
      ]
     },
     "metadata": {
      "needs_background": "light"
     },
     "output_type": "display_data"
    }
   ],
   "source": [
    "fig, axes = plt.subplots(1,3,figsize=(14,5))\n",
    "plt.subplots_adjust(wspace=0.2)\n",
    "axes[0].plot(cv_results_fine.param_max_depth, -cv_results_fine.mean_test_score, 'o')\n",
    "axes[0].set_ylim([0.35, 0.45])\n",
    "axes[0].set_xlabel('Depth')\n",
    "axes[0].set_ylabel('K-fold MSE')\n",
    "axes[1].plot(cv_results_fine.param_n_estimators, -cv_results_fine.mean_test_score, 'o')\n",
    "axes[1].set_ylim([0.35, 0.45])\n",
    "axes[1].set_xlabel('Estimators')\n",
    "axes[1].set_ylabel('K-fold MSE')\n",
    "axes[2].plot(cv_results_fine.param_reg_lambda, -cv_results_fine.mean_test_score, 'o')\n",
    "axes[2].set_ylim([0.35, 0.45])\n",
    "axes[2].set_xlabel('Reg Lambda')\n",
    "axes[2].set_ylabel('K-fold MSE');"
   ]
  },
  {
   "cell_type": "code",
   "execution_count": 310,
   "id": "53d91e4d",
   "metadata": {},
   "outputs": [
    {
     "name": "stdout",
     "output_type": "stream",
     "text": [
      "RMSE for combined tuned model:  0.6401922788086044\n",
      "MAE for combined tuned model:  0.34584615384615386\n"
     ]
    }
   ],
   "source": [
    "#manual tuning of learning_rate\n",
    "combined_model_tuned = xgb.XGBRegressor(random_state = 1, gamma = 0, learning_rate = 0.07, max_depth = 11, n_estimators = 300,\n",
    "                                  reg_lambda = 2, subsample = 0.75, colsample_bytree = 0.75).fit(combined_train_x, combined_train_y)\n",
    "mae = mean_absolute_error(combined_test_y, np.around(combined_model_tuned.predict(combined_test_x)))\n",
    "rmse = np.sqrt(mean_squared_error(combined_test_y, np.around(combined_model_tuned.predict(combined_test_x))))\n",
    "\n",
    "print('RMSE for combined tuned model: ', rmse)\n",
    "print('MAE for combined tuned model: ', mae)"
   ]
  },
  {
   "cell_type": "code",
   "execution_count": 297,
   "id": "680fc95c",
   "metadata": {},
   "outputs": [
    {
     "data": {
      "text/html": [
       "<div>\n",
       "<style scoped>\n",
       "    .dataframe tbody tr th:only-of-type {\n",
       "        vertical-align: middle;\n",
       "    }\n",
       "\n",
       "    .dataframe tbody tr th {\n",
       "        vertical-align: top;\n",
       "    }\n",
       "\n",
       "    .dataframe thead th {\n",
       "        text-align: right;\n",
       "    }\n",
       "</style>\n",
       "<table border=\"1\" class=\"dataframe\">\n",
       "  <thead>\n",
       "    <tr style=\"text-align: right;\">\n",
       "      <th></th>\n",
       "      <th>Predictor</th>\n",
       "      <th>Importance</th>\n",
       "    </tr>\n",
       "  </thead>\n",
       "  <tbody>\n",
       "    <tr>\n",
       "      <th>11</th>\n",
       "      <td>type_red</td>\n",
       "      <td>0.197583</td>\n",
       "    </tr>\n",
       "    <tr>\n",
       "      <th>10</th>\n",
       "      <td>alcohol</td>\n",
       "      <td>0.183607</td>\n",
       "    </tr>\n",
       "    <tr>\n",
       "      <th>12</th>\n",
       "      <td>type_white</td>\n",
       "      <td>0.153492</td>\n",
       "    </tr>\n",
       "    <tr>\n",
       "      <th>9</th>\n",
       "      <td>sulphates</td>\n",
       "      <td>0.061978</td>\n",
       "    </tr>\n",
       "    <tr>\n",
       "      <th>5</th>\n",
       "      <td>free sulfur dioxide</td>\n",
       "      <td>0.057157</td>\n",
       "    </tr>\n",
       "    <tr>\n",
       "      <th>6</th>\n",
       "      <td>total sulfur dioxide</td>\n",
       "      <td>0.052034</td>\n",
       "    </tr>\n",
       "    <tr>\n",
       "      <th>7</th>\n",
       "      <td>density</td>\n",
       "      <td>0.051388</td>\n",
       "    </tr>\n",
       "    <tr>\n",
       "      <th>4</th>\n",
       "      <td>chlorides</td>\n",
       "      <td>0.047413</td>\n",
       "    </tr>\n",
       "    <tr>\n",
       "      <th>8</th>\n",
       "      <td>pH</td>\n",
       "      <td>0.046766</td>\n",
       "    </tr>\n",
       "    <tr>\n",
       "      <th>3</th>\n",
       "      <td>residual sugar</td>\n",
       "      <td>0.044626</td>\n",
       "    </tr>\n",
       "    <tr>\n",
       "      <th>1</th>\n",
       "      <td>volatile acidity</td>\n",
       "      <td>0.041590</td>\n",
       "    </tr>\n",
       "    <tr>\n",
       "      <th>2</th>\n",
       "      <td>citric acid</td>\n",
       "      <td>0.039622</td>\n",
       "    </tr>\n",
       "    <tr>\n",
       "      <th>0</th>\n",
       "      <td>fixed acidity</td>\n",
       "      <td>0.022743</td>\n",
       "    </tr>\n",
       "  </tbody>\n",
       "</table>\n",
       "</div>"
      ],
      "text/plain": [
       "               Predictor  Importance\n",
       "11              type_red    0.197583\n",
       "10               alcohol    0.183607\n",
       "12            type_white    0.153492\n",
       "9              sulphates    0.061978\n",
       "5    free sulfur dioxide    0.057157\n",
       "6   total sulfur dioxide    0.052034\n",
       "7                density    0.051388\n",
       "4              chlorides    0.047413\n",
       "8                     pH    0.046766\n",
       "3         residual sugar    0.044626\n",
       "1       volatile acidity    0.041590\n",
       "2            citric acid    0.039622\n",
       "0          fixed acidity    0.022743"
      ]
     },
     "execution_count": 297,
     "metadata": {},
     "output_type": "execute_result"
    }
   ],
   "source": [
    "importance = list(combined_model_tuned.feature_importances_)\n",
    "pred = list(combined_model_tuned.feature_names_in_)\n",
    "d = {'Predictor': pred, 'Importance': importance}\n",
    "df = pd.DataFrame(data = d)\n",
    "df.sort_values(by = 'Importance', ascending = False)"
   ]
  },
  {
   "cell_type": "code",
   "execution_count": 212,
   "id": "4e2b3bb6",
   "metadata": {},
   "outputs": [
    {
     "data": {
      "text/plain": [
       "0       6\n",
       "1       6\n",
       "2       5\n",
       "3       5\n",
       "4       6\n",
       "       ..\n",
       "1620    6\n",
       "1621    5\n",
       "1622    6\n",
       "1623    6\n",
       "1624    6\n",
       "Length: 1625, dtype: int64"
      ]
     },
     "execution_count": 212,
     "metadata": {},
     "output_type": "execute_result"
    }
   ],
   "source": [
    "preds = np.around(combined_model_tuned.predict(combined_test_x)).astype(int)\n",
    "preds = pd.Series(preds)\n",
    "preds"
   ]
  },
  {
   "cell_type": "code",
   "execution_count": 208,
   "id": "888fcf42",
   "metadata": {},
   "outputs": [
    {
     "data": {
      "text/plain": [
       "0       6\n",
       "1       5\n",
       "2       5\n",
       "3       6\n",
       "4       6\n",
       "       ..\n",
       "1620    6\n",
       "1621    5\n",
       "1622    6\n",
       "1623    7\n",
       "1624    6\n",
       "Name: quality, Length: 1625, dtype: int64"
      ]
     },
     "execution_count": 208,
     "metadata": {},
     "output_type": "execute_result"
    }
   ],
   "source": [
    "actual = combined_test_y.squeeze()\n",
    "actual"
   ]
  },
  {
   "cell_type": "code",
   "execution_count": 214,
   "id": "b90cf762",
   "metadata": {},
   "outputs": [
    {
     "data": {
      "text/html": [
       "<div>\n",
       "<style scoped>\n",
       "    .dataframe tbody tr th:only-of-type {\n",
       "        vertical-align: middle;\n",
       "    }\n",
       "\n",
       "    .dataframe tbody tr th {\n",
       "        vertical-align: top;\n",
       "    }\n",
       "\n",
       "    .dataframe thead th {\n",
       "        text-align: right;\n",
       "    }\n",
       "</style>\n",
       "<table border=\"1\" class=\"dataframe\">\n",
       "  <thead>\n",
       "    <tr style=\"text-align: right;\">\n",
       "      <th></th>\n",
       "      <th>actual</th>\n",
       "      <th>predicted</th>\n",
       "    </tr>\n",
       "  </thead>\n",
       "  <tbody>\n",
       "    <tr>\n",
       "      <th>0</th>\n",
       "      <td>6</td>\n",
       "      <td>6</td>\n",
       "    </tr>\n",
       "    <tr>\n",
       "      <th>1</th>\n",
       "      <td>5</td>\n",
       "      <td>6</td>\n",
       "    </tr>\n",
       "    <tr>\n",
       "      <th>2</th>\n",
       "      <td>5</td>\n",
       "      <td>5</td>\n",
       "    </tr>\n",
       "    <tr>\n",
       "      <th>3</th>\n",
       "      <td>6</td>\n",
       "      <td>5</td>\n",
       "    </tr>\n",
       "    <tr>\n",
       "      <th>4</th>\n",
       "      <td>6</td>\n",
       "      <td>6</td>\n",
       "    </tr>\n",
       "    <tr>\n",
       "      <th>...</th>\n",
       "      <td>...</td>\n",
       "      <td>...</td>\n",
       "    </tr>\n",
       "    <tr>\n",
       "      <th>1620</th>\n",
       "      <td>6</td>\n",
       "      <td>6</td>\n",
       "    </tr>\n",
       "    <tr>\n",
       "      <th>1621</th>\n",
       "      <td>5</td>\n",
       "      <td>5</td>\n",
       "    </tr>\n",
       "    <tr>\n",
       "      <th>1622</th>\n",
       "      <td>6</td>\n",
       "      <td>6</td>\n",
       "    </tr>\n",
       "    <tr>\n",
       "      <th>1623</th>\n",
       "      <td>7</td>\n",
       "      <td>6</td>\n",
       "    </tr>\n",
       "    <tr>\n",
       "      <th>1624</th>\n",
       "      <td>6</td>\n",
       "      <td>6</td>\n",
       "    </tr>\n",
       "  </tbody>\n",
       "</table>\n",
       "<p>1625 rows × 2 columns</p>\n",
       "</div>"
      ],
      "text/plain": [
       "      actual  predicted\n",
       "0          6          6\n",
       "1          5          6\n",
       "2          5          5\n",
       "3          6          5\n",
       "4          6          6\n",
       "...      ...        ...\n",
       "1620       6          6\n",
       "1621       5          5\n",
       "1622       6          6\n",
       "1623       7          6\n",
       "1624       6          6\n",
       "\n",
       "[1625 rows x 2 columns]"
      ]
     },
     "execution_count": 214,
     "metadata": {},
     "output_type": "execute_result"
    }
   ],
   "source": [
    "d = {'actual': actual, 'predicted': preds}\n",
    "data = pd.DataFrame(data=d)\n",
    "data"
   ]
  },
  {
   "cell_type": "code",
   "execution_count": 228,
   "id": "93b993a3",
   "metadata": {},
   "outputs": [
    {
     "data": {
      "image/png": "[encoded data removed]",
      "text/plain": [
       "<Figure size 432x288 with 1 Axes>"
      ]
     },
     "metadata": {
      "needs_background": "light"
     },
     "output_type": "display_data"
    }
   ],
   "source": [
    "plt.scatter(actual, preds)\n",
    "z = np.polyfit(actual, preds, 1)\n",
    "p = np.poly1d(z)\n",
    "plt.plot(actual, p(actual), color = 'orange')\n",
    "plt.xlim(2.5, 9.5)\n",
    "plt.ylim(2.5, 9.5)\n",
    "plt.title('XGBoost Predicted Values vs. Actual Values')\n",
    "plt.xlabel(\"Actual Value\")\n",
    "plt.ylabel(\"Predicted Value\")\n",
    "plt.show()"
   ]
  },
  {
   "cell_type": "markdown",
   "id": "dc97b3df",
   "metadata": {},
   "source": [
    "# Try Reduce Overfitting"
   ]
  },
  {
   "cell_type": "code",
   "execution_count": 35,
   "id": "aa229014",
   "metadata": {},
   "outputs": [
    {
     "name": "stdout",
     "output_type": "stream",
     "text": [
      "RMSE for combined tuned model:  0.6401922788086044\n",
      "MAE for combined tuned model:  0.34584615384615386\n"
     ]
    }
   ],
   "source": [
    "combined_model_tuned_2 = xgb.XGBRegressor(random_state = 1, gamma = 0, learning_rate = 0.07, max_depth = 11, n_estimators = 300,\n",
    "                                  reg_lambda = 2, subsample = 0.75, colsample_bytree = 0.75).fit(combined_train_x, combined_train_y)\n",
    "mae = mean_absolute_error(combined_test_y, np.around(combined_model_tuned_2.predict(combined_test_x)))\n",
    "rmse = np.sqrt(mean_squared_error(combined_test_y, np.around(combined_model_tuned_2.predict(combined_test_x))))\n",
    "\n",
    "print('RMSE for combined tuned model: ', rmse)\n",
    "print('MAE for combined tuned model: ', mae)"
   ]
  },
  {
   "cell_type": "code",
   "execution_count": 36,
   "id": "4418b3a6",
   "metadata": {},
   "outputs": [
    {
     "data": {
      "text/plain": [
       "0.0"
      ]
     },
     "execution_count": 36,
     "metadata": {},
     "output_type": "execute_result"
    }
   ],
   "source": [
    "np.sqrt(mean_squared_error(combined_train_y, np.around(combined_model_tuned_2.predict(combined_train_x))))"
   ]
  },
  {
   "cell_type": "markdown",
   "id": "aea68b09",
   "metadata": {},
   "source": [
    "# Summary"
   ]
  },
  {
   "cell_type": "markdown",
   "id": "55c3d606",
   "metadata": {},
   "source": [
    "## Red Wine"
   ]
  },
  {
   "cell_type": "markdown",
   "id": "bbd6d7e4",
   "metadata": {},
   "source": [
    "Base model MAE: 0.423; Base model RMSE: 0.705"
   ]
  },
  {
   "cell_type": "markdown",
   "id": "060e9c5e",
   "metadata": {},
   "source": [
    "Tuned model MAE: 0.345; Tuned model RMSE: 0.644"
   ]
  },
  {
   "cell_type": "markdown",
   "id": "2544025e",
   "metadata": {},
   "source": [
    "MAE Improvement: 0.078 (18.44%); RMSE Improvement: 0.061 (8.65%)"
   ]
  },
  {
   "cell_type": "markdown",
   "id": "9fb96144",
   "metadata": {},
   "source": [
    "## White Wine"
   ]
  },
  {
   "cell_type": "markdown",
   "id": "7890be4f",
   "metadata": {},
   "source": [
    "Base model MAE:  0.376; Base model RMSE: 0.674"
   ]
  },
  {
   "cell_type": "markdown",
   "id": "5b73bbf6",
   "metadata": {},
   "source": [
    "Tuned model MAE: 0.339; Tuned model RMSE: 0.628"
   ]
  },
  {
   "cell_type": "markdown",
   "id": "6d48005d",
   "metadata": {},
   "source": [
    "Improvement: 0.037 (9.84%); RMSE Improvement: 0.046 (6.82%)"
   ]
  },
  {
   "cell_type": "markdown",
   "id": "6181724a",
   "metadata": {},
   "source": [
    "## Combined Wines"
   ]
  },
  {
   "cell_type": "markdown",
   "id": "35514ef3",
   "metadata": {},
   "source": [
    "Base model MAE: 0.394; Base model RMSE: 0.690"
   ]
  },
  {
   "cell_type": "markdown",
   "id": "aef472a6",
   "metadata": {},
   "source": [
    "Tuned model MAE: 0.346; Tuned model RMSE: 0.640"
   ]
  },
  {
   "cell_type": "markdown",
   "id": "a59159dc",
   "metadata": {},
   "source": [
    "Improvement: 0.048 (12.18%); RMSE Improvement: 0.05 (7.25%)"
   ]
  },
  {
   "cell_type": "code",
   "execution_count": 266,
   "id": "12f7dfde",
   "metadata": {},
   "outputs": [
    {
     "name": "stdout",
     "output_type": "stream",
     "text": [
      "Fitting 5 folds for each of 200 candidates, totalling 1000 fits\n",
      "Best: 0.652146 using {'subsample': 0.75, 'reg_lambda': 0, 'n_estimators': 1000, 'max_depth': 8, 'learning_rate': 0.05, 'gamma': 0, 'colsample_bytree': 0.5}\n",
      "Time taken =  7.241981931527456  minutes\n"
     ]
    }
   ],
   "source": [
    "start_time = time.time()\n",
    "param_grid = {'max_depth': [4,6,8],\n",
    "              'n_estimators': [100, 500, 1000],\n",
    "              'learning_rate': [0.01, 0.05, 0.1],\n",
    "              'subsample': [0.5, 0.75, 1],\n",
    "              'colsample_bytree': [0.5, 0.75, 1],\n",
    "              'reg_lambda':[0, 1, 10],\n",
    "              'gamma': [0, 10, 100]}\n",
    "\n",
    "cv = KFold(n_splits=5,shuffle=True,random_state=1)\n",
    "grid_search = RandomizedSearchCV(estimator=xgb.XGBRegressor(random_state=1),                                                       \n",
    "                             param_distributions = param_grid,\n",
    "                                 n_iter = 200,\n",
    "                             verbose = 1,\n",
    "                             n_jobs=-1,\n",
    "                             cv = cv,\n",
    "                          scoring = 'neg_mean_absolute_error')\n",
    "grid_result_coarse = grid_search.fit(combined_train_x, combined_train_y)\n",
    "\n",
    "print(\"Best: %f using %s\" % (np.sqrt(-grid_result_coarse.best_score_), grid_result_coarse.best_params_))\n",
    "print(\"Time taken = \",(time.time()-start_time)/60,\" minutes\")"
   ]
  },
  {
   "cell_type": "code",
   "execution_count": 267,
   "id": "faaee097",
   "metadata": {},
   "outputs": [
    {
     "name": "stdout",
     "output_type": "stream",
     "text": [
      "Fitting 5 folds for each of 45 candidates, totalling 225 fits\n",
      "Best: 0.617126 using {'colsample_bytree': 0.5, 'gamma': 0, 'learning_rate': 0.05, 'max_depth': 12, 'n_estimators': 1000, 'reg_lambda': 0.5, 'subsample': 0.75}\n",
      "Time taken =  3.721790067354838  minutes\n"
     ]
    }
   ],
   "source": [
    "start_time = time.time()\n",
    "param_grid = {'max_depth': [8,9,10,11,12],\n",
    "              'n_estimators': [1000, 1500, 2000],\n",
    "              'learning_rate': [0.05],\n",
    "              'subsample': [0.75],\n",
    "              'colsample_bytree': [0.5],\n",
    "              'reg_lambda':[0, 0.25, 0.5],\n",
    "              'gamma': [0]}\n",
    "\n",
    "cv = KFold(n_splits=5,shuffle=True,random_state=1)\n",
    "grid_search = GridSearchCV(estimator=xgb.XGBRegressor(random_state=1),                                                       \n",
    "                             param_grid = param_grid,\n",
    "                             verbose = 1,\n",
    "                             n_jobs=-1,\n",
    "                             cv = cv,\n",
    "                          scoring = 'neg_mean_squared_error')\n",
    "grid_result_fine = grid_search.fit(combined_train_x, combined_train_y)\n",
    "\n",
    "print(\"Best: %f using %s\" % (np.sqrt(-grid_result_fine.best_score_), grid_result_fine.best_params_))\n",
    "print(\"Time taken = \",(time.time()-start_time)/60,\" minutes\")"
   ]
  },
  {
   "cell_type": "code",
   "execution_count": 291,
   "id": "fa770f7e",
   "metadata": {},
   "outputs": [
    {
     "name": "stdout",
     "output_type": "stream",
     "text": [
      "RMSE for combined tuned model:  0.6421119001448987\n",
      "MAE for combined tuned model:  0.34584615384615386\n"
     ]
    }
   ],
   "source": [
    "#manual tuning of learning_rate\n",
    "combined_model_tuned_mae = xgb.XGBRegressor(random_state = 1, gamma = 0, learning_rate = 0.05, max_depth = 14, n_estimators = 1000,\n",
    "                                  reg_lambda = 2, subsample = 0.6, colsample_bytree = 0.75).fit(combined_train_x, combined_train_y)\n",
    "mae = mean_absolute_error(combined_test_y, np.around(combined_model_tuned_mae.predict(combined_test_x)))\n",
    "rmse = np.sqrt(mean_squared_error(combined_test_y, np.around(combined_model_tuned_mae.predict(combined_test_x))))\n",
    "\n",
    "print('RMSE for combined tuned model: ', rmse)\n",
    "print('MAE for combined tuned model: ', mae)"
   ]
  },
  {
   "cell_type": "code",
   "execution_count": 300,
   "id": "9c066c43",
   "metadata": {},
   "outputs": [],
   "source": [
    "red_preds = pd.Series(np.around(red_model_tuned.predict(red_test_x)))\n",
    "white_preds = pd.Series(np.around(white_model_tuned.predict(white_test_x)))\n",
    "comb_pred = pd.concat([red_preds, white_preds])\n",
    "comb_train = pd.concat([red_test_y, white_test_y])"
   ]
  },
  {
   "cell_type": "code",
   "execution_count": 305,
   "id": "588de430",
   "metadata": {},
   "outputs": [
    {
     "data": {
      "text/plain": [
       "0.6373020054525532"
      ]
     },
     "execution_count": 305,
     "metadata": {},
     "output_type": "execute_result"
    }
   ],
   "source": [
    "rmse = np.sqrt(mean_squared_error(comb_train, comb_pred))\n",
    "rmse"
   ]
  },
  {
   "cell_type": "code",
   "execution_count": 309,
   "id": "6c1a9d86",
   "metadata": {},
   "outputs": [
    {
     "data": {
      "text/plain": [
       "0.0"
      ]
     },
     "execution_count": 309,
     "metadata": {},
     "output_type": "execute_result"
    }
   ],
   "source": [
    "np.sqrt(mean_squared_error(combined_train_y, np.around(combined_model_tuned.predict(combined_train_x))))"
   ]
  },
  {
   "cell_type": "code",
   "execution_count": null,
   "id": "ec795da5",
   "metadata": {},
   "outputs": [],
   "source": []
  }
 ],
 "metadata": {
  "kernelspec": {
   "display_name": "Python 3 (ipykernel)",
   "language": "python",
   "name": "python3"
  },
  "language_info": {
   "codemirror_mode": {
    "name": "ipython",
    "version": 3
   },
   "file_extension": ".py",
   "mimetype": "text/x-python",
   "name": "python",
   "nbconvert_exporter": "python",
   "pygments_lexer": "ipython3",
   "version": "3.9.12"
  }
 },
 "nbformat": 4,
 "nbformat_minor": 5
}
